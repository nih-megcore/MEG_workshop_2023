{
 "cells": [
  {
   "cell_type": "markdown",
   "id": "6b06d087-2c4a-4c72-b974-5551e170aa06",
   "metadata": {},
   "source": [
    "# General Template -- change"
   ]
  },
  {
   "cell_type": "code",
   "execution_count": null,
   "id": "21b4b617-32d2-4d92-ab12-b8016e25a2f1",
   "metadata": {},
   "outputs": [],
   "source": [
    "raw = raw.load_data() "
   ]
  },
  {
   "cell_type": "code",
   "execution_count": null,
   "id": "7083a9fa-5083-4b7d-80a8-1c81237696ef",
   "metadata": {},
   "outputs": [],
   "source": [
    "raw.resample(300)\n",
    "\n",
    "raw.filter(1, None) "
   ]
  },
  {
   "cell_type": "markdown",
   "id": "47cb22d3-bce0-4560-8dc1-5970f70acf3c",
   "metadata": {},
   "source": [
    "## Spectral resolution based on the different length of dataset"
   ]
  },
  {
   "cell_type": "code",
   "execution_count": null,
   "id": "3a6c6642-b399-40e7-a09c-cc2768f9e3fe",
   "metadata": {},
   "outputs": [],
   "source": [
    "%matplotlib inline\n",
    "_ = raw.plot_psd()"
   ]
  },
  {
   "cell_type": "markdown",
   "id": "a002f354-b0bf-45d9-8051-124a39213885",
   "metadata": {},
   "source": [
    "## Discuss difference between highpass and lowpass filtering and notch filtering"
   ]
  },
  {
   "cell_type": "code",
   "execution_count": null,
   "id": "84953507-b737-4fa6-81b1-c9db9f91f37b",
   "metadata": {},
   "outputs": [],
   "source": [
    "raw.notch_filter([60,120])\n",
    "_ = raw.plot_psd()"
   ]
  },
  {
   "cell_type": "markdown",
   "id": "580bb7e2-98b0-470d-a589-d35343263ffa",
   "metadata": {},
   "source": [
    "### Smaller window of spectrum"
   ]
  },
  {
   "cell_type": "code",
   "execution_count": null,
   "id": "995952b5-152c-44d6-87cc-25b80b957a1d",
   "metadata": {},
   "outputs": [],
   "source": [
    "%matplotlib inline\n",
    "_ = raw.plot_psd(fmin=3, fmax=45, n_overlap=.5)"
   ]
  },
  {
   "cell_type": "markdown",
   "id": "20848bc8-3000-4750-a2bb-18348c37a77b",
   "metadata": {},
   "source": [
    "## Plot spectral information on the channel plots"
   ]
  },
  {
   "cell_type": "code",
   "execution_count": null,
   "id": "080e7663-0253-4474-880a-cfacd5a9685c",
   "metadata": {},
   "outputs": [],
   "source": []
  },
  {
   "cell_type": "markdown",
   "id": "832f9858-47df-426d-8a99-be8c8648af44",
   "metadata": {},
   "source": [
    "## Multitaper spectral smoothing"
   ]
  },
  {
   "cell_type": "code",
   "execution_count": null,
   "id": "ad3fc815-ea6d-431a-8eb6-53b9047d6635",
   "metadata": {},
   "outputs": [],
   "source": []
  },
  {
   "cell_type": "markdown",
   "id": "0c48c143-88a4-44f0-92e9-ad104a31555f",
   "metadata": {},
   "source": [
    "# Temporal assessment of frequency bands"
   ]
  },
  {
   "cell_type": "markdown",
   "id": "0c74ddef-49c8-4b83-a217-2173559d0807",
   "metadata": {},
   "source": [
    "## Hilbert Transform"
   ]
  },
  {
   "cell_type": "code",
   "execution_count": null,
   "id": "3107807e-fc4c-454e-96d5-5b33d94ee394",
   "metadata": {},
   "outputs": [],
   "source": []
  },
  {
   "cell_type": "markdown",
   "id": "e04865fc-36be-4f9a-a09f-3c8ab47776aa",
   "metadata": {},
   "source": [
    "## Time frequency analysis"
   ]
  },
  {
   "cell_type": "code",
   "execution_count": null,
   "id": "3ae9a34d-8a14-46f5-93ec-6b3651eecea2",
   "metadata": {},
   "outputs": [],
   "source": []
  }
 ],
 "metadata": {
  "kernelspec": {
   "display_name": "Python 3 (ipykernel)",
   "language": "python",
   "name": "python3"
  },
  "language_info": {
   "codemirror_mode": {
    "name": "ipython",
    "version": 3
   },
   "file_extension": ".py",
   "mimetype": "text/x-python",
   "name": "python",
   "nbconvert_exporter": "python",
   "pygments_lexer": "ipython3",
   "version": "3.11.5"
  }
 },
 "nbformat": 4,
 "nbformat_minor": 5
}
