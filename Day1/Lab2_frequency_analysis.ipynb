{
 "cells": [
  {
   "cell_type": "code",
   "execution_count": null,
   "id": "fdc460c9",
   "metadata": {},
   "outputs": [],
   "source": [
    "import mne\n",
    "import mne_bids\n",
    "import os, os.path as op\n",
    "import matplotlib.pyplot as plt\n",
    "import numpy as np"
   ]
  },
  {
   "cell_type": "markdown",
   "id": "3ba3f1d8",
   "metadata": {},
   "source": [
    "# Load in the data"
   ]
  },
  {
   "cell_type": "code",
   "execution_count": null,
   "id": "5a280409",
   "metadata": {},
   "outputs": [],
   "source": [
    "datadir = '/Users/nugenta/'"
   ]
  },
  {
   "cell_type": "code",
   "execution_count": null,
   "id": "73345e49",
   "metadata": {},
   "outputs": [],
   "source": [
    "%matplotlib inline"
   ]
  },
  {
   "cell_type": "code",
   "execution_count": null,
   "id": "d765cf9d",
   "metadata": {},
   "outputs": [],
   "source": [
    "bids_root = op.join(datadir, 'meg_workshop_data')\n",
    "deriv_root = op.join(bids_root, 'derivatives')\n",
    "project_root = op.join(deriv_root, 'Day1')\n",
    "fs_subjects_dir = op.join(deriv_root,'freesurfer','subjects')"
   ]
  },
  {
   "cell_type": "code",
   "execution_count": null,
   "id": "fa209cbb",
   "metadata": {},
   "outputs": [],
   "source": [
    "subject='ON03748'"
   ]
  },
  {
   "cell_type": "code",
   "execution_count": null,
   "id": "9572af50",
   "metadata": {},
   "outputs": [],
   "source": [
    "bids_path = mne_bids.BIDSPath(root=bids_root, subject = subject, session='01', \n",
    "                              task='airpuff', run='01', datatype='meg')\n",
    "bids_deriv_path = bids_path.copy().update(root=deriv_root, check=False)"
   ]
  },
  {
   "cell_type": "code",
   "execution_count": null,
   "id": "59b1c0b3",
   "metadata": {
    "scrolled": true
   },
   "outputs": [],
   "source": [
    "raw = mne_bids.read_raw_bids(bids_path)\n",
    "raw.load_data()"
   ]
  },
  {
   "cell_type": "markdown",
   "id": "6a100183",
   "metadata": {},
   "source": [
    "## Get a feel for how different filtering operations change the data and the spectrum"
   ]
  },
  {
   "cell_type": "code",
   "execution_count": null,
   "id": "cb269f05",
   "metadata": {},
   "outputs": [],
   "source": [
    "# try plotting the raw data\n",
    "raw.plot()"
   ]
  },
  {
   "cell_type": "code",
   "execution_count": null,
   "id": "6459e81d",
   "metadata": {
    "scrolled": true
   },
   "outputs": [],
   "source": [
    "# You can see data without 3rd gradient compensation to see low frequency environmental noise\n",
    "raw.apply_gradient_compensation(0)\n",
    "raw.plot()"
   ]
  },
  {
   "cell_type": "code",
   "execution_count": null,
   "id": "6c3aea7b",
   "metadata": {},
   "outputs": [],
   "source": [
    "# turn 3rd gradient back on\n",
    "raw.apply_gradient_compensation(3)"
   ]
  },
  {
   "cell_type": "code",
   "execution_count": null,
   "id": "0096536f",
   "metadata": {},
   "outputs": [],
   "source": [
    "# pick MEG channels\n",
    "meg_picks=mne.pick_types(raw.info, meg=True)"
   ]
  },
  {
   "cell_type": "code",
   "execution_count": null,
   "id": "4b63f267",
   "metadata": {
    "scrolled": true
   },
   "outputs": [],
   "source": [
    "# effects of filtering \n",
    "lowpass = raw.copy()  # always make a copy of the data because otherwise, MNE will alter the raw data in place\n",
    "lowpass.filter(l_freq = None, h_freq = 45,picks=meg_picks)\n",
    "highpass = raw.copy()\n",
    "highpass.filter(l_freq = 1, h_freq = None,picks=meg_picks)\n",
    "notch=raw.copy()\n",
    "notch.notch_filter(freqs=[60,120,180,240],picks=meg_picks)\n",
    "bandpass = raw.copy()\n",
    "bandpass.filter(l_freq = 1, h_freq = 40,picks=meg_picks)"
   ]
  },
  {
   "cell_type": "code",
   "execution_count": null,
   "id": "74f79451",
   "metadata": {},
   "outputs": [],
   "source": [
    "# plot the PSD's of the different datasets - change this cell to look at all the datasets\n",
    "# you can also change the window of the spectrum you plot with fmin, fmax \n",
    "\n",
    "# You can either plot all channels overlaid with average=False or all channels averaged wiht average=True\n",
    "\n",
    "tmp=lowpass.compute_psd(fmax=250,n_fft=1024).plot(average=True)\n",
    "lowpass.plot()"
   ]
  },
  {
   "cell_type": "code",
   "execution_count": null,
   "id": "e05c15b3",
   "metadata": {
    "scrolled": false
   },
   "outputs": [],
   "source": [
    "# You can also resample the dataset\n",
    "\n",
    "# If you are only interested in frequencies below 50Hz, but your data is sampled at 1200Hz, \n",
    "# you have more data than you need, and you can downsample. \n",
    "\n",
    "# But downsampling raw can cause problems with event markers!\n",
    "# And, downsampling epoched data can case artifacts at the start and end of epochs!\n",
    "\n",
    "# There are ways around this, but it's often better to just not downsample the data"
   ]
  },
  {
   "cell_type": "code",
   "execution_count": null,
   "id": "13a28a4e",
   "metadata": {
    "scrolled": true
   },
   "outputs": [],
   "source": [
    "# I'll make some bandpassed datasets for later\n",
    "alpha = raw.copy().filter(l_freq=8,h_freq=12)\n",
    "theta = raw.copy().filter(l_freq=4,h_freq=8)"
   ]
  },
  {
   "cell_type": "markdown",
   "id": "20848bc8-3000-4750-a2bb-18348c37a77b",
   "metadata": {},
   "source": [
    "## Time Frequency Analysis"
   ]
  },
  {
   "cell_type": "code",
   "execution_count": null,
   "id": "080e7663-0253-4474-880a-cfacd5a9685c",
   "metadata": {},
   "outputs": [],
   "source": [
    "# First, we have to get the data epoched by trial\n",
    "events, event_ids = mne.events_from_annotations(raw)\n",
    "epochs = mne.Epochs(bandpass, events, tmin = -0.1, tmax=0.3, event_id=event_ids, preload=True)"
   ]
  },
  {
   "cell_type": "code",
   "execution_count": null,
   "id": "df024816",
   "metadata": {},
   "outputs": [],
   "source": [
    "# here are the event ID's\n",
    "event_ids"
   ]
  },
  {
   "cell_type": "code",
   "execution_count": null,
   "id": "ad49c95c",
   "metadata": {},
   "outputs": [],
   "source": [
    "# Average all the epochs to create a evoked response. This will only preserve events that are time/phase\n",
    "# locked to the onset of the stimulus. Everything else, including oscilliatory power changes will average out\n",
    "evoked_stim = epochs['stim'].average()\n",
    "evoked_missingstim = epochs['missingstim'].average()"
   ]
  },
  {
   "cell_type": "code",
   "execution_count": null,
   "id": "aeb693a5",
   "metadata": {},
   "outputs": [],
   "source": [
    "# plot the evoked response of the stimulus\n",
    "tmp=evoked_stim.plot()"
   ]
  },
  {
   "cell_type": "code",
   "execution_count": null,
   "id": "09cf3b9e",
   "metadata": {},
   "outputs": [],
   "source": [
    "# and the missing stim\n",
    "tmp=evoked_missingstim.plot()"
   ]
  },
  {
   "cell_type": "code",
   "execution_count": null,
   "id": "3b381ffd",
   "metadata": {},
   "outputs": [],
   "source": [
    "# We can also do a time-frequency analysis\n",
    "#\n",
    "# This uses a sliding temporal window\n",
    "# The length of the window is defined by the frequencies desired and the number of cycles of each frequency\n",
    "#\n",
    "# You can try playing around with this. \n",
    "# see: https://mne.tools/stable/auto_examples/time_frequency/time_frequency_simulated.html "
   ]
  },
  {
   "cell_type": "code",
   "execution_count": null,
   "id": "7c470041",
   "metadata": {},
   "outputs": [],
   "source": [
    "freqs = np.arange(4,20,1)   # frequencies to estimate\n",
    "n_cycles = freqs/4          # number of cycles\n",
    "time_bandwidth=2            # the product of the window length * full frequency bandwidth\n",
    "                            # lower = less smoothing"
   ]
  },
  {
   "cell_type": "code",
   "execution_count": null,
   "id": "f403807c",
   "metadata": {},
   "outputs": [],
   "source": [
    "power_stim=mne.time_frequency.tfr_multitaper(epochs['stim'], average=True, n_jobs=4, return_itc=False,\n",
    "                                        freqs=freqs,n_cycles=n_cycles,time_bandwidth=time_bandwidth)"
   ]
  },
  {
   "cell_type": "code",
   "execution_count": null,
   "id": "ae343ca0",
   "metadata": {},
   "outputs": [],
   "source": [
    "power_missingstim=mne.time_frequency.tfr_multitaper(epochs['missingstim'], average=True, n_jobs=4, \n",
    "                                                    return_itc=False, freqs=freqs,n_cycles=n_cycles,\n",
    "                                                    time_bandwidth=time_bandwidth)"
   ]
  },
  {
   "cell_type": "code",
   "execution_count": null,
   "id": "d8af755e",
   "metadata": {},
   "outputs": [],
   "source": [
    "# you can also play with different time frequency methods\n",
    "power_morlet=mne.time_frequency.tfr_morlet(epochs['stim'], average=True, n_jobs=4, return_itc=False,\n",
    "                                        freqs=freqs,n_cycles=n_cycles)"
   ]
  },
  {
   "cell_type": "code",
   "execution_count": null,
   "id": "36a6daa2",
   "metadata": {},
   "outputs": [],
   "source": [
    "# lets pick a sensor (75 is good!) and plot the evoked data for both stimuli\n",
    "plt.plot(evoked_stim._data[75,:],label='stim')\n",
    "plt.plot(evoked_missingstim._data[75,:],label='missing stim')\n",
    "plt.legend()"
   ]
  },
  {
   "cell_type": "code",
   "execution_count": null,
   "id": "ca34ecbf",
   "metadata": {},
   "outputs": [],
   "source": [
    "# Now, you can look at the time frequency plots. Uncomment the one you want to see\n",
    "# Note that even though there's not much of an evoked response for the missing stimulus, \n",
    "# we do see some power changes\n",
    "power_stim.plot([75])\n",
    "#power_missingstim.plot([75])\n",
    "#power_morlet.plot([75])"
   ]
  },
  {
   "cell_type": "code",
   "execution_count": null,
   "id": "70568612",
   "metadata": {},
   "outputs": [],
   "source": [
    "#  We can also plot the time frequency plot of the difference\n",
    "power_diff = power_stim - power_missingstim\n",
    "power_diff.plot([75])"
   ]
  },
  {
   "cell_type": "code",
   "execution_count": null,
   "id": "27949856",
   "metadata": {},
   "outputs": [],
   "source": [
    "# Based on what we see above, lets look at power in alpha and theta\n",
    "epochs_theta = mne.Epochs(theta, events, tmin = -0.1, tmax=0.3, event_id=event_ids, preload=True)\n",
    "epochs_alpha = mne.Epochs(alpha, events, tmin = -0.1, tmax=0.3, event_id=event_ids, preload=True)"
   ]
  },
  {
   "cell_type": "code",
   "execution_count": null,
   "id": "902974e0",
   "metadata": {},
   "outputs": [],
   "source": [
    "# We can subtract off the evoked response so we just look at induced power\n",
    "epochs_theta.subtract_evoked()\n",
    "epochs_theta.apply_hilbert(envelope=True)\n",
    "epochs_alpha.subtract_evoked()\n",
    "epochs_alpha.apply_hilbert(envelope=True)"
   ]
  },
  {
   "cell_type": "code",
   "execution_count": null,
   "id": "d475564f",
   "metadata": {},
   "outputs": [],
   "source": [
    "# Just for the sake of the exercise, let's look at the average power in the same channel we used above\n",
    "\n",
    "average_theta_stim=epochs_theta['stim'].average()\n",
    "average_theta_missingstim=epochs_theta['missingstim'].average()\n",
    "times=average_theta_stim.times\n",
    "average_theta_stim=mne.baseline.rescale(average_theta_stim.data[75,:],times,baseline=(None,0))\n",
    "average_theta_missingstim=mne.baseline.rescale(average_theta_missingstim.data[75,:],times,baseline=(None,0))\n",
    "\n",
    "average_alpha_stim=epochs_alpha['stim'].average()\n",
    "average_alpha_missingstim=epochs_alpha['missingstim'].average()\n",
    "average_alpha_stim=mne.baseline.rescale(average_alpha_stim.data[75,:],times,baseline=(None,0))\n",
    "average_alpha_missingstim=mne.baseline.rescale(average_alpha_missingstim.data[75,:],times,baseline=(None,0))\n"
   ]
  },
  {
   "cell_type": "code",
   "execution_count": null,
   "id": "7683299d",
   "metadata": {
    "scrolled": false
   },
   "outputs": [],
   "source": [
    "# We can see that there's actually more alpha power for the missing stim condition, while theta\n",
    "# is the same\n",
    "\n",
    "# We can't do statistics here because we have one subject and one channel, but this should give you a feel for \n",
    "# evoked responses and induced power changes and how those look in your data\n",
    "\n",
    "plt.subplot(211)\n",
    "plt.title('alpha')\n",
    "tmp=plt.plot(times[5:-5],average_alpha_stim[5:-5],label='stim')\n",
    "tmp=plt.plot(times[5:-5],average_alpha_missingstim[5:-5],label='missingstim')\n",
    "tmp=plt.plot(times[5:-5],average_alpha_stim[5:-5]-average_alpha_missingstim[5:-5],label='stim-missingstim')\n",
    "plt.legend()\n",
    "plt.subplot(212)\n",
    "plt.title('theta')\n",
    "tmp=plt.plot(times[5:-5],average_theta_stim[5:-5],label='stim')\n",
    "tmp=plt.plot(times[5:-5],average_theta_missingstim[5:-5],label='missingstim')\n",
    "tmp=plt.plot(times[5:-5],average_theta_stim[5:-5]-average_theta_missingstim[5:-5],label='stim-missingstim')\n",
    "plt.legend()\n",
    "plt.tight_layout()"
   ]
  },
  {
   "cell_type": "markdown",
   "id": "b063fc4c",
   "metadata": {},
   "source": [
    "# Let's talk about artifacts!"
   ]
  },
  {
   "cell_type": "code",
   "execution_count": null,
   "id": "b3012c06",
   "metadata": {},
   "outputs": [],
   "source": [
    "subject='ON62003'\n",
    "bids_path = mne_bids.BIDSPath(root=bids_root, subject = subject, session='01', \n",
    "                              task='airpuff', run='01', datatype='meg')\n",
    "bids_deriv_path = bids_path.copy().update(root=deriv_root, check=False)\n",
    "raw = mne_bids.read_raw_bids(bids_path)\n",
    "raw.load_data()"
   ]
  },
  {
   "cell_type": "code",
   "execution_count": null,
   "id": "516fcbea",
   "metadata": {},
   "outputs": [],
   "source": [
    "# plot the data and scroll down to the temporal channels - you'll see lots of eye blinks\n",
    "raw.plot()"
   ]
  },
  {
   "cell_type": "code",
   "execution_count": null,
   "id": "40f94a2f",
   "metadata": {},
   "outputs": [],
   "source": [
    "raw.info['ch_names'][140], raw.info['ch_names'][270]"
   ]
  },
  {
   "cell_type": "code",
   "execution_count": null,
   "id": "ac328b8d",
   "metadata": {},
   "outputs": [],
   "source": [
    "# here's a left temporal sensor and a right temporal sensor centered on some blinks\n",
    "plt.subplot(121)\n",
    "plt.plot(raw._data[140,30000:60000])\n",
    "plt.subplot(122)\n",
    "plt.plot(raw._data[270,30000:60000])"
   ]
  },
  {
   "cell_type": "code",
   "execution_count": null,
   "id": "e4eff561",
   "metadata": {},
   "outputs": [],
   "source": [
    "# Let's use ICA to see if we can isolate these artifacts\n",
    "# We always want to filter the data first to remove low frequency drifts\n",
    "filt_raw = raw.copy().filter(l_freq=1.0, h_freq=40)\n",
    "# normally you wouldn't select a random state - I'm doing that so that you always get the same component numbers\n",
    "ica = mne.preprocessing.ICA(n_components=20, max_iter=\"auto\", random_state=74)\n",
    "ica.fit(filt_raw)"
   ]
  },
  {
   "cell_type": "code",
   "execution_count": null,
   "id": "9f18f7a1",
   "metadata": {},
   "outputs": [],
   "source": [
    "# This gives the variance in the data that is explained by all the ICA components, and the \n",
    "# variance explained by just the first component\n",
    "ica.get_explained_variance_ratio(filt_raw), ica.get_explained_variance_ratio(filt_raw, components=[0])"
   ]
  },
  {
   "cell_type": "code",
   "execution_count": null,
   "id": "35d9e682",
   "metadata": {},
   "outputs": [],
   "source": [
    "# We can plot the ICA component maps\n",
    "# Clearly, component 0 is eyeblink. Components 1, 6, and 7 also look suspicious for cardiac\n",
    "ica.plot_components()"
   ]
  },
  {
   "cell_type": "code",
   "execution_count": null,
   "id": "8eb9fb52",
   "metadata": {
    "scrolled": true
   },
   "outputs": [],
   "source": [
    "# This will plot the sources. You can right click on any component to see the topo map\n",
    "# you can see from the time courses that 1 is clearly an artifact, and 6 and 7 are cardiac\n",
    "ica.plot_sources(raw)"
   ]
  },
  {
   "cell_type": "code",
   "execution_count": null,
   "id": "9b712c87",
   "metadata": {},
   "outputs": [],
   "source": [
    "# Let's look at the effects of removing those components\n",
    "tmp=ica.plot_overlay(filt_raw, exclude=[0,1,6,7])"
   ]
  },
  {
   "cell_type": "code",
   "execution_count": null,
   "id": "714cb8e1",
   "metadata": {},
   "outputs": [],
   "source": [
    "# set which components you want to remove, and create a copy of the raw data and apply the ICA\n",
    "ica.exclude = [0,1,6,7]\n",
    "raw_clean=raw.copy()\n",
    "ica.apply(raw_clean)"
   ]
  },
  {
   "cell_type": "code",
   "execution_count": 494,
   "id": "e1c538c6",
   "metadata": {},
   "outputs": [
    {
     "data": {
      "text/plain": [
       "[<matplotlib.lines.Line2D at 0x4c3fbba60>]"
      ]
     },
     "execution_count": 494,
     "metadata": {},
     "output_type": "execute_result"
    },
    {
     "data": {
      "image/png": "[encoded data removed]",
      "text/plain": [
       "<Figure size 640x480 with 4 Axes>"
      ]
     },
     "metadata": {},
     "output_type": "display_data"
    }
   ],
   "source": [
    "# here's the raw data from those temporal sensors, and the cleaned data\n",
    "plt.subplot(221)\n",
    "plt.plot(raw._data[140,30000:60000])\n",
    "plt.subplot(222)\n",
    "plt.plot(raw_clean._data[140,30000:60000])\n",
    "plt.subplot(223)\n",
    "plt.plot(raw._data[270,30000:60000])\n",
    "plt.subplot(224)\n",
    "plt.plot(raw_clean._data[270,30000:60000])"
   ]
  },
  {
   "cell_type": "code",
   "execution_count": null,
   "id": "c76a73f4",
   "metadata": {},
   "outputs": [],
   "source": []
  }
 ],
 "metadata": {
  "kernelspec": {
   "display_name": "Python 3 (ipykernel)",
   "language": "python",
   "name": "python3"
  },
  "language_info": {
   "codemirror_mode": {
    "name": "ipython",
    "version": 3
   },
   "file_extension": ".py",
   "mimetype": "text/x-python",
   "name": "python",
   "nbconvert_exporter": "python",
   "pygments_lexer": "ipython3",
   "version": "3.10.8"
  }
 },
 "nbformat": 4,
 "nbformat_minor": 5
}
