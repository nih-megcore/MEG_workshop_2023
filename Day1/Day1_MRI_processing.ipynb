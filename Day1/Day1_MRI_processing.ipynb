{
 "cells": [
  {
   "cell_type": "code",
   "execution_count": null,
   "id": "8fae6dd4-0f8a-4a43-998b-96db9878505e",
   "metadata": {},
   "outputs": [],
   "source": []
  },
  {
   "cell_type": "markdown",
   "id": "ed988a1d-e4aa-4ca5-8cdf-76098f10a5ff",
   "metadata": {},
   "source": [
    "### Prepare Imaging for Source Localization"
   ]
  },
  {
   "cell_type": "code",
   "execution_count": null,
   "id": "4496488c-f1fb-40ac-8b66-2340c8aad45c",
   "metadata": {},
   "outputs": [],
   "source": [
    "fwd_name=f'{output_dir}/{subjid}-fwd.fif'"
   ]
  },
  {
   "cell_type": "code",
   "execution_count": null,
   "id": "2810d482-a0cd-45ee-94b5-d44f0e54b60f",
   "metadata": {},
   "outputs": [],
   "source": [
    "#Requires Freesurfer -  This is already done for our subject\n",
    "#mne.bem.make_watershed_bem(subjid, subjects_dir=subjects_dir)"
   ]
  },
  {
   "cell_type": "code",
   "execution_count": null,
   "id": "da3834f6-68b2-4606-b15d-eaf017337e33",
   "metadata": {},
   "outputs": [],
   "source": [
    "import nih2mne\n",
    "from nih2mne import calc_mnetrans"
   ]
  },
  {
   "cell_type": "code",
   "execution_count": null,
   "id": "ce3e109b-96b2-4bde-9c84-6b59ee699aae",
   "metadata": {},
   "outputs": [],
   "source": [
    "trans_fname = f'{topdir}/{subjid}-trans.fif'\n",
    "if not os.path.exists(trans_fname):\n",
    "    # The calc_mnetrans.py code takes tagged Afni, Brainsight, or BIDS json\n",
    "    anat_json = f'{topdir}/{subjid}/ses-01/meg/{subjid}_ses-01_task-airpuff_run-01_coordsystem.json'\n",
    "    ! calc_mnetrans.py -anat_json {anat_json} -trans_output {subjid}-trans.fif -dsname {meg_fname} -subject {subjid} -subjects_dir {subjects_dir}\n",
    "    trans = mne.read_trans(trans_fname)\n",
    "else:\n",
    "    trans = mne.read_trans(trans_fname)"
   ]
  },
  {
   "cell_type": "markdown",
   "id": "ab1cc7da-e166-4e5f-8490-5d147f4e4ab0",
   "metadata": {},
   "source": [
    "### Plot the transform"
   ]
  },
  {
   "cell_type": "code",
   "execution_count": null,
   "id": "9ae168eb-9c68-4bd9-842f-d27196f7dea3",
   "metadata": {},
   "outputs": [],
   "source": [
    "mne.viz.plot_alignment(raw.info, trans=trans, subject=subjid, subjects_dir=subjects_dir, dig=True)"
   ]
  },
  {
   "cell_type": "code",
   "execution_count": null,
   "id": "25783544-3655-4126-95fc-978c29dc3844",
   "metadata": {},
   "outputs": [],
   "source": [
    "fwd_name=f'{output_dir}/{subjid}_vol-fwd.fif'\n",
    "if not os.path.exists(fwd_name):\n",
    "    # Make a 1 layer bem from the inner skull - Appropriate for MEG, bad for EEG\n",
    "    bem = mne.make_bem_model(subjid, subjects_dir=subjects_dir, conductivity=[0.3])\n",
    "    bem_sol = mne.make_bem_solution(bem)\n",
    "    src = mne.source_space.setup_volume_source_space(subject=subjid, subjects_dir=subjects_dir,\n",
    "                                                     mri='T1.mgz', bem=bem_sol) \n",
    "    forward = mne.make_forward_solution(raw.info, trans, src, \n",
    "                                        bem_sol, meg=True, eeg=False, n_jobs=-1)\n",
    "    mne.forward.write_forward_solution(fwd_name, forward)\n",
    "else:\n",
    "    forward = mne.read_forward_solution(fwd_name)"
   ]
  },
  {
   "cell_type": "markdown",
   "id": "2915bc74-74ff-4107-a6bb-1508f28411f2",
   "metadata": {},
   "source": [
    "## Volumetric Source Model "
   ]
  },
  {
   "cell_type": "code",
   "execution_count": null,
   "id": "04367678-9ee5-418b-b5ab-0a54895b0bf7",
   "metadata": {},
   "outputs": [],
   "source": [
    "src = forward['src']\n",
    "src.plot(subjid, subjects_dir=subjects_dir, brain=False, trans=trans)"
   ]
  },
  {
   "cell_type": "markdown",
   "id": "3a1a67a1-ca83-4c36-b012-c1efabe93782",
   "metadata": {},
   "source": [
    "### Surface Source"
   ]
  },
  {
   "cell_type": "code",
   "execution_count": null,
   "id": "dbc6dbc3-56ff-4803-8bfe-d3f704f877b3",
   "metadata": {},
   "outputs": [],
   "source": [
    "fwd_name=f'{output_dir}/{subjid}-fwd.fif'\n",
    "if not os.path.exists(fwd_name):\n",
    "    # Make a 1 layer bem from the inner skull - Appropriate for MEG, bad for EEG\n",
    "    bem = mne.make_bem_model(subjid, subjects_dir=subjects_dir, conductivity=[0.3])\n",
    "    bem_sol = mne.make_bem_solution(bem)\n",
    "    src = mne.source_space.setup_source_space(subject=subjid, subjects_dir=subjects_dir, n_jobs=-1) \n",
    "    forward = mne.make_forward_solution(raw.info, trans, src, \n",
    "                                        bem_sol, meg=True, eeg=False, n_jobs=-1)\n",
    "    mne.forward.write_forward_solution(fwd_name, forward)\n",
    "else:\n",
    "    forward = mne.read_forward_solution(fwd_name)"
   ]
  },
  {
   "cell_type": "code",
   "execution_count": null,
   "id": "b8916efd-cba5-442f-90b2-64099b15e70f",
   "metadata": {},
   "outputs": [],
   "source": [
    "src = forward['src']\n",
    "src.plot(subjects_dir=subjects_dir, head=False, brain='white', trans=trans)"
   ]
  },
  {
   "cell_type": "markdown",
   "id": "a5421c6b-b1e8-4f85-9916-fa1758a11f0b",
   "metadata": {},
   "source": [
    "## Boundary Element Model (For MEG - red boundary in figure is all that is necessary)"
   ]
  },
  {
   "cell_type": "code",
   "execution_count": null,
   "id": "3a5c5751-a2d5-444b-aeac-4a0a621838a3",
   "metadata": {},
   "outputs": [],
   "source": [
    "%matplotlib inline\n",
    "_ = mne.viz.plot_bem(subject=subjid, subjects_dir=subjects_dir)"
   ]
  },
  {
   "cell_type": "markdown",
   "id": "254238b2-6cdd-4979-982a-6b30cd54f6ea",
   "metadata": {},
   "source": [
    "## Spatial relationship of the brain to the MEG sensors"
   ]
  },
  {
   "cell_type": "code",
   "execution_count": null,
   "id": "b224fffe-3348-4a35-8608-b7b23c1d1dcc",
   "metadata": {},
   "outputs": [],
   "source": [
    "mne.viz.plot_alignment(raw.info, trans=trans, subject=subjid, subjects_dir=subjects_dir, dig=True, surfaces='pial')"
   ]
  },
  {
   "cell_type": "markdown",
   "id": "786c6564-c228-4413-aeae-9f0492f77c1e",
   "metadata": {},
   "source": [
    "## What is a forward Model?\n",
    "## Simulation of all the source locations through the BEM"
   ]
  },
  {
   "cell_type": "code",
   "execution_count": null,
   "id": "fcb306ca-711a-483f-a658-c0f18e5d63a1",
   "metadata": {},
   "outputs": [],
   "source": [
    "print(forward['sol']['data'].shape)\n",
    "print('Channels, Source Locations X 3')"
   ]
  },
  {
   "cell_type": "code",
   "execution_count": null,
   "id": "8a40482a-f561-418b-9aae-1cf2c84d479d",
   "metadata": {},
   "outputs": [],
   "source": [
    "from mne.viz.topomap import plot_topomap"
   ]
  },
  {
   "cell_type": "code",
   "execution_count": null,
   "id": "24af7462-5257-4e3b-b583-8929b561e90a",
   "metadata": {},
   "outputs": [],
   "source": [
    "tmp=raw.copy()\n",
    "grads = [i for i in tmp.ch_names if i[0]=='M']\n",
    "_=tmp.pick_channels(grads)"
   ]
  },
  {
   "cell_type": "code",
   "execution_count": null,
   "id": "1011ed19-3677-44d8-90b6-4228682cf4e1",
   "metadata": {},
   "outputs": [],
   "source": [
    "%matplotlib qt\n",
    "fig, axs = plt.subplots(3,2)\n",
    "axs[0,0].set_title('Location 1 Forward Model')\n",
    "plot_topomap(forward['sol']['data'][:,1003], tmp.info, axes=axs[0,0])\n",
    "plot_topomap(forward['sol']['data'][:,1004], tmp.info, axes=axs[1,0])\n",
    "plot_topomap(forward['sol']['data'][:,1005], tmp.info, axes=axs[2,0])\n",
    "\n",
    "axs[0,1].set_title('Location 2 Forward Model')\n",
    "plot_topomap(forward['sol']['data'][:,5003], tmp.info, axes=axs[0,1])\n",
    "plot_topomap(forward['sol']['data'][:,5004], tmp.info, axes=axs[1,1])\n",
    "plot_topomap(forward['sol']['data'][:,5005], tmp.info, axes=axs[2,1])\n"
   ]
  },
  {
   "cell_type": "code",
   "execution_count": null,
   "id": "e0c5105c-3e08-4aed-9033-e8f55450ad38",
   "metadata": {},
   "outputs": [],
   "source": [
    "%matplotlib inline\n",
    "fig=pylab.figure(figsize=(12,8))\n",
    "pylab.imshow(forward['sol']['data'], aspect='auto', cmap='jet', vmax=3e-6, vmin=-3e-6)\n",
    "pylab.title('Forward Model Simulation at every point in the source model')\n",
    "pylab.xlabel('Source Location')\n",
    "pylab.ylabel('Channel index')"
   ]
  }
 ],
 "metadata": {
  "kernelspec": {
   "display_name": "Python 3 (ipykernel)",
   "language": "python",
   "name": "python3"
  },
  "language_info": {
   "codemirror_mode": {
    "name": "ipython",
    "version": 3
   },
   "file_extension": ".py",
   "mimetype": "text/x-python",
   "name": "python",
   "nbconvert_exporter": "python",
   "pygments_lexer": "ipython3",
   "version": "3.11.5"
  }
 },
 "nbformat": 4,
 "nbformat_minor": 5
}
