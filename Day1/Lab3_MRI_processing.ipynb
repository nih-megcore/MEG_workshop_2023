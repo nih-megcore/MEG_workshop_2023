{
 "cells": [
  {
   "cell_type": "code",
   "execution_count": null,
   "id": "2b60bd6c-98b0-4f76-8aaf-46d1f2c73abc",
   "metadata": {},
   "outputs": [],
   "source": [
    "import mne\n",
    "import mne_bids\n",
    "import os, os.path as op\n",
    "import nilearn\n",
    "import matplotlib.pyplot as plt\n",
    "\n",
    "from nilearn import *"
   ]
  },
  {
   "cell_type": "markdown",
   "id": "5d9aa9b9-de6c-4cb7-9417-e5c083115dd7",
   "metadata": {},
   "source": [
    "# Setup Paths"
   ]
  },
  {
   "cell_type": "markdown",
   "id": "0cff235a-2ee3-497b-af1e-dec8091f6c2e",
   "metadata": {},
   "source": [
    "## Set some generic BIDS information"
   ]
  },
  {
   "cell_type": "code",
   "execution_count": null,
   "id": "e5ec8e59-a4a1-4f76-87a0-a03cc3e6430a",
   "metadata": {},
   "outputs": [],
   "source": [
    "#Raw data\n",
    "bids_root = op.join('/data/', os.environ['USER'], 'meg_workshop_data')  \n",
    "#Processed Data Folder: contains (freesurfer / Day1 / Day2) \n",
    "deriv_root = op.join(bids_root, 'derivatives')\n",
    "if not op.exists(deriv_root): os.mkdir(deriv_root)\n",
    "#This course data - bids derivatives outputs for Day2 - hey thats today\n",
    "project_root = op.join(deriv_root, 'Day1')  \n",
    "#Freesurfer brain surface reconstruction\n",
    "fs_subjects_dir = op.join(deriv_root, 'freesurfer','subjects')\n",
    "subjects_dir = fs_subjects_dir"
   ]
  },
  {
   "cell_type": "markdown",
   "id": "a51b6aa4-b076-4f77-b66b-f9118895ca3b",
   "metadata": {},
   "source": [
    "### Find data for a subject"
   ]
  },
  {
   "cell_type": "code",
   "execution_count": null,
   "id": "e34d81a7-2bcd-4dee-8230-2f0b03d91795",
   "metadata": {},
   "outputs": [],
   "source": [
    "subject = 'ON02811'\n",
    "bids_path = mne_bids.BIDSPath(root=bids_root, subject = subject, session='01', task='airpuff', run='01', datatype='meg')\n",
    "project_path = bids_path.copy().update(root=project_root, check=False)\n",
    "if not op.exists(project_path.root): os.mkdir(project_path.root)\n",
    "\n",
    "t1_bids_path = bids_path.copy().update(datatype='anat', session='01', task=None, run=None, suffix='T1w', acquisition='MPRAGE', extension='.nii.gz')"
   ]
  },
  {
   "cell_type": "code",
   "execution_count": null,
   "id": "8dcc6eba-482d-48df-8855-6cd7048b8d78",
   "metadata": {
    "scrolled": true
   },
   "outputs": [],
   "source": [
    "raw = mne_bids.read_raw_bids(bids_path, verbose=False)"
   ]
  },
  {
   "cell_type": "code",
   "execution_count": null,
   "id": "7dd5088f-691c-41f3-8373-583c06c596f5",
   "metadata": {
    "scrolled": true
   },
   "outputs": [],
   "source": [
    "trans = mne_bids.get_head_mri_trans(bids_path, t1_bids_path=t1_bids_path, fs_subject='sub-'+subject, fs_subjects_dir=subjects_dir)"
   ]
  },
  {
   "cell_type": "markdown",
   "id": "d1b7d524-9d48-43ce-8d03-0a7aa98f3cb1",
   "metadata": {},
   "source": [
    "## Transform is a 3x3 rotation matrix + the last column is the x/y/z translation"
   ]
  },
  {
   "cell_type": "code",
   "execution_count": null,
   "id": "25d784a4-e8d2-43a5-a90b-1c62ec51a018",
   "metadata": {},
   "outputs": [],
   "source": [
    "trans"
   ]
  },
  {
   "cell_type": "markdown",
   "id": "ed988a1d-e4aa-4ca5-8cdf-76098f10a5ff",
   "metadata": {},
   "source": [
    "### Prepare Imaging for Source Localization"
   ]
  },
  {
   "cell_type": "code",
   "execution_count": null,
   "id": "4496488c-f1fb-40ac-8b66-2340c8aad45c",
   "metadata": {},
   "outputs": [],
   "source": [
    "# fwd_name=f'{output_dir}/{subjid}-fwd.fif'\n",
    "fwd_name = project_path.copy().update(extension='.fif', suffix='fwd')"
   ]
  },
  {
   "cell_type": "code",
   "execution_count": null,
   "id": "c68d2a6a-ed77-4c0e-8666-b545368ee074",
   "metadata": {},
   "outputs": [],
   "source": [
    "subjects_dir"
   ]
  },
  {
   "cell_type": "markdown",
   "id": "bd800bc8-5d0c-4247-a142-c9fadf6eadcc",
   "metadata": {},
   "source": [
    "## Run the following cell and copy the output line into the terminal.<br>  This will launch Afni and open the subject file for localizing fiducials."
   ]
  },
  {
   "cell_type": "code",
   "execution_count": null,
   "id": "5884b51c-6827-4c9a-a2d5-7c2d62b64595",
   "metadata": {},
   "outputs": [],
   "source": [
    "print(f'afni {t1_bids_path.fpath}') "
   ]
  },
  {
   "cell_type": "code",
   "execution_count": null,
   "id": "32f4664a-6b0f-4fe1-ae23-da0c5d1555ad",
   "metadata": {},
   "outputs": [],
   "source": [
    "!afni /data/stoutjd/meg_workshop_data/sub-ON02811/ses-01/anat/sub-ON02811_ses-01_acq-MPRAGE_T1w.nii.gz"
   ]
  },
  {
   "cell_type": "markdown",
   "id": "ab1cc7da-e166-4e5f-8490-5d147f4e4ab0",
   "metadata": {},
   "source": [
    "### Plot the transform"
   ]
  },
  {
   "cell_type": "code",
   "execution_count": null,
   "id": "c22b0b40-ead8-4d48-9f22-02784f796177",
   "metadata": {},
   "outputs": [],
   "source": [
    "project_path.directory.mkdir(parents=True, exist_ok=True)"
   ]
  },
  {
   "cell_type": "code",
   "execution_count": null,
   "id": "9ae168eb-9c68-4bd9-842f-d27196f7dea3",
   "metadata": {},
   "outputs": [],
   "source": [
    "%matplotlib qt\n",
    "tmp = mne.viz.plot_alignment(raw.info, trans=trans, subject='sub-'+subject, subjects_dir=subjects_dir, dig=True)"
   ]
  },
  {
   "cell_type": "code",
   "execution_count": null,
   "id": "25783544-3655-4126-95fc-978c29dc3844",
   "metadata": {
    "scrolled": true
   },
   "outputs": [],
   "source": [
    "# fwd_name=f'{output_dir}/{subjid}_vol-fwd.fif'\n",
    "vol_fwd_fname = project_path.copy().update(extension='.fif', suffix='volfwd')\n",
    "bemsol_fname = vol_fwd_fname.copy().update(suffix='bemsol')\n",
    "if not os.path.exists(vol_fwd_fname):\n",
    "    # Make a 1 layer bem from the inner skull - Appropriate for MEG, bad for EEG\n",
    "    # mne.bem.make_watershed_bem('sub-'+subject, subjects_dir=fs_subjects_dir)\n",
    "    bem = mne.make_bem_model('sub-'+subject, subjects_dir=fs_subjects_dir, conductivity=[0.3])\n",
    "    bem_sol = mne.make_bem_solution(bem)\n",
    "    mne.bem.write_bem_solution(bemsol_fname.fpath, bem_sol, overwrite=True)\n",
    "    src = mne.source_space.setup_volume_source_space(subject='sub-'+subject, subjects_dir=fs_subjects_dir,\n",
    "                                                     mri='T1.mgz', bem=bem_sol) \n",
    "    forward = mne.make_forward_solution(raw.info, trans, src, \n",
    "                                        bem_sol, meg=True, eeg=False, n_jobs=-1)\n",
    "    mne.forward.write_forward_solution(vol_fwd_fname, forward, overwrite=True)\n",
    "else:\n",
    "    forward = mne.read_forward_solution(vol_fwd_fname)"
   ]
  },
  {
   "cell_type": "markdown",
   "id": "2915bc74-74ff-4107-a6bb-1508f28411f2",
   "metadata": {},
   "source": [
    "## Volumetric Source Model "
   ]
  },
  {
   "cell_type": "code",
   "execution_count": null,
   "id": "04367678-9ee5-418b-b5ab-0a54895b0bf7",
   "metadata": {},
   "outputs": [],
   "source": [
    "src = forward['src']\n",
    "src.plot(subject, subjects_dir=fs_subjects_dir, brain=False, trans=trans)"
   ]
  },
  {
   "cell_type": "markdown",
   "id": "3a1a67a1-ca83-4c36-b012-c1efabe93782",
   "metadata": {},
   "source": [
    "### Surface Source"
   ]
  },
  {
   "cell_type": "code",
   "execution_count": null,
   "id": "dbc6dbc3-56ff-4803-8bfe-d3f704f877b3",
   "metadata": {
    "scrolled": true
   },
   "outputs": [],
   "source": [
    "# fwd_name=f'{output_dir}/{subjid}-fwd.fif'\n",
    "fwd_fname = project_path.copy().update(extension='.fif', suffix='fwd')\n",
    "\n",
    "if not os.path.exists(fwd_name):\n",
    "    # Make a 1 layer bem from the inner skull - Appropriate for MEG, bad for EEG\n",
    "    bem = mne.make_bem_model('sub-'+subject, subjects_dir=subjects_dir, conductivity=[0.3])\n",
    "    bem_sol = mne.make_bem_solution(bem)\n",
    "    src = mne.source_space.setup_source_space(subject='sub-'+subject, subjects_dir=subjects_dir, n_jobs=-1) \n",
    "    forward = mne.make_forward_solution(raw.info, trans, src, \n",
    "                                        bem_sol, meg=True, eeg=False, n_jobs=-1)\n",
    "    mne.forward.write_forward_solution(fwd_name, forward)\n",
    "else:\n",
    "    forward = mne.read_forward_solution(fwd_name)"
   ]
  },
  {
   "cell_type": "code",
   "execution_count": null,
   "id": "b8916efd-cba5-442f-90b2-64099b15e70f",
   "metadata": {},
   "outputs": [],
   "source": [
    "src = forward['src']\n",
    "src.plot(subjects_dir=subjects_dir, head=False, brain='white', trans=trans)"
   ]
  },
  {
   "cell_type": "markdown",
   "id": "a5421c6b-b1e8-4f85-9916-fa1758a11f0b",
   "metadata": {},
   "source": [
    "## Boundary Element Model (For MEG - red boundary in figure is all that is necessary)"
   ]
  },
  {
   "cell_type": "code",
   "execution_count": null,
   "id": "3a5c5751-a2d5-444b-aeac-4a0a621838a3",
   "metadata": {},
   "outputs": [],
   "source": [
    "%matplotlib inline\n",
    "_ = mne.viz.plot_bem(subject='sub-'+subject, subjects_dir=fs_subjects_dir)"
   ]
  },
  {
   "cell_type": "markdown",
   "id": "254238b2-6cdd-4979-982a-6b30cd54f6ea",
   "metadata": {},
   "source": [
    "## Spatial relationship of the brain to the MEG sensors"
   ]
  },
  {
   "cell_type": "code",
   "execution_count": null,
   "id": "b224fffe-3348-4a35-8608-b7b23c1d1dcc",
   "metadata": {},
   "outputs": [],
   "source": [
    "mne.viz.plot_alignment(raw.info, trans=trans, subject='sub-'+subject, subjects_dir=fs_subjects_dir, dig=True, surfaces='pial')"
   ]
  },
  {
   "cell_type": "markdown",
   "id": "786c6564-c228-4413-aeae-9f0492f77c1e",
   "metadata": {},
   "source": [
    "## What is a forward Model?\n",
    "## Simulation of all the source locations through the BEM"
   ]
  },
  {
   "cell_type": "code",
   "execution_count": null,
   "id": "fcb306ca-711a-483f-a658-c0f18e5d63a1",
   "metadata": {},
   "outputs": [],
   "source": [
    "print(forward['sol']['data'].shape)\n",
    "print('Channels, Source Locations X 3')"
   ]
  },
  {
   "cell_type": "code",
   "execution_count": null,
   "id": "8a40482a-f561-418b-9aae-1cf2c84d479d",
   "metadata": {},
   "outputs": [],
   "source": [
    "from mne.viz.topomap import plot_topomap"
   ]
  },
  {
   "cell_type": "code",
   "execution_count": null,
   "id": "24af7462-5257-4e3b-b583-8929b561e90a",
   "metadata": {},
   "outputs": [],
   "source": [
    "tmp=raw.copy()\n",
    "grads = [i for i in tmp.ch_names if i[0]=='M']\n",
    "_=tmp.pick_channels(grads)"
   ]
  },
  {
   "cell_type": "code",
   "execution_count": null,
   "id": "1011ed19-3677-44d8-90b6-4228682cf4e1",
   "metadata": {},
   "outputs": [],
   "source": [
    "%matplotlib qt\n",
    "fig, axs = plt.subplots(3,2)\n",
    "axs[0,0].set_title('Location 1 Forward Model')\n",
    "plot_topomap(forward['sol']['data'][:,1003], tmp.info, axes=axs[0,0])\n",
    "plot_topomap(forward['sol']['data'][:,1004], tmp.info, axes=axs[1,0])\n",
    "plot_topomap(forward['sol']['data'][:,1005], tmp.info, axes=axs[2,0])\n",
    "\n",
    "axs[0,1].set_title('Location 2 Forward Model')\n",
    "plot_topomap(forward['sol']['data'][:,5003], tmp.info, axes=axs[0,1])\n",
    "plot_topomap(forward['sol']['data'][:,5004], tmp.info, axes=axs[1,1])\n",
    "plot_topomap(forward['sol']['data'][:,5005], tmp.info, axes=axs[2,1])\n"
   ]
  },
  {
   "cell_type": "code",
   "execution_count": null,
   "id": "e0c5105c-3e08-4aed-9033-e8f55450ad38",
   "metadata": {},
   "outputs": [],
   "source": [
    "%matplotlib inline\n",
    "fig=plt.figure(figsize=(12,8))\n",
    "plt.imshow(forward['sol']['data'], aspect='auto', cmap='jet', vmax=3e-6, vmin=-3e-6)\n",
    "plt.title('Forward Model Simulation at every point in the source model')\n",
    "plt.xlabel('Source Location')\n",
    "plt.ylabel('Channel index')"
   ]
  },
  {
   "cell_type": "code",
   "execution_count": null,
   "id": "0b1b2379-1c81-4c58-9f06-31616867248d",
   "metadata": {},
   "outputs": [],
   "source": []
  },
  {
   "cell_type": "code",
   "execution_count": null,
   "id": "d982b993-11bd-4fbf-b3a1-5f3c70e3ff7f",
   "metadata": {},
   "outputs": [],
   "source": []
  }
 ],
 "metadata": {
  "kernelspec": {
   "display_name": "Python 3 (ipykernel)",
   "language": "python",
   "name": "python3"
  },
  "language_info": {
   "codemirror_mode": {
    "name": "ipython",
    "version": 3
   },
   "file_extension": ".py",
   "mimetype": "text/x-python",
   "name": "python",
   "nbconvert_exporter": "python",
   "pygments_lexer": "ipython3",
   "version": "3.11.5"
  }
 },
 "nbformat": 4,
 "nbformat_minor": 5
}
