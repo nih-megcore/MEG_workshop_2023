{
 "cells": [
  {
   "cell_type": "code",
   "execution_count": 1,
   "id": "2b60bd6c-98b0-4f76-8aaf-46d1f2c73abc",
   "metadata": {},
   "outputs": [],
   "source": [
    "import mne\n",
    "import mne_bids\n",
    "import os, os.path as op\n",
    "import nilearn\n",
    "import matplotlib.pyplot as plt\n",
    "\n",
    "from nilearn import *"
   ]
  },
  {
   "cell_type": "markdown",
   "id": "5d9aa9b9-de6c-4cb7-9417-e5c083115dd7",
   "metadata": {},
   "source": [
    "# Setup Paths"
   ]
  },
  {
   "cell_type": "markdown",
   "id": "0cff235a-2ee3-497b-af1e-dec8091f6c2e",
   "metadata": {},
   "source": [
    "## Set some generic BIDS information"
   ]
  },
  {
   "cell_type": "code",
   "execution_count": 2,
   "id": "e5ec8e59-a4a1-4f76-87a0-a03cc3e6430a",
   "metadata": {},
   "outputs": [],
   "source": [
    "#Raw data\n",
    "bids_root = op.join('/data/', os.environ['USER'], 'meg_workshop_data')  \n",
    "#Processed Data Folder: contains (freesurfer / Day1 / Day2) \n",
    "deriv_root = op.join(bids_root, 'derivatives')\n",
    "if not op.exists(deriv_root): os.mkdir(deriv_root)\n",
    "#This course data - bids derivatives outputs for Day2 - hey thats today\n",
    "project_root = op.join(deriv_root, 'Day1')  \n",
    "#Freesurfer brain surface reconstruction\n",
    "fs_subjects_dir = op.join(deriv_root, 'freesurfer','subjects')\n",
    "subjects_dir = fs_subjects_dir"
   ]
  },
  {
   "cell_type": "markdown",
   "id": "a51b6aa4-b076-4f77-b66b-f9118895ca3b",
   "metadata": {},
   "source": [
    "### Find data for a subject"
   ]
  },
  {
   "cell_type": "code",
   "execution_count": 3,
   "id": "e34d81a7-2bcd-4dee-8230-2f0b03d91795",
   "metadata": {},
   "outputs": [],
   "source": [
    "subject = 'ON02811'\n",
    "bids_path = mne_bids.BIDSPath(root=bids_root, subject = subject, session='01', task='airpuff', run='01', datatype='meg')\n",
    "project_path = bids_path.copy().update(root=project_root, check=False)\n",
    "if not op.exists(project_path.root): os.mkdir(project_path.root)\n",
    "\n",
    "t1_bids_path = bids_path.copy().update(datatype='anat', session='01', task=None, run=None, suffix='T1w', acquisition='MPRAGE', extension='.nii.gz')"
   ]
  },
  {
   "cell_type": "code",
   "execution_count": 4,
   "id": "8dcc6eba-482d-48df-8855-6cd7048b8d78",
   "metadata": {
    "scrolled": true
   },
   "outputs": [
    {
     "name": "stderr",
     "output_type": "stream",
     "text": [
      "/tmp/ipykernel_1061253/949019474.py:1: RuntimeWarning: The unit for channel(s) SCLK01-177, UADC001, UPPT001, trigger has changed from V to NA.\n",
      "  raw = mne_bids.read_raw_bids(bids_path, verbose=False)\n",
      "/tmp/ipykernel_1061253/949019474.py:1: RuntimeWarning: participants.tsv file not found for /data/stoutjd/meg_workshop_data/sub-ON02811/ses-01/meg/sub-ON02811_ses-01_task-airpuff_run-01_meg.ds\n",
      "  raw = mne_bids.read_raw_bids(bids_path, verbose=False)\n"
     ]
    }
   ],
   "source": [
    "raw = mne_bids.read_raw_bids(bids_path, verbose=False)"
   ]
  },
  {
   "cell_type": "code",
   "execution_count": 5,
   "id": "7dd5088f-691c-41f3-8373-583c06c596f5",
   "metadata": {
    "scrolled": true
   },
   "outputs": [
    {
     "name": "stdout",
     "output_type": "stream",
     "text": [
      "ds directory : /data/stoutjd/meg_workshop_data/sub-ON02811/ses-01/meg/sub-ON02811_ses-01_task-airpuff_run-01_meg.ds\n",
      "    res4 data read.\n",
      "    hc data read.\n",
      "    Separate EEG position data file not present.\n",
      "    Quaternion matching (desired vs. transformed):\n",
      "      -1.82   70.43    0.00 mm <->   -1.82   70.43    0.00 mm (orig :  -45.24   54.14 -275.77 mm) diff =    0.000 mm\n",
      "       1.82  -70.43    0.00 mm <->    1.82  -70.43    0.00 mm (orig :   62.56  -36.39 -269.47 mm) diff =    0.000 mm\n",
      "      90.00    0.00    0.00 mm <->   90.00   -0.00   -0.00 mm (orig :   65.74   74.78 -250.30 mm) diff =    0.000 mm\n",
      "    Coordinate transformations established.\n",
      "    Polhemus data for 3 HPI coils added\n",
      "    Device coordinate locations for 3 HPI coils added\n",
      "    Measurement info composed.\n",
      "Finding samples for /data/stoutjd/meg_workshop_data/sub-ON02811/ses-01/meg/sub-ON02811_ses-01_task-airpuff_run-01_meg.ds/sub-ON02811_ses-01_task-airpuff_run-01_meg.meg4: \n",
      "    System clock channel is available, checking which samples are valid.\n",
      "    1 x 301200 = 301200 samples from 304 chs\n",
      "Current compensation grade : 3\n",
      "Reading events from /data/stoutjd/meg_workshop_data/sub-ON02811/ses-01/meg/sub-ON02811_ses-01_task-airpuff_run-01_events.tsv.\n",
      "Reading channel info from /data/stoutjd/meg_workshop_data/sub-ON02811/ses-01/meg/sub-ON02811_ses-01_task-airpuff_run-01_channels.tsv.\n"
     ]
    },
    {
     "name": "stderr",
     "output_type": "stream",
     "text": [
      "/tmp/ipykernel_1061253/3083079111.py:1: RuntimeWarning: The unit for channel(s) SCLK01-177, UADC001, UPPT001, trigger has changed from V to NA.\n",
      "  trans = mne_bids.get_head_mri_trans(bids_path, t1_bids_path=t1_bids_path, fs_subject='sub-'+subject, fs_subjects_dir=subjects_dir)\n",
      "/tmp/ipykernel_1061253/3083079111.py:1: RuntimeWarning: participants.tsv file not found for /data/stoutjd/meg_workshop_data/sub-ON02811/ses-01/meg/sub-ON02811_ses-01_task-airpuff_run-01_meg.ds\n",
      "  trans = mne_bids.get_head_mri_trans(bids_path, t1_bids_path=t1_bids_path, fs_subject='sub-'+subject, fs_subjects_dir=subjects_dir)\n"
     ]
    }
   ],
   "source": [
    "trans = mne_bids.get_head_mri_trans(bids_path, t1_bids_path=t1_bids_path, fs_subject='sub-'+subject, fs_subjects_dir=subjects_dir)"
   ]
  },
  {
   "cell_type": "code",
   "execution_count": null,
   "id": "8421a2f4-777c-4cf1-b7d2-238157df1aaf",
   "metadata": {},
   "outputs": [],
   "source": []
  },
  {
   "cell_type": "code",
   "execution_count": 16,
   "id": "25d784a4-e8d2-43a5-a90b-1c62ec51a018",
   "metadata": {},
   "outputs": [
    {
     "data": {
      "text/plain": [
       "<Transform | head->MRI (surface RAS)>\n",
       "[[ 0.99795308  0.03128865 -0.0557733   0.00288806]\n",
       " [-0.05788118  0.81276317 -0.57971182  0.00432162]\n",
       " [ 0.02719208  0.58175343  0.81291054 -0.03190548]\n",
       " [ 0.          0.          0.          1.        ]]"
      ]
     },
     "execution_count": 16,
     "metadata": {},
     "output_type": "execute_result"
    }
   ],
   "source": [
    "trans"
   ]
  },
  {
   "cell_type": "markdown",
   "id": "ed988a1d-e4aa-4ca5-8cdf-76098f10a5ff",
   "metadata": {},
   "source": [
    "### Prepare Imaging for Source Localization"
   ]
  },
  {
   "cell_type": "code",
   "execution_count": 17,
   "id": "4496488c-f1fb-40ac-8b66-2340c8aad45c",
   "metadata": {},
   "outputs": [],
   "source": [
    "# fwd_name=f'{output_dir}/{subjid}-fwd.fif'\n",
    "fwd_name = bids_deriv_path.copy().update(extension='.fif', suffix='fwd')"
   ]
  },
  {
   "cell_type": "code",
   "execution_count": 18,
   "id": "c68d2a6a-ed77-4c0e-8666-b545368ee074",
   "metadata": {},
   "outputs": [
    {
     "data": {
      "text/plain": [
       "'/data/stoutjd/meg_workshop_data/derivatives/freesurfer/subjects'"
      ]
     },
     "execution_count": 18,
     "metadata": {},
     "output_type": "execute_result"
    }
   ],
   "source": [
    "subjects_dir"
   ]
  },
  {
   "cell_type": "code",
   "execution_count": null,
   "id": "2810d482-a0cd-45ee-94b5-d44f0e54b60f",
   "metadata": {},
   "outputs": [],
   "source": [
    "#Requires Freesurfer -  This is already done for our subject\n",
    "#mne.bem.make_watershed_bem('sub-'+subject, subjects_dir=subjects_dir)"
   ]
  },
  {
   "cell_type": "markdown",
   "id": "bd800bc8-5d0c-4247-a142-c9fadf6eadcc",
   "metadata": {},
   "source": [
    "## Run the following cell and copy the output line into the terminal.<br>  This will launch Afni and open the subject file for localizing fiducials."
   ]
  },
  {
   "cell_type": "code",
   "execution_count": 19,
   "id": "5884b51c-6827-4c9a-a2d5-7c2d62b64595",
   "metadata": {},
   "outputs": [
    {
     "name": "stdout",
     "output_type": "stream",
     "text": [
      "afni /data/stoutjd/meg_workshop_data/sub-ON02811/ses-01/anat/sub-ON02811_ses-01_acq-MPRAGE_T1w.nii.gz\n"
     ]
    }
   ],
   "source": [
    "print(f'afni {t1_bids_path.fpath}') "
   ]
  },
  {
   "cell_type": "code",
   "execution_count": 20,
   "id": "32f4664a-6b0f-4fe1-ae23-da0c5d1555ad",
   "metadata": {},
   "outputs": [
    {
     "name": "stdout",
     "output_type": "stream",
     "text": [
      "Precompiled binary linux_rocky_8: Sep 15 2023 (Version AFNI_23.2.10 'Marcus Didius Severus Julianus')\n",
      "\n",
      "\n",
      "** Version check disabled: AFNI_VERSION_CHECK forbids\n",
      "Thanks go to L Pezawas for useful feedback\n",
      "\n",
      "Initializing: X11[The X.Org Foundation v 12101003].++ AFNI is detached from terminal.\n"
     ]
    }
   ],
   "source": [
    "!afni /data/stoutjd/meg_workshop_data/sub-ON02811/ses-01/anat/sub-ON02811_ses-01_acq-MPRAGE_T1w.nii.gz"
   ]
  },
  {
   "cell_type": "markdown",
   "id": "f6de1593-d9f2-4fce-9bb1-bd7e4bfa0d46",
   "metadata": {},
   "source": [
    "## Do a use case for calc_mnetrans"
   ]
  },
  {
   "cell_type": "code",
   "execution_count": null,
   "id": "da3834f6-68b2-4606-b15d-eaf017337e33",
   "metadata": {},
   "outputs": [],
   "source": [
    "import nih2mne\n",
    "from nih2mne import calc_mnetrans"
   ]
  },
  {
   "cell_type": "code",
   "execution_count": null,
   "id": "ce3e109b-96b2-4bde-9c84-6b59ee699aae",
   "metadata": {},
   "outputs": [],
   "source": [
    "# trans_fname = f'{topdir}/{subjid}-trans.fif'\n",
    "# if not os.path.exists(trans_fname):\n",
    "#     # The calc_mnetrans.py code takes tagged Afni, Brainsight, or BIDS json\n",
    "#     anat_json = f'{topdir}/{subjid}/ses-01/meg/{subjid}_ses-01_task-airpuff_run-01_coordsystem.json'\n",
    "#     ! calc_mnetrans.py -anat_json {anat_json} -trans_output {subjid}-trans.fif -dsname {meg_fname} -subject {subjid} -subjects_dir {subjects_dir}\n",
    "#     trans = mne.read_trans(trans_fname)\n",
    "# else:\n",
    "#     trans = mne.read_trans(trans_fname)"
   ]
  },
  {
   "cell_type": "markdown",
   "id": "ab1cc7da-e166-4e5f-8490-5d147f4e4ab0",
   "metadata": {},
   "source": [
    "### Plot the transform"
   ]
  },
  {
   "cell_type": "code",
   "execution_count": null,
   "id": "1e8121a5-e483-4669-9e8d-04f01c24450a",
   "metadata": {},
   "outputs": [],
   "source": [
    "raw.plot()"
   ]
  },
  {
   "cell_type": "code",
   "execution_count": null,
   "id": "c22b0b40-ead8-4d48-9f22-02784f796177",
   "metadata": {},
   "outputs": [],
   "source": []
  },
  {
   "cell_type": "code",
   "execution_count": 1,
   "id": "9ae168eb-9c68-4bd9-842f-d27196f7dea3",
   "metadata": {},
   "outputs": [
    {
     "ename": "ImportError",
     "evalue": "Cannot load backend 'QtAgg' which requires the 'qt' interactive framework, as 'headless' is currently running",
     "output_type": "error",
     "traceback": [
      "\u001b[0;31m---------------------------------------------------------------------------\u001b[0m",
      "\u001b[0;31mImportError\u001b[0m                               Traceback (most recent call last)",
      "Cell \u001b[0;32mIn[1], line 1\u001b[0m\n\u001b[0;32m----> 1\u001b[0m \u001b[43mget_ipython\u001b[49m\u001b[43m(\u001b[49m\u001b[43m)\u001b[49m\u001b[38;5;241;43m.\u001b[39;49m\u001b[43mrun_line_magic\u001b[49m\u001b[43m(\u001b[49m\u001b[38;5;124;43m'\u001b[39;49m\u001b[38;5;124;43mmatplotlib\u001b[39;49m\u001b[38;5;124;43m'\u001b[39;49m\u001b[43m,\u001b[49m\u001b[43m \u001b[49m\u001b[38;5;124;43m'\u001b[39;49m\u001b[38;5;124;43mqt\u001b[39;49m\u001b[38;5;124;43m'\u001b[39;49m\u001b[43m)\u001b[49m\n\u001b[1;32m      2\u001b[0m tmp \u001b[38;5;241m=\u001b[39m mne\u001b[38;5;241m.\u001b[39mviz\u001b[38;5;241m.\u001b[39mplot_alignment(raw\u001b[38;5;241m.\u001b[39minfo, trans\u001b[38;5;241m=\u001b[39mtrans, subject\u001b[38;5;241m=\u001b[39m\u001b[38;5;124m'\u001b[39m\u001b[38;5;124msub-\u001b[39m\u001b[38;5;124m'\u001b[39m\u001b[38;5;241m+\u001b[39msubject, subjects_dir\u001b[38;5;241m=\u001b[39msubjects_dir, dig\u001b[38;5;241m=\u001b[39m\u001b[38;5;28;01mTrue\u001b[39;00m)\n",
      "File \u001b[0;32m/data/MEGmodules/modules/meg_workshop_2023.1/lib/python3.11/site-packages/IPython/core/interactiveshell.py:2432\u001b[0m, in \u001b[0;36mInteractiveShell.run_line_magic\u001b[0;34m(self, magic_name, line, _stack_depth)\u001b[0m\n\u001b[1;32m   2430\u001b[0m     kwargs[\u001b[38;5;124m'\u001b[39m\u001b[38;5;124mlocal_ns\u001b[39m\u001b[38;5;124m'\u001b[39m] \u001b[38;5;241m=\u001b[39m \u001b[38;5;28mself\u001b[39m\u001b[38;5;241m.\u001b[39mget_local_scope(stack_depth)\n\u001b[1;32m   2431\u001b[0m \u001b[38;5;28;01mwith\u001b[39;00m \u001b[38;5;28mself\u001b[39m\u001b[38;5;241m.\u001b[39mbuiltin_trap:\n\u001b[0;32m-> 2432\u001b[0m     result \u001b[38;5;241m=\u001b[39m \u001b[43mfn\u001b[49m\u001b[43m(\u001b[49m\u001b[38;5;241;43m*\u001b[39;49m\u001b[43margs\u001b[49m\u001b[43m,\u001b[49m\u001b[43m \u001b[49m\u001b[38;5;241;43m*\u001b[39;49m\u001b[38;5;241;43m*\u001b[39;49m\u001b[43mkwargs\u001b[49m\u001b[43m)\u001b[49m\n\u001b[1;32m   2434\u001b[0m \u001b[38;5;66;03m# The code below prevents the output from being displayed\u001b[39;00m\n\u001b[1;32m   2435\u001b[0m \u001b[38;5;66;03m# when using magics with decorator @output_can_be_silenced\u001b[39;00m\n\u001b[1;32m   2436\u001b[0m \u001b[38;5;66;03m# when the last Python token in the expression is a ';'.\u001b[39;00m\n\u001b[1;32m   2437\u001b[0m \u001b[38;5;28;01mif\u001b[39;00m \u001b[38;5;28mgetattr\u001b[39m(fn, magic\u001b[38;5;241m.\u001b[39mMAGIC_OUTPUT_CAN_BE_SILENCED, \u001b[38;5;28;01mFalse\u001b[39;00m):\n",
      "File \u001b[0;32m/data/MEGmodules/modules/meg_workshop_2023.1/lib/python3.11/site-packages/IPython/core/magics/pylab.py:99\u001b[0m, in \u001b[0;36mPylabMagics.matplotlib\u001b[0;34m(self, line)\u001b[0m\n\u001b[1;32m     97\u001b[0m     \u001b[38;5;28mprint\u001b[39m(\u001b[38;5;124m\"\u001b[39m\u001b[38;5;124mAvailable matplotlib backends: \u001b[39m\u001b[38;5;132;01m%s\u001b[39;00m\u001b[38;5;124m\"\u001b[39m \u001b[38;5;241m%\u001b[39m backends_list)\n\u001b[1;32m     98\u001b[0m \u001b[38;5;28;01melse\u001b[39;00m:\n\u001b[0;32m---> 99\u001b[0m     gui, backend \u001b[38;5;241m=\u001b[39m \u001b[38;5;28;43mself\u001b[39;49m\u001b[38;5;241;43m.\u001b[39;49m\u001b[43mshell\u001b[49m\u001b[38;5;241;43m.\u001b[39;49m\u001b[43menable_matplotlib\u001b[49m\u001b[43m(\u001b[49m\u001b[43margs\u001b[49m\u001b[38;5;241;43m.\u001b[39;49m\u001b[43mgui\u001b[49m\u001b[38;5;241;43m.\u001b[39;49m\u001b[43mlower\u001b[49m\u001b[43m(\u001b[49m\u001b[43m)\u001b[49m\u001b[43m \u001b[49m\u001b[38;5;28;43;01mif\u001b[39;49;00m\u001b[43m \u001b[49m\u001b[38;5;28;43misinstance\u001b[39;49m\u001b[43m(\u001b[49m\u001b[43margs\u001b[49m\u001b[38;5;241;43m.\u001b[39;49m\u001b[43mgui\u001b[49m\u001b[43m,\u001b[49m\u001b[43m \u001b[49m\u001b[38;5;28;43mstr\u001b[39;49m\u001b[43m)\u001b[49m\u001b[43m \u001b[49m\u001b[38;5;28;43;01melse\u001b[39;49;00m\u001b[43m \u001b[49m\u001b[43margs\u001b[49m\u001b[38;5;241;43m.\u001b[39;49m\u001b[43mgui\u001b[49m\u001b[43m)\u001b[49m\n\u001b[1;32m    100\u001b[0m     \u001b[38;5;28mself\u001b[39m\u001b[38;5;241m.\u001b[39m_show_matplotlib_backend(args\u001b[38;5;241m.\u001b[39mgui, backend)\n",
      "File \u001b[0;32m/data/MEGmodules/modules/meg_workshop_2023.1/lib/python3.11/site-packages/IPython/core/interactiveshell.py:3621\u001b[0m, in \u001b[0;36mInteractiveShell.enable_matplotlib\u001b[0;34m(self, gui)\u001b[0m\n\u001b[1;32m   3617\u001b[0m         \u001b[38;5;28mprint\u001b[39m(\u001b[38;5;124m'\u001b[39m\u001b[38;5;124mWarning: Cannot change to a different GUI toolkit: \u001b[39m\u001b[38;5;132;01m%s\u001b[39;00m\u001b[38;5;124m.\u001b[39m\u001b[38;5;124m'\u001b[39m\n\u001b[1;32m   3618\u001b[0m                 \u001b[38;5;124m'\u001b[39m\u001b[38;5;124m Using \u001b[39m\u001b[38;5;132;01m%s\u001b[39;00m\u001b[38;5;124m instead.\u001b[39m\u001b[38;5;124m'\u001b[39m \u001b[38;5;241m%\u001b[39m (gui, \u001b[38;5;28mself\u001b[39m\u001b[38;5;241m.\u001b[39mpylab_gui_select))\n\u001b[1;32m   3619\u001b[0m         gui, backend \u001b[38;5;241m=\u001b[39m pt\u001b[38;5;241m.\u001b[39mfind_gui_and_backend(\u001b[38;5;28mself\u001b[39m\u001b[38;5;241m.\u001b[39mpylab_gui_select)\n\u001b[0;32m-> 3621\u001b[0m \u001b[43mpt\u001b[49m\u001b[38;5;241;43m.\u001b[39;49m\u001b[43mactivate_matplotlib\u001b[49m\u001b[43m(\u001b[49m\u001b[43mbackend\u001b[49m\u001b[43m)\u001b[49m\n\u001b[1;32m   3622\u001b[0m configure_inline_support(\u001b[38;5;28mself\u001b[39m, backend)\n\u001b[1;32m   3624\u001b[0m \u001b[38;5;66;03m# Now we must activate the gui pylab wants to use, and fix %run to take\u001b[39;00m\n\u001b[1;32m   3625\u001b[0m \u001b[38;5;66;03m# plot updates into account\u001b[39;00m\n",
      "File \u001b[0;32m/data/MEGmodules/modules/meg_workshop_2023.1/lib/python3.11/site-packages/IPython/core/pylabtools.py:368\u001b[0m, in \u001b[0;36mactivate_matplotlib\u001b[0;34m(backend)\u001b[0m\n\u001b[1;32m    363\u001b[0m \u001b[38;5;66;03m# Due to circular imports, pyplot may be only partially initialised\u001b[39;00m\n\u001b[1;32m    364\u001b[0m \u001b[38;5;66;03m# when this function runs.\u001b[39;00m\n\u001b[1;32m    365\u001b[0m \u001b[38;5;66;03m# So avoid needing matplotlib attribute-lookup to access pyplot.\u001b[39;00m\n\u001b[1;32m    366\u001b[0m \u001b[38;5;28;01mfrom\u001b[39;00m \u001b[38;5;21;01mmatplotlib\u001b[39;00m \u001b[38;5;28;01mimport\u001b[39;00m pyplot \u001b[38;5;28;01mas\u001b[39;00m plt\n\u001b[0;32m--> 368\u001b[0m \u001b[43mplt\u001b[49m\u001b[38;5;241;43m.\u001b[39;49m\u001b[43mswitch_backend\u001b[49m\u001b[43m(\u001b[49m\u001b[43mbackend\u001b[49m\u001b[43m)\u001b[49m\n\u001b[1;32m    370\u001b[0m plt\u001b[38;5;241m.\u001b[39mshow\u001b[38;5;241m.\u001b[39m_needmain \u001b[38;5;241m=\u001b[39m \u001b[38;5;28;01mFalse\u001b[39;00m\n\u001b[1;32m    371\u001b[0m \u001b[38;5;66;03m# We need to detect at runtime whether show() is called by the user.\u001b[39;00m\n\u001b[1;32m    372\u001b[0m \u001b[38;5;66;03m# For this, we wrap it into a decorator which adds a 'called' flag.\u001b[39;00m\n",
      "File \u001b[0;32m/data/MEGmodules/modules/meg_workshop_2023.1/lib/python3.11/site-packages/matplotlib/pyplot.py:350\u001b[0m, in \u001b[0;36mswitch_backend\u001b[0;34m(newbackend)\u001b[0m\n\u001b[1;32m    347\u001b[0m     current_framework \u001b[38;5;241m=\u001b[39m cbook\u001b[38;5;241m.\u001b[39m_get_running_interactive_framework()\n\u001b[1;32m    348\u001b[0m     \u001b[38;5;28;01mif\u001b[39;00m (current_framework \u001b[38;5;129;01mand\u001b[39;00m required_framework\n\u001b[1;32m    349\u001b[0m             \u001b[38;5;129;01mand\u001b[39;00m current_framework \u001b[38;5;241m!=\u001b[39m required_framework):\n\u001b[0;32m--> 350\u001b[0m         \u001b[38;5;28;01mraise\u001b[39;00m \u001b[38;5;167;01mImportError\u001b[39;00m(\n\u001b[1;32m    351\u001b[0m             \u001b[38;5;124m\"\u001b[39m\u001b[38;5;124mCannot load backend \u001b[39m\u001b[38;5;132;01m{!r}\u001b[39;00m\u001b[38;5;124m which requires the \u001b[39m\u001b[38;5;132;01m{!r}\u001b[39;00m\u001b[38;5;124m interactive \u001b[39m\u001b[38;5;124m\"\u001b[39m\n\u001b[1;32m    352\u001b[0m             \u001b[38;5;124m\"\u001b[39m\u001b[38;5;124mframework, as \u001b[39m\u001b[38;5;132;01m{!r}\u001b[39;00m\u001b[38;5;124m is currently running\u001b[39m\u001b[38;5;124m\"\u001b[39m\u001b[38;5;241m.\u001b[39mformat(\n\u001b[1;32m    353\u001b[0m                 newbackend, required_framework, current_framework))\n\u001b[1;32m    355\u001b[0m \u001b[38;5;66;03m# Load the new_figure_manager() and show() functions from the backend.\u001b[39;00m\n\u001b[1;32m    356\u001b[0m \n\u001b[1;32m    357\u001b[0m \u001b[38;5;66;03m# Classically, backends can directly export these functions.  This should\u001b[39;00m\n\u001b[1;32m    358\u001b[0m \u001b[38;5;66;03m# keep working for backcompat.\u001b[39;00m\n\u001b[1;32m    359\u001b[0m new_figure_manager \u001b[38;5;241m=\u001b[39m \u001b[38;5;28mgetattr\u001b[39m(module, \u001b[38;5;124m\"\u001b[39m\u001b[38;5;124mnew_figure_manager\u001b[39m\u001b[38;5;124m\"\u001b[39m, \u001b[38;5;28;01mNone\u001b[39;00m)\n",
      "\u001b[0;31mImportError\u001b[0m: Cannot load backend 'QtAgg' which requires the 'qt' interactive framework, as 'headless' is currently running"
     ]
    }
   ],
   "source": [
    "%matplotlib qt\n",
    "tmp = mne.viz.plot_alignment(raw.info, trans=trans, subject='sub-'+subject, subjects_dir=subjects_dir, dig=True)"
   ]
  },
  {
   "cell_type": "code",
   "execution_count": null,
   "id": "bb053697-8b0a-4688-9305-aad863b8cca6",
   "metadata": {},
   "outputs": [],
   "source": [
    "tmp.plotter"
   ]
  },
  {
   "cell_type": "code",
   "execution_count": null,
   "id": "4a54b6e9-f921-42f6-93c0-08e696c59b16",
   "metadata": {},
   "outputs": [],
   "source": [
    "bids_deriv_path.mkdir()"
   ]
  },
  {
   "cell_type": "code",
   "execution_count": null,
   "id": "8de66673-b52c-4cec-9150-945127f7d1b1",
   "metadata": {},
   "outputs": [],
   "source": [
    "# vol_fwd_fname = bids_deriv_path.copy().update(extension='.fif', suffix='volfwd')\n",
    "# bemsol_fname = vol_fwd_fname.copy().update(suffix='bemsol')\n",
    "# bem = mne.make_bem_model('sub-'+subject, subjects_dir=fs_subjects_dir, conductivity=[0.3])\n",
    "# bem_sol = mne.make_bem_solution(bem)\n",
    "# mne.bem.write_bem_solution(bemsol_fname.fpath, bem_sol)"
   ]
  },
  {
   "cell_type": "code",
   "execution_count": null,
   "id": "25783544-3655-4126-95fc-978c29dc3844",
   "metadata": {
    "scrolled": true
   },
   "outputs": [],
   "source": [
    "# fwd_name=f'{output_dir}/{subjid}_vol-fwd.fif'\n",
    "vol_fwd_fname = bids_deriv_path.copy().update(extension='.fif', suffix='volfwd')\n",
    "bemsol_fname = vol_fwd_fname.copy().update(suffix='bemsol')\n",
    "if not os.path.exists(vol_fwd_fname):\n",
    "    # Make a 1 layer bem from the inner skull - Appropriate for MEG, bad for EEG\n",
    "    mne.bem.make_watershed_bem('sub-'+subject, subjects_dir=fs_subjects_dir)\n",
    "    bem = mne.make_bem_model('sub-'+subject, subjects_dir=fs_subjects_dir, conductivity=[0.3])\n",
    "    bem_sol = mne.make_bem_solution(bem)\n",
    "    mne.bem.write_bem_solution(bemsol_fname.fpath, bem_sol)\n",
    "    src = mne.source_space.setup_volume_source_space(subject='sub-'+subject, subjects_dir=fs_subjects_dir,\n",
    "                                                     mri='T1.mgz', bem=bem_sol) \n",
    "    forward = mne.make_forward_solution(raw.info, trans, src, \n",
    "                                        bem_sol, meg=True, eeg=False, n_jobs=-1)\n",
    "    mne.forward.write_forward_solution(vol_fwd_fname, forward)\n",
    "else:\n",
    "    forward = mne.read_forward_solution(vol_fwd_fname)"
   ]
  },
  {
   "cell_type": "markdown",
   "id": "2915bc74-74ff-4107-a6bb-1508f28411f2",
   "metadata": {},
   "source": [
    "## Volumetric Source Model "
   ]
  },
  {
   "cell_type": "code",
   "execution_count": null,
   "id": "04367678-9ee5-418b-b5ab-0a54895b0bf7",
   "metadata": {},
   "outputs": [],
   "source": [
    "src = forward['src']\n",
    "src.plot(subject, subjects_dir=fs_subjects_dir, brain=False, trans=trans)"
   ]
  },
  {
   "cell_type": "markdown",
   "id": "3a1a67a1-ca83-4c36-b012-c1efabe93782",
   "metadata": {},
   "source": [
    "### Surface Source"
   ]
  },
  {
   "cell_type": "code",
   "execution_count": null,
   "id": "dbc6dbc3-56ff-4803-8bfe-d3f704f877b3",
   "metadata": {},
   "outputs": [],
   "source": [
    "fwd_name=f'{output_dir}/{subjid}-fwd.fif'\n",
    "if not os.path.exists(fwd_name):\n",
    "    # Make a 1 layer bem from the inner skull - Appropriate for MEG, bad for EEG\n",
    "    bem = mne.make_bem_model(subjid, subjects_dir=subjects_dir, conductivity=[0.3])\n",
    "    bem_sol = mne.make_bem_solution(bem)\n",
    "    src = mne.source_space.setup_source_space(subject=subjid, subjects_dir=subjects_dir, n_jobs=-1) \n",
    "    forward = mne.make_forward_solution(raw.info, trans, src, \n",
    "                                        bem_sol, meg=True, eeg=False, n_jobs=-1)\n",
    "    mne.forward.write_forward_solution(fwd_name, forward)\n",
    "else:\n",
    "    forward = mne.read_forward_solution(fwd_name)"
   ]
  },
  {
   "cell_type": "code",
   "execution_count": null,
   "id": "b8916efd-cba5-442f-90b2-64099b15e70f",
   "metadata": {},
   "outputs": [],
   "source": [
    "src = forward['src']\n",
    "src.plot(subjects_dir=subjects_dir, head=False, brain='white', trans=trans)"
   ]
  },
  {
   "cell_type": "markdown",
   "id": "b48ebbab-4adf-4205-bfe6-5459e29fad7f",
   "metadata": {},
   "source": [
    "## Make a hippocampal source -- Please do not plan an experiment around subcortical structures unless you speak with MEGcore team. It will likely be a waste of data acquisition unless properly setup"
   ]
  },
  {
   "cell_type": "markdown",
   "id": "a5421c6b-b1e8-4f85-9916-fa1758a11f0b",
   "metadata": {},
   "source": [
    "## Boundary Element Model (For MEG - red boundary in figure is all that is necessary)"
   ]
  },
  {
   "cell_type": "code",
   "execution_count": null,
   "id": "3a5c5751-a2d5-444b-aeac-4a0a621838a3",
   "metadata": {},
   "outputs": [],
   "source": [
    "%matplotlib inline\n",
    "_ = mne.viz.plot_bem(subject='sub-'+subject, subjects_dir=fs_subjects_dir)"
   ]
  },
  {
   "cell_type": "markdown",
   "id": "254238b2-6cdd-4979-982a-6b30cd54f6ea",
   "metadata": {},
   "source": [
    "## Spatial relationship of the brain to the MEG sensors"
   ]
  },
  {
   "cell_type": "code",
   "execution_count": null,
   "id": "b224fffe-3348-4a35-8608-b7b23c1d1dcc",
   "metadata": {},
   "outputs": [],
   "source": [
    "mne.viz.plot_alignment(raw.info, trans=trans, subject='sub-'+subject, subjects_dir=fs_subjects_dir, dig=True, surfaces='pial')"
   ]
  },
  {
   "cell_type": "markdown",
   "id": "786c6564-c228-4413-aeae-9f0492f77c1e",
   "metadata": {},
   "source": [
    "## What is a forward Model?\n",
    "## Simulation of all the source locations through the BEM"
   ]
  },
  {
   "cell_type": "code",
   "execution_count": null,
   "id": "fcb306ca-711a-483f-a658-c0f18e5d63a1",
   "metadata": {},
   "outputs": [],
   "source": [
    "print(forward['sol']['data'].shape)\n",
    "print('Channels, Source Locations X 3')"
   ]
  },
  {
   "cell_type": "code",
   "execution_count": null,
   "id": "8a40482a-f561-418b-9aae-1cf2c84d479d",
   "metadata": {},
   "outputs": [],
   "source": [
    "from mne.viz.topomap import plot_topomap"
   ]
  },
  {
   "cell_type": "code",
   "execution_count": null,
   "id": "24af7462-5257-4e3b-b583-8929b561e90a",
   "metadata": {},
   "outputs": [],
   "source": [
    "tmp=raw.copy()\n",
    "grads = [i for i in tmp.ch_names if i[0]=='M']\n",
    "_=tmp.pick_channels(grads)"
   ]
  },
  {
   "cell_type": "code",
   "execution_count": null,
   "id": "1011ed19-3677-44d8-90b6-4228682cf4e1",
   "metadata": {},
   "outputs": [],
   "source": [
    "%matplotlib qt\n",
    "fig, axs = plt.subplots(3,2)\n",
    "axs[0,0].set_title('Location 1 Forward Model')\n",
    "plot_topomap(forward['sol']['data'][:,1003], tmp.info, axes=axs[0,0])\n",
    "plot_topomap(forward['sol']['data'][:,1004], tmp.info, axes=axs[1,0])\n",
    "plot_topomap(forward['sol']['data'][:,1005], tmp.info, axes=axs[2,0])\n",
    "\n",
    "axs[0,1].set_title('Location 2 Forward Model')\n",
    "plot_topomap(forward['sol']['data'][:,5003], tmp.info, axes=axs[0,1])\n",
    "plot_topomap(forward['sol']['data'][:,5004], tmp.info, axes=axs[1,1])\n",
    "plot_topomap(forward['sol']['data'][:,5005], tmp.info, axes=axs[2,1])\n"
   ]
  },
  {
   "cell_type": "code",
   "execution_count": null,
   "id": "e0c5105c-3e08-4aed-9033-e8f55450ad38",
   "metadata": {},
   "outputs": [],
   "source": [
    "%matplotlib inline\n",
    "fig=plt.figure(figsize=(12,8))\n",
    "plt.imshow(forward['sol']['data'], aspect='auto', cmap='jet', vmax=3e-6, vmin=-3e-6)\n",
    "plt.title('Forward Model Simulation at every point in the source model')\n",
    "plt.xlabel('Source Location')\n",
    "plt.ylabel('Channel index')"
   ]
  },
  {
   "cell_type": "code",
   "execution_count": null,
   "id": "0b1b2379-1c81-4c58-9f06-31616867248d",
   "metadata": {},
   "outputs": [],
   "source": []
  },
  {
   "cell_type": "code",
   "execution_count": null,
   "id": "d982b993-11bd-4fbf-b3a1-5f3c70e3ff7f",
   "metadata": {},
   "outputs": [],
   "source": []
  }
 ],
 "metadata": {
  "kernelspec": {
   "display_name": "Python 3 (ipykernel)",
   "language": "python",
   "name": "python3"
  },
  "language_info": {
   "codemirror_mode": {
    "name": "ipython",
    "version": 3
   },
   "file_extension": ".py",
   "mimetype": "text/x-python",
   "name": "python",
   "nbconvert_exporter": "python",
   "pygments_lexer": "ipython3",
   "version": "3.11.5"
  }
 },
 "nbformat": 4,
 "nbformat_minor": 5
}
