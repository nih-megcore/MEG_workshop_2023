{
 "cells": [
  {
   "cell_type": "code",
   "execution_count": 30,
   "id": "8fae6dd4-0f8a-4a43-998b-96db9878505e",
   "metadata": {},
   "outputs": [],
   "source": [
    "import mne\n",
    "import mne_bids\n",
    "import os, os.path as op"
   ]
  },
  {
   "cell_type": "code",
   "execution_count": 23,
   "id": "6bb81619-dd96-4186-9981-394503d3c67b",
   "metadata": {},
   "outputs": [],
   "source": [
    "t1_bids_path=mne_bids.get_bids_path_from_fname('/data/MEG_workshop_data/ds004215/sub-ON02811/ses-01/anat/sub-ON02811_ses-01_acq-MPRAGE_T1w.nii.gz')"
   ]
  },
  {
   "cell_type": "code",
   "execution_count": 74,
   "id": "23695053-0b1e-4b42-88d7-38cbefdfc412",
   "metadata": {},
   "outputs": [],
   "source": [
    "bids_root = '/data/MEG_workshop_data/ds004215'\n",
    "deriv_root = op.join(bids_root, 'derivatives')\n",
    "fs_subjects_dir = op.join(deriv_root, 'freesurfer','subjects')\n",
    "# fs_subjects_dir = op.join(bids_root, 'derivatives', 'freesurfer','subjects')"
   ]
  },
  {
   "cell_type": "code",
   "execution_count": 77,
   "id": "aaacbaa0-cabc-4040-8222-4dbe923b0fab",
   "metadata": {},
   "outputs": [
    {
     "data": {
      "text/plain": [
       "PosixPath('/data/MEG_workshop_data/ds004215/derivatives/MEGworkshop')"
      ]
     },
     "execution_count": 77,
     "metadata": {},
     "output_type": "execute_result"
    }
   ],
   "source": [
    "bids_deriv_path.root"
   ]
  },
  {
   "cell_type": "code",
   "execution_count": 78,
   "id": "e34d81a7-2bcd-4dee-8230-2f0b03d91795",
   "metadata": {},
   "outputs": [],
   "source": [
    "subject = 'ON02811'\n",
    "bids_path = mne_bids.BIDSPath(root=bids_root, subject = subject, session='01', task='airpuff', run='01', datatype='meg')\n",
    "bids_deriv_path = bids_path.copy().update(root=op.join(bids_root, 'derivatives', 'MEGworkshop'), check=False)\n",
    "if not op.exists(bids_deriv_path.root): os.mkdir(bids_deriv_path.root)\n",
    "\n",
    "#t1_bids_path = bids_path.copy().update(datatype='anat', session=None, task=None, run='01')"
   ]
  },
  {
   "cell_type": "code",
   "execution_count": 26,
   "id": "2d433cc9-b3b7-4640-aa76-ea49be943823",
   "metadata": {},
   "outputs": [
    {
     "data": {
      "text/plain": [
       "PosixPath('/data/MEG_workshop_data/ds004215/sub-ON02811/ses-01/anat/sub-ON02811_ses-01_acq-MPRAGE_T1w.nii.gz')"
      ]
     },
     "execution_count": 26,
     "metadata": {},
     "output_type": "execute_result"
    }
   ],
   "source": [
    "t1_bids_path.fpath"
   ]
  },
  {
   "cell_type": "code",
   "execution_count": 6,
   "id": "8dcc6eba-482d-48df-8855-6cd7048b8d78",
   "metadata": {},
   "outputs": [
    {
     "name": "stdout",
     "output_type": "stream",
     "text": [
      "ds directory : /data/MEG_workshop_data/ds004215/sub-ON02811/ses-01/meg/sub-ON02811_ses-01_task-airpuff_run-01_meg.ds\n",
      "    res4 data read.\n",
      "    hc data read.\n",
      "    Separate EEG position data file not present.\n",
      "    Quaternion matching (desired vs. transformed):\n",
      "      -1.82   70.43    0.00 mm <->   -1.82   70.43    0.00 mm (orig :  -45.24   54.14 -275.77 mm) diff =    0.000 mm\n",
      "       1.82  -70.43    0.00 mm <->    1.82  -70.43    0.00 mm (orig :   62.56  -36.39 -269.47 mm) diff =    0.000 mm\n",
      "      90.00    0.00    0.00 mm <->   90.00   -0.00   -0.00 mm (orig :   65.74   74.78 -250.30 mm) diff =    0.000 mm\n",
      "    Coordinate transformations established.\n",
      "    Polhemus data for 3 HPI coils added\n",
      "    Device coordinate locations for 3 HPI coils added\n",
      "    Measurement info composed.\n",
      "Finding samples for /data/MEG_workshop_data/ds004215/sub-ON02811/ses-01/meg/sub-ON02811_ses-01_task-airpuff_run-01_meg.ds/sub-ON02811_ses-01_task-airpuff_run-01_meg.meg4: \n",
      "    System clock channel is available, checking which samples are valid.\n",
      "    1 x 301200 = 301200 samples from 304 chs\n",
      "Current compensation grade : 3\n",
      "Reading events from /data/MEG_workshop_data/ds004215/sub-ON02811/ses-01/meg/sub-ON02811_ses-01_task-airpuff_run-01_events.tsv.\n",
      "Reading channel info from /data/MEG_workshop_data/ds004215/sub-ON02811/ses-01/meg/sub-ON02811_ses-01_task-airpuff_run-01_channels.tsv.\n"
     ]
    },
    {
     "name": "stderr",
     "output_type": "stream",
     "text": [
      "/tmp/ipykernel_6689/3316973082.py:1: RuntimeWarning: The unit for channel(s) SCLK01-177, UADC001-2104, UPPT001, trigger has changed from V to NA.\n",
      "  raw = mne_bids.read_raw_bids(bids_path)\n"
     ]
    }
   ],
   "source": [
    "raw = mne_bids.read_raw_bids(bids_path)"
   ]
  },
  {
   "cell_type": "code",
   "execution_count": 7,
   "id": "7d6bcc37-e74d-4105-b56a-56c9e041101d",
   "metadata": {},
   "outputs": [
    {
     "name": "stdout",
     "output_type": "stream",
     "text": [
      "ds directory : /data/MEG_workshop_data/ds004215/sub-ON02811/ses-01/meg/sub-ON02811_ses-01_task-airpuff_run-01_meg.ds\n",
      "    res4 data read.\n",
      "    hc data read.\n",
      "    Separate EEG position data file not present.\n",
      "    Quaternion matching (desired vs. transformed):\n",
      "      -1.82   70.43    0.00 mm <->   -1.82   70.43    0.00 mm (orig :  -45.24   54.14 -275.77 mm) diff =    0.000 mm\n",
      "       1.82  -70.43    0.00 mm <->    1.82  -70.43    0.00 mm (orig :   62.56  -36.39 -269.47 mm) diff =    0.000 mm\n",
      "      90.00    0.00    0.00 mm <->   90.00   -0.00   -0.00 mm (orig :   65.74   74.78 -250.30 mm) diff =    0.000 mm\n",
      "    Coordinate transformations established.\n",
      "    Polhemus data for 3 HPI coils added\n",
      "    Device coordinate locations for 3 HPI coils added\n",
      "    Measurement info composed.\n",
      "Finding samples for /data/MEG_workshop_data/ds004215/sub-ON02811/ses-01/meg/sub-ON02811_ses-01_task-airpuff_run-01_meg.ds/sub-ON02811_ses-01_task-airpuff_run-01_meg.meg4: \n",
      "    System clock channel is available, checking which samples are valid.\n",
      "    1 x 301200 = 301200 samples from 304 chs\n",
      "Current compensation grade : 3\n"
     ]
    }
   ],
   "source": [
    "raw = mne.io.read_raw_ctf(bids_path.fpath, clean_names=True)"
   ]
  },
  {
   "cell_type": "code",
   "execution_count": 12,
   "id": "366011e3-d886-42b7-899c-49d8ce2183d3",
   "metadata": {},
   "outputs": [
    {
     "data": {
      "text/plain": [
       "PosixPath('/data/MEG_workshop_data/ds004215/sub-ON028747/ses-01/meg/sub-ON028747_ses-01_task-airpuff_run-01')"
      ]
     },
     "execution_count": 12,
     "metadata": {},
     "output_type": "execute_result"
    }
   ],
   "source": []
  },
  {
   "cell_type": "code",
   "execution_count": 29,
   "id": "63bb934f-9bbd-434f-9353-ae60d69655e4",
   "metadata": {
    "scrolled": true
   },
   "outputs": [
    {
     "data": {
      "text/plain": [
       "['SCLK01',\n",
       " 'BG1',\n",
       " 'BG2',\n",
       " 'BG3',\n",
       " 'BP1',\n",
       " 'BP2',\n",
       " 'BP3',\n",
       " 'BR1',\n",
       " 'BR2',\n",
       " 'BR3',\n",
       " 'G11',\n",
       " 'G12',\n",
       " 'G13',\n",
       " 'G22',\n",
       " 'G23',\n",
       " 'P11',\n",
       " 'P12',\n",
       " 'P22',\n",
       " 'P23',\n",
       " 'Q11',\n",
       " 'Q12',\n",
       " 'Q13',\n",
       " 'Q22',\n",
       " 'Q23',\n",
       " 'R11',\n",
       " 'R12',\n",
       " 'R13',\n",
       " 'R22',\n",
       " 'R23',\n",
       " 'MLC11',\n",
       " 'MLC12',\n",
       " 'MLC13',\n",
       " 'MLC14',\n",
       " 'MLC15',\n",
       " 'MLC16',\n",
       " 'MLC17',\n",
       " 'MLC21',\n",
       " 'MLC22',\n",
       " 'MLC23',\n",
       " 'MLC24',\n",
       " 'MLC25',\n",
       " 'MLC31',\n",
       " 'MLC32',\n",
       " 'MLC41',\n",
       " 'MLC42',\n",
       " 'MLC51',\n",
       " 'MLC52',\n",
       " 'MLC53',\n",
       " 'MLC54',\n",
       " 'MLC55',\n",
       " 'MLC61',\n",
       " 'MLC62',\n",
       " 'MLC63',\n",
       " 'MLF11',\n",
       " 'MLF12',\n",
       " 'MLF13',\n",
       " 'MLF14',\n",
       " 'MLF21',\n",
       " 'MLF22',\n",
       " 'MLF23',\n",
       " 'MLF24',\n",
       " 'MLF31',\n",
       " 'MLF32',\n",
       " 'MLF33',\n",
       " 'MLF34',\n",
       " 'MLF35',\n",
       " 'MLF41',\n",
       " 'MLF42',\n",
       " 'MLF43',\n",
       " 'MLF44',\n",
       " 'MLF45',\n",
       " 'MLF46',\n",
       " 'MLF51',\n",
       " 'MLF52',\n",
       " 'MLF53',\n",
       " 'MLF54',\n",
       " 'MLF55',\n",
       " 'MLF56',\n",
       " 'MLF61',\n",
       " 'MLF62',\n",
       " 'MLF63',\n",
       " 'MLF64',\n",
       " 'MLF65',\n",
       " 'MLF66',\n",
       " 'MLF67',\n",
       " 'MLO11',\n",
       " 'MLO12',\n",
       " 'MLO13',\n",
       " 'MLO14',\n",
       " 'MLO21',\n",
       " 'MLO22',\n",
       " 'MLO23',\n",
       " 'MLO24',\n",
       " 'MLO31',\n",
       " 'MLO32',\n",
       " 'MLO33',\n",
       " 'MLO34',\n",
       " 'MLO41',\n",
       " 'MLO42',\n",
       " 'MLO43',\n",
       " 'MLO44',\n",
       " 'MLO51',\n",
       " 'MLO52',\n",
       " 'MLO53',\n",
       " 'MLP11',\n",
       " 'MLP12',\n",
       " 'MLP21',\n",
       " 'MLP22',\n",
       " 'MLP23',\n",
       " 'MLP31',\n",
       " 'MLP32',\n",
       " 'MLP33',\n",
       " 'MLP34',\n",
       " 'MLP35',\n",
       " 'MLP41',\n",
       " 'MLP42',\n",
       " 'MLP43',\n",
       " 'MLP44',\n",
       " 'MLP45',\n",
       " 'MLP51',\n",
       " 'MLP52',\n",
       " 'MLP53',\n",
       " 'MLP54',\n",
       " 'MLP55',\n",
       " 'MLP56',\n",
       " 'MLP57',\n",
       " 'MLT11',\n",
       " 'MLT12',\n",
       " 'MLT13',\n",
       " 'MLT14',\n",
       " 'MLT15',\n",
       " 'MLT16',\n",
       " 'MLT21',\n",
       " 'MLT22',\n",
       " 'MLT23',\n",
       " 'MLT24',\n",
       " 'MLT25',\n",
       " 'MLT26',\n",
       " 'MLT27',\n",
       " 'MLT31',\n",
       " 'MLT32',\n",
       " 'MLT33',\n",
       " 'MLT34',\n",
       " 'MLT35',\n",
       " 'MLT36',\n",
       " 'MLT37',\n",
       " 'MLT41',\n",
       " 'MLT42',\n",
       " 'MLT43',\n",
       " 'MLT44',\n",
       " 'MLT45',\n",
       " 'MLT46',\n",
       " 'MLT47',\n",
       " 'MLT51',\n",
       " 'MLT52',\n",
       " 'MLT53',\n",
       " 'MLT54',\n",
       " 'MLT55',\n",
       " 'MLT56',\n",
       " 'MLT57',\n",
       " 'MRC11',\n",
       " 'MRC12',\n",
       " 'MRC13',\n",
       " 'MRC14',\n",
       " 'MRC15',\n",
       " 'MRC16',\n",
       " 'MRC17',\n",
       " 'MRC21',\n",
       " 'MRC22',\n",
       " 'MRC23',\n",
       " 'MRC24',\n",
       " 'MRC25',\n",
       " 'MRC31',\n",
       " 'MRC32',\n",
       " 'MRC41',\n",
       " 'MRC42',\n",
       " 'MRC51',\n",
       " 'MRC52',\n",
       " 'MRC53',\n",
       " 'MRC54',\n",
       " 'MRC55',\n",
       " 'MRC61',\n",
       " 'MRC62',\n",
       " 'MRC63',\n",
       " 'MRF11',\n",
       " 'MRF12',\n",
       " 'MRF13',\n",
       " 'MRF14',\n",
       " 'MRF21',\n",
       " 'MRF22',\n",
       " 'MRF23',\n",
       " 'MRF24',\n",
       " 'MRF25',\n",
       " 'MRF31',\n",
       " 'MRF32',\n",
       " 'MRF33',\n",
       " 'MRF34',\n",
       " 'MRF35',\n",
       " 'MRF41',\n",
       " 'MRF42',\n",
       " 'MRF44',\n",
       " 'MRF45',\n",
       " 'MRF46',\n",
       " 'MRF51',\n",
       " 'MRF52',\n",
       " 'MRF53',\n",
       " 'MRF54',\n",
       " 'MRF55',\n",
       " 'MRF56',\n",
       " 'MRF61',\n",
       " 'MRF62',\n",
       " 'MRF63',\n",
       " 'MRF64',\n",
       " 'MRF65',\n",
       " 'MRF66',\n",
       " 'MRF67',\n",
       " 'MRO11',\n",
       " 'MRO12',\n",
       " 'MRO14',\n",
       " 'MRO21',\n",
       " 'MRO22',\n",
       " 'MRO23',\n",
       " 'MRO24',\n",
       " 'MRO31',\n",
       " 'MRO32',\n",
       " 'MRO33',\n",
       " 'MRO34',\n",
       " 'MRO41',\n",
       " 'MRO42',\n",
       " 'MRO43',\n",
       " 'MRO44',\n",
       " 'MRO51',\n",
       " 'MRO52',\n",
       " 'MRO53',\n",
       " 'MRP11',\n",
       " 'MRP12',\n",
       " 'MRP21',\n",
       " 'MRP22',\n",
       " 'MRP23',\n",
       " 'MRP31',\n",
       " 'MRP32',\n",
       " 'MRP33',\n",
       " 'MRP34',\n",
       " 'MRP35',\n",
       " 'MRP41',\n",
       " 'MRP42',\n",
       " 'MRP43',\n",
       " 'MRP44',\n",
       " 'MRP45',\n",
       " 'MRP51',\n",
       " 'MRP52',\n",
       " 'MRP53',\n",
       " 'MRP54',\n",
       " 'MRP55',\n",
       " 'MRP56',\n",
       " 'MRP57',\n",
       " 'MRT11',\n",
       " 'MRT12',\n",
       " 'MRT13',\n",
       " 'MRT14',\n",
       " 'MRT15',\n",
       " 'MRT16',\n",
       " 'MRT21',\n",
       " 'MRT22',\n",
       " 'MRT23',\n",
       " 'MRT24',\n",
       " 'MRT25',\n",
       " 'MRT26',\n",
       " 'MRT27',\n",
       " 'MRT31',\n",
       " 'MRT32',\n",
       " 'MRT33',\n",
       " 'MRT34',\n",
       " 'MRT35',\n",
       " 'MRT36',\n",
       " 'MRT37',\n",
       " 'MRT41',\n",
       " 'MRT42',\n",
       " 'MRT43',\n",
       " 'MRT44',\n",
       " 'MRT45',\n",
       " 'MRT46',\n",
       " 'MRT47',\n",
       " 'MRT51',\n",
       " 'MRT52',\n",
       " 'MRT53',\n",
       " 'MRT54',\n",
       " 'MRT55',\n",
       " 'MRT56',\n",
       " 'MRT57',\n",
       " 'MZC01',\n",
       " 'MZC02',\n",
       " 'MZC03',\n",
       " 'MZC04',\n",
       " 'MZF01',\n",
       " 'MZF02',\n",
       " 'MZF03',\n",
       " 'MZO01',\n",
       " 'MZO02',\n",
       " 'MZO03',\n",
       " 'MZP01',\n",
       " 'UADC001',\n",
       " 'UPPT001',\n",
       " 'trigger']"
      ]
     },
     "execution_count": 29,
     "metadata": {},
     "output_type": "execute_result"
    }
   ],
   "source": [
    "raw.ch_names"
   ]
  },
  {
   "cell_type": "code",
   "execution_count": 41,
   "id": "7dd5088f-691c-41f3-8373-583c06c596f5",
   "metadata": {
    "scrolled": true
   },
   "outputs": [
    {
     "name": "stdout",
     "output_type": "stream",
     "text": [
      "ds directory : /data/MEG_workshop_data/ds004215/sub-ON02811/ses-01/meg/sub-ON02811_ses-01_task-airpuff_run-01_meg.ds\n",
      "    res4 data read.\n",
      "    hc data read.\n",
      "    Separate EEG position data file not present.\n",
      "    Quaternion matching (desired vs. transformed):\n",
      "      -1.82   70.43    0.00 mm <->   -1.82   70.43    0.00 mm (orig :  -45.24   54.14 -275.77 mm) diff =    0.000 mm\n",
      "       1.82  -70.43    0.00 mm <->    1.82  -70.43    0.00 mm (orig :   62.56  -36.39 -269.47 mm) diff =    0.000 mm\n",
      "      90.00    0.00    0.00 mm <->   90.00   -0.00   -0.00 mm (orig :   65.74   74.78 -250.30 mm) diff =    0.000 mm\n",
      "    Coordinate transformations established.\n",
      "    Polhemus data for 3 HPI coils added\n",
      "    Device coordinate locations for 3 HPI coils added\n",
      "    Measurement info composed.\n",
      "Finding samples for /data/MEG_workshop_data/ds004215/sub-ON02811/ses-01/meg/sub-ON02811_ses-01_task-airpuff_run-01_meg.ds/sub-ON02811_ses-01_task-airpuff_run-01_meg.meg4: \n",
      "    System clock channel is available, checking which samples are valid.\n",
      "    1 x 301200 = 301200 samples from 304 chs\n",
      "Current compensation grade : 3\n",
      "Reading events from /data/MEG_workshop_data/ds004215/sub-ON02811/ses-01/meg/sub-ON02811_ses-01_task-airpuff_run-01_events.tsv.\n",
      "Reading channel info from /data/MEG_workshop_data/ds004215/sub-ON02811/ses-01/meg/sub-ON02811_ses-01_task-airpuff_run-01_channels.tsv.\n"
     ]
    },
    {
     "name": "stderr",
     "output_type": "stream",
     "text": [
      "/tmp/ipykernel_6689/2944433602.py:1: RuntimeWarning: The unit for channel(s) SCLK01-177, UADC001-2104, UPPT001, trigger has changed from V to NA.\n",
      "  trans = mne_bids.get_head_mri_trans(bids_path, extra_params={'clean_names': True}, t1_bids_path=t1_bids_path, fs_subject='sub-'+subject, fs_subjects_dir=fs_subjects_dir)\n"
     ]
    }
   ],
   "source": [
    "trans = mne_bids.get_head_mri_trans(bids_path, extra_params={'clean_names': True}, t1_bids_path=t1_bids_path, fs_subject='sub-'+subject, fs_subjects_dir=fs_subjects_dir)"
   ]
  },
  {
   "cell_type": "code",
   "execution_count": 42,
   "id": "25d784a4-e8d2-43a5-a90b-1c62ec51a018",
   "metadata": {},
   "outputs": [
    {
     "data": {
      "text/plain": [
       "<Transform | head->MRI (surface RAS)>\n",
       "[[ 0.99795308  0.03128865 -0.0557733   0.00288806]\n",
       " [-0.05788118  0.81276317 -0.57971182  0.00432162]\n",
       " [ 0.02719208  0.58175343  0.81291054 -0.03190548]\n",
       " [ 0.          0.          0.          1.        ]]"
      ]
     },
     "execution_count": 42,
     "metadata": {},
     "output_type": "execute_result"
    }
   ],
   "source": [
    "trans"
   ]
  },
  {
   "cell_type": "markdown",
   "id": "ed988a1d-e4aa-4ca5-8cdf-76098f10a5ff",
   "metadata": {},
   "source": [
    "### Prepare Imaging for Source Localization"
   ]
  },
  {
   "cell_type": "code",
   "execution_count": 50,
   "id": "4496488c-f1fb-40ac-8b66-2340c8aad45c",
   "metadata": {},
   "outputs": [],
   "source": [
    "# fwd_name=f'{output_dir}/{subjid}-fwd.fif'\n",
    "fwd_name = bids_deriv_path.copy().update(extension='.fif', suffix='fwd')"
   ]
  },
  {
   "cell_type": "code",
   "execution_count": null,
   "id": "2810d482-a0cd-45ee-94b5-d44f0e54b60f",
   "metadata": {},
   "outputs": [],
   "source": [
    "#Requires Freesurfer -  This is already done for our subject\n",
    "#mne.bem.make_watershed_bem(subjid, subjects_dir=subjects_dir)"
   ]
  },
  {
   "cell_type": "markdown",
   "id": "f6de1593-d9f2-4fce-9bb1-bd7e4bfa0d46",
   "metadata": {},
   "source": [
    "## Do a use case for calc_mnetrans"
   ]
  },
  {
   "cell_type": "code",
   "execution_count": null,
   "id": "da3834f6-68b2-4606-b15d-eaf017337e33",
   "metadata": {},
   "outputs": [],
   "source": [
    "import nih2mne\n",
    "from nih2mne import calc_mnetrans"
   ]
  },
  {
   "cell_type": "code",
   "execution_count": null,
   "id": "ce3e109b-96b2-4bde-9c84-6b59ee699aae",
   "metadata": {},
   "outputs": [],
   "source": [
    "trans_fname = f'{topdir}/{subjid}-trans.fif'\n",
    "if not os.path.exists(trans_fname):\n",
    "    # The calc_mnetrans.py code takes tagged Afni, Brainsight, or BIDS json\n",
    "    anat_json = f'{topdir}/{subjid}/ses-01/meg/{subjid}_ses-01_task-airpuff_run-01_coordsystem.json'\n",
    "    ! calc_mnetrans.py -anat_json {anat_json} -trans_output {subjid}-trans.fif -dsname {meg_fname} -subject {subjid} -subjects_dir {subjects_dir}\n",
    "    trans = mne.read_trans(trans_fname)\n",
    "else:\n",
    "    trans = mne.read_trans(trans_fname)"
   ]
  },
  {
   "cell_type": "markdown",
   "id": "ab1cc7da-e166-4e5f-8490-5d147f4e4ab0",
   "metadata": {},
   "source": [
    "### Plot the transform"
   ]
  },
  {
   "cell_type": "code",
   "execution_count": 60,
   "id": "9ae168eb-9c68-4bd9-842f-d27196f7dea3",
   "metadata": {},
   "outputs": [
    {
     "name": "stdout",
     "output_type": "stream",
     "text": [
      "Using outer_skin.surf for head surface.\n",
      "Getting helmet for system CTF_275\n",
      "Removing 5 compensators from info because not all compensation channels were picked.\n",
      "Channel types::\tmag: 272\n"
     ]
    },
    {
     "data": {
      "text/plain": [
       "<mne.viz.backends._pyvista.PyVistaFigure at 0x7fd00aa55e10>"
      ]
     },
     "execution_count": 60,
     "metadata": {},
     "output_type": "execute_result"
    }
   ],
   "source": [
    "mne.viz.plot_alignment(raw.info, trans=trans, subject='sub-'+subject, subjects_dir=fs_subjects_dir, dig=True)"
   ]
  },
  {
   "cell_type": "code",
   "execution_count": 67,
   "id": "25783544-3655-4126-95fc-978c29dc3844",
   "metadata": {},
   "outputs": [
    {
     "name": "stdout",
     "output_type": "stream",
     "text": [
      "Creating the BEM geometry...\n",
      "Going from 5th to 4th subdivision of an icosahedron (n_tri: 20480 -> 5120)\n",
      "inner skull CM is  -2.60 -26.24  17.24 mm\n",
      "Surfaces passed the basic topology checks.\n",
      "Complete.\n",
      "\n",
      "Homogeneous model surface loaded.\n",
      "Computing the linear collocation solution...\n",
      "    Matrix coefficients...\n",
      "        inner skull (2562) -> inner skull (2562) ...\n",
      "    Inverting the coefficient matrix...\n",
      "Solution ready.\n",
      "BEM geometry computations complete.\n",
      "BEM              : <ConductorModel | BEM (1 layer) solver=mne>\n",
      "grid                  : 5.0 mm\n",
      "mindist               : 5.0 mm\n",
      "MRI volume            : /data/MEG_workshop_data/ds004215/derivatives/freesurfer/subjects/sub-ON02811/mri/T1.mgz\n",
      "\n",
      "Reading /data/MEG_workshop_data/ds004215/derivatives/freesurfer/subjects/sub-ON02811/mri/T1.mgz...\n",
      "\n",
      "Taking inner skull from <ConductorModel | BEM (1 layer) solver=mne>\n",
      "Surface CM = (  -2.6  -26.2   17.2) mm\n",
      "Surface fits inside a sphere with radius   92.1 mm\n",
      "Surface extent:\n",
      "    x =  -75.2 ...   69.8 mm\n",
      "    y =  -99.1 ...   64.8 mm\n",
      "    z =  -55.7 ...   78.7 mm\n",
      "Grid extent:\n",
      "    x =  -80.0 ...   70.0 mm\n",
      "    y = -100.0 ...   65.0 mm\n",
      "    z =  -60.0 ...   80.0 mm\n",
      "30566 sources before omitting any.\n",
      "22836 sources after omitting infeasible sources not within 0.0 - 92.1 mm.\n",
      "Source spaces are in MRI coordinates.\n",
      "Checking that the sources are inside the surface and at least    5.0 mm away (will take a few...)\n",
      "Checking surface interior status for 22836 points...\n",
      "    Found  2332/22836 points inside  an interior sphere of radius   41.1 mm\n",
      "    Found     0/22836 points outside an exterior sphere of radius   92.1 mm\n",
      "    Found 10154/20504 points outside using surface Qhull\n",
      "    Found   802/10350 points outside using solid angles\n",
      "    Total 11880/22836 points inside the surface\n",
      "Interior check completed in 5028.2 ms\n",
      "    10956 source space points omitted because they are outside the inner skull surface.\n",
      "    2284 source space points omitted because of the    5.0-mm distance limit.\n",
      "9596 sources remaining after excluding the sources outside the surface and less than    5.0 mm inside.\n",
      "Adjusting the neighborhood info.\n",
      "Source space : MRI voxel -> MRI (surface RAS)\n",
      "     0.005000  0.000000  0.000000     -80.00 mm\n",
      "     0.000000  0.005000  0.000000    -100.00 mm\n",
      "     0.000000  0.000000  0.005000     -60.00 mm\n",
      "     0.000000  0.000000  0.000000       1.00\n",
      "MRI volume : MRI voxel -> MRI (surface RAS)\n",
      "    -0.001000  0.000000  0.000000     128.00 mm\n",
      "     0.000000  0.000000  0.001000    -128.00 mm\n",
      "     0.000000 -0.001000  0.000000     128.00 mm\n",
      "     0.000000  0.000000  0.000000       1.00\n",
      "MRI volume : MRI (surface RAS) -> RAS (non-zero origin)\n",
      "     1.000000  0.000000  0.000000       2.06 mm\n",
      "     0.000000  1.000000  0.000000      33.46 mm\n",
      "     0.000000  0.000000  1.000000     -17.27 mm\n",
      "     0.000000  0.000000  0.000000       1.00\n",
      "Setting up volume interpolation ...\n",
      "    8240284/16777216 nonzero values for the whole brain\n",
      "[done]\n",
      "Source space          : <SourceSpaces: [<volume, shape=(31, 34, 29), n_used=9596>] MRI (surface RAS) coords, subject 'sub-ON02811', ~71.6 MB>\n",
      "MRI -> head transform : instance of Transform\n",
      "Measurement data      : instance of Info\n",
      "Conductor model   : instance of ConductorModel\n",
      "Accurate field computations\n",
      "Do computations in head coordinates\n",
      "Free source orientations\n",
      "\n",
      "Read 1 source spaces a total of 9596 active source locations\n",
      "\n",
      "Coordinate transformation: MRI (surface RAS) -> head\n",
      "     0.997953 -0.057881  0.027192      -1.76 mm\n",
      "     0.031289  0.812763  0.581753      14.96 mm\n",
      "    -0.055773 -0.579712  0.812911      28.60 mm\n",
      "     0.000000  0.000000  0.000000       1.00\n",
      "\n",
      "Read 300 MEG channels from info\n",
      "Read 28 MEG compensation channels from info\n",
      "5 compensation data sets in info\n",
      "Setting up compensation data...\n",
      "    Desired compensation data (3) found.\n",
      "    All compensation channels found.\n",
      "    Preselector created.\n",
      "    Compensation data matrix created.\n",
      "    Postselector created.\n",
      "105 coil definitions read\n",
      "Coordinate transformation: MEG device -> head\n",
      "     0.995236  0.086663  0.044669       0.44 mm\n",
      "    -0.095056  0.964374  0.246873       8.43 mm\n",
      "    -0.021682 -0.249943  0.968018      83.07 mm\n",
      "     0.000000  0.000000  0.000000       1.00\n",
      "MEG coil definitions created in head coordinates.\n",
      "Removing 5 compensators from info because not all compensation channels were picked.\n",
      "Source spaces are now in head coordinates.\n",
      "\n",
      "Employing the head->MRI coordinate transform with the BEM model.\n",
      "BEM model instance of ConductorModel is now set up\n",
      "\n",
      "Source spaces are in head coordinates.\n",
      "Checking that the sources are inside the surface (will take a few...)\n",
      "Checking surface interior status for 9596 points...\n",
      "    Found 2326/9596 points inside  an interior sphere of radius   41.1 mm\n",
      "    Found    0/9596 points outside an exterior sphere of radius   92.1 mm\n",
      "    Found    0/7270 points outside using surface Qhull\n"
     ]
    },
    {
     "name": "stderr",
     "output_type": "stream",
     "text": [
      "[Parallel(n_jobs=-1)]: Using backend LokyBackend with 12 concurrent workers.\n",
      "[Parallel(n_jobs=-1)]: Done   4 out of  12 | elapsed:   12.9s remaining:   25.9s\n"
     ]
    },
    {
     "name": "stdout",
     "output_type": "stream",
     "text": [
      "    Found    0/7270 points outside using solid angles\n",
      "    Total 9596/9596 points inside the surface\n",
      "Interior check completed in 13387.1 ms\n",
      "\n",
      "Checking surface interior status for 300 points...\n",
      "    Found   0/300 points inside  an interior sphere of radius   41.1 mm\n",
      "    Found 300/300 points outside an exterior sphere of radius   92.1 mm\n",
      "    Found   0/  0 points outside using surface Qhull\n"
     ]
    },
    {
     "name": "stderr",
     "output_type": "stream",
     "text": [
      "[Parallel(n_jobs=-1)]: Done   7 out of  12 | elapsed:   13.2s remaining:    9.4s\n",
      "[Parallel(n_jobs=-1)]: Done  10 out of  12 | elapsed:   13.3s remaining:    2.7s\n",
      "[Parallel(n_jobs=-1)]: Done  12 out of  12 | elapsed:   13.4s finished\n"
     ]
    },
    {
     "name": "stdout",
     "output_type": "stream",
     "text": [
      "    Found   0/  0 points outside using solid angles\n",
      "    Total 0/300 points inside the surface\n",
      "Interior check completed in 69.7 ms\n",
      "\n",
      "Composing the field computation matrix...\n"
     ]
    },
    {
     "name": "stderr",
     "output_type": "stream",
     "text": [
      "[Parallel(n_jobs=-1)]: Using backend LokyBackend with 12 concurrent workers.\n",
      "[Parallel(n_jobs=-1)]: Done   4 out of  12 | elapsed:    8.0s remaining:   15.9s\n",
      "[Parallel(n_jobs=-1)]: Done   7 out of  12 | elapsed:    8.0s remaining:    5.7s\n",
      "[Parallel(n_jobs=-1)]: Done  10 out of  12 | elapsed:    8.1s remaining:    1.6s\n",
      "[Parallel(n_jobs=-1)]: Done  12 out of  12 | elapsed:    8.4s finished\n",
      "[Parallel(n_jobs=-1)]: Using backend LokyBackend with 12 concurrent workers.\n",
      "[Parallel(n_jobs=-1)]: Done   4 out of  12 | elapsed:    0.8s remaining:    1.7s\n",
      "[Parallel(n_jobs=-1)]: Done   7 out of  12 | elapsed:    0.9s remaining:    0.6s\n",
      "[Parallel(n_jobs=-1)]: Done  10 out of  12 | elapsed:    0.9s remaining:    0.2s\n",
      "[Parallel(n_jobs=-1)]: Done  12 out of  12 | elapsed:    0.9s finished\n",
      "[Parallel(n_jobs=-1)]: Using backend LokyBackend with 12 concurrent workers.\n"
     ]
    },
    {
     "name": "stdout",
     "output_type": "stream",
     "text": [
      "Computing MEG at 9596 source locations (free orientations)...\n"
     ]
    },
    {
     "name": "stderr",
     "output_type": "stream",
     "text": [
      "[Parallel(n_jobs=-1)]: Done   4 out of  12 | elapsed:    0.8s remaining:    1.7s\n",
      "[Parallel(n_jobs=-1)]: Done   7 out of  12 | elapsed:    0.9s remaining:    0.6s\n",
      "[Parallel(n_jobs=-1)]: Done  10 out of  12 | elapsed:    0.9s remaining:    0.2s\n",
      "[Parallel(n_jobs=-1)]: Done  12 out of  12 | elapsed:    0.9s finished\n",
      "[Parallel(n_jobs=-1)]: Using backend LokyBackend with 12 concurrent workers.\n",
      "[Parallel(n_jobs=-1)]: Done   4 out of  12 | elapsed:    3.9s remaining:    7.8s\n",
      "[Parallel(n_jobs=-1)]: Done   7 out of  12 | elapsed:    4.1s remaining:    3.0s\n",
      "[Parallel(n_jobs=-1)]: Done  10 out of  12 | elapsed:    4.3s remaining:    0.9s\n",
      "[Parallel(n_jobs=-1)]: Done  12 out of  12 | elapsed:    4.4s finished\n",
      "[Parallel(n_jobs=12)]: Using backend LokyBackend with 12 concurrent workers.\n"
     ]
    },
    {
     "name": "stdout",
     "output_type": "stream",
     "text": [
      "\n",
      "Finished.\n"
     ]
    },
    {
     "name": "stderr",
     "output_type": "stream",
     "text": [
      "[Parallel(n_jobs=12)]: Done   4 out of  12 | elapsed:    3.4s remaining:    6.8s\n",
      "[Parallel(n_jobs=12)]: Done   7 out of  12 | elapsed:    3.4s remaining:    2.4s\n",
      "[Parallel(n_jobs=12)]: Done  10 out of  12 | elapsed:    3.4s remaining:    0.7s\n",
      "[Parallel(n_jobs=12)]: Done  12 out of  12 | elapsed:    3.5s finished\n",
      "/tmp/ipykernel_6689/3304805438.py:11: RuntimeWarning: This filename (/data/MEG_workshop_data/ds004215/derivatives/MEGworkshop/sub-ON02811/ses-01/meg/sub-ON02811_ses-01_task-airpuff_run-01_volfwd.fif) does not conform to MNE naming conventions. All forward files should end with -fwd.fif, -fwd.fif.gz, _fwd.fif or _fwd.fif.gz\n",
      "  mne.forward.write_forward_solution(fwd_name, forward)\n"
     ]
    },
    {
     "ename": "FileNotFoundError",
     "evalue": "[Errno 2] No such file or directory: '/data/MEG_workshop_data/ds004215/derivatives/MEGworkshop/sub-ON02811/ses-01/meg/sub-ON02811_ses-01_task-airpuff_run-01_volfwd.fif'",
     "output_type": "error",
     "traceback": [
      "\u001b[0;31m---------------------------------------------------------------------------\u001b[0m",
      "\u001b[0;31mFileNotFoundError\u001b[0m                         Traceback (most recent call last)",
      "Cell \u001b[0;32mIn[67], line 11\u001b[0m\n\u001b[1;32m      7\u001b[0m     src \u001b[38;5;241m=\u001b[39m mne\u001b[38;5;241m.\u001b[39msource_space\u001b[38;5;241m.\u001b[39msetup_volume_source_space(subject\u001b[38;5;241m=\u001b[39m\u001b[38;5;124m'\u001b[39m\u001b[38;5;124msub-\u001b[39m\u001b[38;5;124m'\u001b[39m\u001b[38;5;241m+\u001b[39msubject, subjects_dir\u001b[38;5;241m=\u001b[39mfs_subjects_dir,\n\u001b[1;32m      8\u001b[0m                                                      mri\u001b[38;5;241m=\u001b[39m\u001b[38;5;124m'\u001b[39m\u001b[38;5;124mT1.mgz\u001b[39m\u001b[38;5;124m'\u001b[39m, bem\u001b[38;5;241m=\u001b[39mbem_sol) \n\u001b[1;32m      9\u001b[0m     forward \u001b[38;5;241m=\u001b[39m mne\u001b[38;5;241m.\u001b[39mmake_forward_solution(raw\u001b[38;5;241m.\u001b[39minfo, trans, src, \n\u001b[1;32m     10\u001b[0m                                         bem_sol, meg\u001b[38;5;241m=\u001b[39m\u001b[38;5;28;01mTrue\u001b[39;00m, eeg\u001b[38;5;241m=\u001b[39m\u001b[38;5;28;01mFalse\u001b[39;00m, n_jobs\u001b[38;5;241m=\u001b[39m\u001b[38;5;241m-\u001b[39m\u001b[38;5;241m1\u001b[39m)\n\u001b[0;32m---> 11\u001b[0m     \u001b[43mmne\u001b[49m\u001b[38;5;241;43m.\u001b[39;49m\u001b[43mforward\u001b[49m\u001b[38;5;241;43m.\u001b[39;49m\u001b[43mwrite_forward_solution\u001b[49m\u001b[43m(\u001b[49m\u001b[43mfwd_name\u001b[49m\u001b[43m,\u001b[49m\u001b[43m \u001b[49m\u001b[43mforward\u001b[49m\u001b[43m)\u001b[49m\n\u001b[1;32m     12\u001b[0m \u001b[38;5;28;01melse\u001b[39;00m:\n\u001b[1;32m     13\u001b[0m     forward \u001b[38;5;241m=\u001b[39m mne\u001b[38;5;241m.\u001b[39mread_forward_solution(fwd_name)\n",
      "File \u001b[0;32m<decorator-gen-386>:12\u001b[0m, in \u001b[0;36mwrite_forward_solution\u001b[0;34m(fname, fwd, overwrite, verbose)\u001b[0m\n",
      "File \u001b[0;32m~/miniconda3/envs/MEG_workshop/lib/python3.11/site-packages/mne/forward/forward.py:897\u001b[0m, in \u001b[0;36mwrite_forward_solution\u001b[0;34m(fname, fwd, overwrite, verbose)\u001b[0m\n\u001b[1;32m    895\u001b[0m \u001b[38;5;66;03m# check for file existence and expand `~` if present\u001b[39;00m\n\u001b[1;32m    896\u001b[0m fname \u001b[38;5;241m=\u001b[39m _check_fname(fname, overwrite)\n\u001b[0;32m--> 897\u001b[0m \u001b[43m\u001b[49m\u001b[38;5;28;43;01mwith\u001b[39;49;00m\u001b[43m \u001b[49m\u001b[43mstart_and_end_file\u001b[49m\u001b[43m(\u001b[49m\u001b[43mfname\u001b[49m\u001b[43m)\u001b[49m\u001b[43m \u001b[49m\u001b[38;5;28;43;01mas\u001b[39;49;00m\u001b[43m \u001b[49m\u001b[43mfid\u001b[49m\u001b[43m:\u001b[49m\n\u001b[1;32m    898\u001b[0m \u001b[43m    \u001b[49m\u001b[43m_write_forward_solution\u001b[49m\u001b[43m(\u001b[49m\u001b[43mfid\u001b[49m\u001b[43m,\u001b[49m\u001b[43m \u001b[49m\u001b[43mfwd\u001b[49m\u001b[43m)\u001b[49m\n",
      "File \u001b[0;32m~/miniconda3/envs/MEG_workshop/lib/python3.11/contextlib.py:137\u001b[0m, in \u001b[0;36m_GeneratorContextManager.__enter__\u001b[0;34m(self)\u001b[0m\n\u001b[1;32m    135\u001b[0m \u001b[38;5;28;01mdel\u001b[39;00m \u001b[38;5;28mself\u001b[39m\u001b[38;5;241m.\u001b[39margs, \u001b[38;5;28mself\u001b[39m\u001b[38;5;241m.\u001b[39mkwds, \u001b[38;5;28mself\u001b[39m\u001b[38;5;241m.\u001b[39mfunc\n\u001b[1;32m    136\u001b[0m \u001b[38;5;28;01mtry\u001b[39;00m:\n\u001b[0;32m--> 137\u001b[0m     \u001b[38;5;28;01mreturn\u001b[39;00m \u001b[38;5;28mnext\u001b[39m(\u001b[38;5;28mself\u001b[39m\u001b[38;5;241m.\u001b[39mgen)\n\u001b[1;32m    138\u001b[0m \u001b[38;5;28;01mexcept\u001b[39;00m \u001b[38;5;167;01mStopIteration\u001b[39;00m:\n\u001b[1;32m    139\u001b[0m     \u001b[38;5;28;01mraise\u001b[39;00m \u001b[38;5;167;01mRuntimeError\u001b[39;00m(\u001b[38;5;124m\"\u001b[39m\u001b[38;5;124mgenerator didn\u001b[39m\u001b[38;5;124m'\u001b[39m\u001b[38;5;124mt yield\u001b[39m\u001b[38;5;124m\"\u001b[39m) \u001b[38;5;28;01mfrom\u001b[39;00m \u001b[38;5;28;01mNone\u001b[39;00m\n",
      "File \u001b[0;32m~/miniconda3/envs/MEG_workshop/lib/python3.11/site-packages/mne/io/write.py:311\u001b[0m, in \u001b[0;36mstart_and_end_file\u001b[0;34m(fname, id_)\u001b[0m\n\u001b[1;32m    308\u001b[0m \u001b[38;5;129m@contextmanager\u001b[39m\n\u001b[1;32m    309\u001b[0m \u001b[38;5;28;01mdef\u001b[39;00m \u001b[38;5;21mstart_and_end_file\u001b[39m(fname, id_\u001b[38;5;241m=\u001b[39m\u001b[38;5;28;01mNone\u001b[39;00m):\n\u001b[1;32m    310\u001b[0m \u001b[38;5;250m    \u001b[39m\u001b[38;5;124;03m\"\"\"Start and (if successfully written) close the file.\"\"\"\u001b[39;00m\n\u001b[0;32m--> 311\u001b[0m     \u001b[38;5;28;01mwith\u001b[39;00m \u001b[43mstart_file\u001b[49m\u001b[43m(\u001b[49m\u001b[43mfname\u001b[49m\u001b[43m,\u001b[49m\u001b[43m \u001b[49m\u001b[43mid_\u001b[49m\u001b[38;5;241;43m=\u001b[39;49m\u001b[43mid_\u001b[49m\u001b[43m)\u001b[49m \u001b[38;5;28;01mas\u001b[39;00m fid:\n\u001b[1;32m    312\u001b[0m         \u001b[38;5;28;01myield\u001b[39;00m fid\n\u001b[1;32m    313\u001b[0m         end_file(fid)\n",
      "File \u001b[0;32m~/miniconda3/envs/MEG_workshop/lib/python3.11/site-packages/mne/io/write.py:300\u001b[0m, in \u001b[0;36mstart_file\u001b[0;34m(fname, id_)\u001b[0m\n\u001b[1;32m    298\u001b[0m     \u001b[38;5;28;01melse\u001b[39;00m:\n\u001b[1;32m    299\u001b[0m         logger\u001b[38;5;241m.\u001b[39mdebug(\u001b[38;5;124m\"\u001b[39m\u001b[38;5;124mWriting using normal I/O\u001b[39m\u001b[38;5;124m\"\u001b[39m)\n\u001b[0;32m--> 300\u001b[0m         fid \u001b[38;5;241m=\u001b[39m \u001b[38;5;28;43mopen\u001b[39;49m\u001b[43m(\u001b[49m\u001b[43mfname\u001b[49m\u001b[43m,\u001b[49m\u001b[43m \u001b[49m\u001b[38;5;124;43m\"\u001b[39;49m\u001b[38;5;124;43mwb\u001b[39;49m\u001b[38;5;124;43m\"\u001b[39;49m\u001b[43m)\u001b[49m\n\u001b[1;32m    301\u001b[0m \u001b[38;5;66;03m#   Write the compulsory items\u001b[39;00m\n\u001b[1;32m    302\u001b[0m write_id(fid, FIFF\u001b[38;5;241m.\u001b[39mFIFF_FILE_ID, id_)\n",
      "\u001b[0;31mFileNotFoundError\u001b[0m: [Errno 2] No such file or directory: '/data/MEG_workshop_data/ds004215/derivatives/MEGworkshop/sub-ON02811/ses-01/meg/sub-ON02811_ses-01_task-airpuff_run-01_volfwd.fif'"
     ]
    }
   ],
   "source": [
    "# fwd_name=f'{output_dir}/{subjid}_vol-fwd.fif'\n",
    "vol_fwd_name = fwd_name = bids_deriv_path.copy().update(extension='.fif', suffix='volfwd')\n",
    "if not os.path.exists(fwd_name):\n",
    "    # Make a 1 layer bem from the inner skull - Appropriate for MEG, bad for EEG\n",
    "    bem = mne.make_bem_model('sub-'+subject, subjects_dir=fs_subjects_dir, conductivity=[0.3])\n",
    "    bem_sol = mne.make_bem_solution(bem)\n",
    "    src = mne.source_space.setup_volume_source_space(subject='sub-'+subject, subjects_dir=fs_subjects_dir,\n",
    "                                                     mri='T1.mgz', bem=bem_sol) \n",
    "    forward = mne.make_forward_solution(raw.info, trans, src, \n",
    "                                        bem_sol, meg=True, eeg=False, n_jobs=-1)\n",
    "    mne.forward.write_forward_solution(fwd_name, forward)\n",
    "else:\n",
    "    forward = mne.read_forward_solution(fwd_name)"
   ]
  },
  {
   "cell_type": "markdown",
   "id": "2915bc74-74ff-4107-a6bb-1508f28411f2",
   "metadata": {},
   "source": [
    "## Volumetric Source Model "
   ]
  },
  {
   "cell_type": "code",
   "execution_count": null,
   "id": "04367678-9ee5-418b-b5ab-0a54895b0bf7",
   "metadata": {},
   "outputs": [],
   "source": [
    "src = forward['src']\n",
    "src.plot(subjid, subjects_dir=subjects_dir, brain=False, trans=trans)"
   ]
  },
  {
   "cell_type": "markdown",
   "id": "3a1a67a1-ca83-4c36-b012-c1efabe93782",
   "metadata": {},
   "source": [
    "### Surface Source"
   ]
  },
  {
   "cell_type": "code",
   "execution_count": null,
   "id": "dbc6dbc3-56ff-4803-8bfe-d3f704f877b3",
   "metadata": {},
   "outputs": [],
   "source": [
    "fwd_name=f'{output_dir}/{subjid}-fwd.fif'\n",
    "if not os.path.exists(fwd_name):\n",
    "    # Make a 1 layer bem from the inner skull - Appropriate for MEG, bad for EEG\n",
    "    bem = mne.make_bem_model(subjid, subjects_dir=subjects_dir, conductivity=[0.3])\n",
    "    bem_sol = mne.make_bem_solution(bem)\n",
    "    src = mne.source_space.setup_source_space(subject=subjid, subjects_dir=subjects_dir, n_jobs=-1) \n",
    "    forward = mne.make_forward_solution(raw.info, trans, src, \n",
    "                                        bem_sol, meg=True, eeg=False, n_jobs=-1)\n",
    "    mne.forward.write_forward_solution(fwd_name, forward)\n",
    "else:\n",
    "    forward = mne.read_forward_solution(fwd_name)"
   ]
  },
  {
   "cell_type": "code",
   "execution_count": null,
   "id": "b8916efd-cba5-442f-90b2-64099b15e70f",
   "metadata": {},
   "outputs": [],
   "source": [
    "src = forward['src']\n",
    "src.plot(subjects_dir=subjects_dir, head=False, brain='white', trans=trans)"
   ]
  },
  {
   "cell_type": "markdown",
   "id": "a5421c6b-b1e8-4f85-9916-fa1758a11f0b",
   "metadata": {},
   "source": [
    "## Boundary Element Model (For MEG - red boundary in figure is all that is necessary)"
   ]
  },
  {
   "cell_type": "code",
   "execution_count": null,
   "id": "3a5c5751-a2d5-444b-aeac-4a0a621838a3",
   "metadata": {},
   "outputs": [],
   "source": [
    "%matplotlib inline\n",
    "_ = mne.viz.plot_bem(subject=subjid, subjects_dir=subjects_dir)"
   ]
  },
  {
   "cell_type": "markdown",
   "id": "254238b2-6cdd-4979-982a-6b30cd54f6ea",
   "metadata": {},
   "source": [
    "## Spatial relationship of the brain to the MEG sensors"
   ]
  },
  {
   "cell_type": "code",
   "execution_count": null,
   "id": "b224fffe-3348-4a35-8608-b7b23c1d1dcc",
   "metadata": {},
   "outputs": [],
   "source": [
    "mne.viz.plot_alignment(raw.info, trans=trans, subject=subjid, subjects_dir=subjects_dir, dig=True, surfaces='pial')"
   ]
  },
  {
   "cell_type": "markdown",
   "id": "786c6564-c228-4413-aeae-9f0492f77c1e",
   "metadata": {},
   "source": [
    "## What is a forward Model?\n",
    "## Simulation of all the source locations through the BEM"
   ]
  },
  {
   "cell_type": "code",
   "execution_count": null,
   "id": "fcb306ca-711a-483f-a658-c0f18e5d63a1",
   "metadata": {},
   "outputs": [],
   "source": [
    "print(forward['sol']['data'].shape)\n",
    "print('Channels, Source Locations X 3')"
   ]
  },
  {
   "cell_type": "code",
   "execution_count": null,
   "id": "8a40482a-f561-418b-9aae-1cf2c84d479d",
   "metadata": {},
   "outputs": [],
   "source": [
    "from mne.viz.topomap import plot_topomap"
   ]
  },
  {
   "cell_type": "code",
   "execution_count": null,
   "id": "24af7462-5257-4e3b-b583-8929b561e90a",
   "metadata": {},
   "outputs": [],
   "source": [
    "tmp=raw.copy()\n",
    "grads = [i for i in tmp.ch_names if i[0]=='M']\n",
    "_=tmp.pick_channels(grads)"
   ]
  },
  {
   "cell_type": "code",
   "execution_count": null,
   "id": "1011ed19-3677-44d8-90b6-4228682cf4e1",
   "metadata": {},
   "outputs": [],
   "source": [
    "%matplotlib qt\n",
    "fig, axs = plt.subplots(3,2)\n",
    "axs[0,0].set_title('Location 1 Forward Model')\n",
    "plot_topomap(forward['sol']['data'][:,1003], tmp.info, axes=axs[0,0])\n",
    "plot_topomap(forward['sol']['data'][:,1004], tmp.info, axes=axs[1,0])\n",
    "plot_topomap(forward['sol']['data'][:,1005], tmp.info, axes=axs[2,0])\n",
    "\n",
    "axs[0,1].set_title('Location 2 Forward Model')\n",
    "plot_topomap(forward['sol']['data'][:,5003], tmp.info, axes=axs[0,1])\n",
    "plot_topomap(forward['sol']['data'][:,5004], tmp.info, axes=axs[1,1])\n",
    "plot_topomap(forward['sol']['data'][:,5005], tmp.info, axes=axs[2,1])\n"
   ]
  },
  {
   "cell_type": "code",
   "execution_count": null,
   "id": "e0c5105c-3e08-4aed-9033-e8f55450ad38",
   "metadata": {},
   "outputs": [],
   "source": [
    "%matplotlib inline\n",
    "fig=pylab.figure(figsize=(12,8))\n",
    "pylab.imshow(forward['sol']['data'], aspect='auto', cmap='jet', vmax=3e-6, vmin=-3e-6)\n",
    "pylab.title('Forward Model Simulation at every point in the source model')\n",
    "pylab.xlabel('Source Location')\n",
    "pylab.ylabel('Channel index')"
   ]
  }
 ],
 "metadata": {
  "kernelspec": {
   "display_name": "Python 3 (ipykernel)",
   "language": "python",
   "name": "python3"
  },
  "language_info": {
   "codemirror_mode": {
    "name": "ipython",
    "version": 3
   },
   "file_extension": ".py",
   "mimetype": "text/x-python",
   "name": "python",
   "nbconvert_exporter": "python",
   "pygments_lexer": "ipython3",
   "version": "3.11.5"
  }
 },
 "nbformat": 4,
 "nbformat_minor": 5
}
