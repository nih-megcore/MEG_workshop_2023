{
 "cells": [
  {
   "cell_type": "markdown",
   "id": "26142471-4b25-4ac9-b791-bf1c2f78d870",
   "metadata": {},
   "source": [
    "# NIH MEG Workshop 2023 Intro"
   ]
  },
  {
   "cell_type": "markdown",
   "id": "05a83854-39ab-4df3-b437-174548adf11f",
   "metadata": {},
   "source": [
    "## General Import and settings"
   ]
  },
  {
   "cell_type": "code",
   "execution_count": 25,
   "id": "8b7b76e2-d5dd-4407-8014-689a17176002",
   "metadata": {},
   "outputs": [],
   "source": [
    "import mne\n",
    "import mne_bids\n",
    "import os, os.path as op\n",
    "import numpy as np\n",
    "import warnings\n",
    "import copy\n",
    "import matplotlib.pyplot as plt\n",
    "\n",
    "# warnings.filterwarnings('ignore', '.*Use of `point_arrays` is deprecated.*',)\n",
    "# warnings.filterwarnings('ignore', '.*Matplotlib.*',) "
   ]
  },
  {
   "cell_type": "markdown",
   "id": "73ebe4e4-9c02-4885-aa64-35df76cebffd",
   "metadata": {},
   "source": [
    "# Setup Paths"
   ]
  },
  {
   "cell_type": "markdown",
   "id": "309ea2f0-7659-4b16-a3b5-4e0fce0fbf21",
   "metadata": {},
   "source": [
    "## Set some generic BIDS information"
   ]
  },
  {
   "cell_type": "markdown",
   "id": "852aa6be-93c9-47ee-a0bd-ce2f7cb72dc7",
   "metadata": {},
   "source": [
    "| Folder | Data Type | \n",
    "| --- | --- | \n",
    "| bids_root | raw data |\n",
    "| deriv_root | folders for all possible derivatives | \n",
    "| project_root | [Derivatives]: output folder for this processing | \n",
    "| subjects_dir | [Derivatives]: freesurfer anatomical information | "
   ]
  },
  {
   "cell_type": "code",
   "execution_count": 2,
   "id": "a6be5157-fea4-4f69-88cc-11d16ccd9c56",
   "metadata": {},
   "outputs": [],
   "source": [
    "#Raw data\n",
    "bids_root = op.join('/data/', os.environ['USER'], 'meg_workshop_data')  \n",
    "#Processed Data Folder: contains (freesurfer / Day1 / Day2) \n",
    "deriv_root = op.join(bids_root, 'derivatives')\n",
    "if not op.exists(deriv_root): os.mkdir(deriv_root)\n",
    "#This course data - bids derivatives outputs for Day1 \n",
    "project_root = op.join(deriv_root, 'Day1') \n",
    "#Freesurfer brain surface reconstruction\n",
    "fs_subjects_dir = op.join(deriv_root, 'freesurfer','subjects')\n",
    "subjects_dir = fs_subjects_dir"
   ]
  },
  {
   "cell_type": "markdown",
   "id": "ce88eba3-891d-4cc2-b827-386ecddbecbb",
   "metadata": {},
   "source": [
    "### Find data for a subject"
   ]
  },
  {
   "cell_type": "code",
   "execution_count": 3,
   "id": "f55f7bec-eefc-4acf-9658-13f7d75efe9e",
   "metadata": {},
   "outputs": [
    {
     "name": "stdout",
     "output_type": "stream",
     "text": [
      "Here is the meg data file: /data/stoutjd/meg_workshop_data/sub-ON02811/ses-01/meg/sub-ON02811_ses-01_task-airpuff_run-01_meg.ds\n",
      "Here is the t1 MRI file: /data/stoutjd/meg_workshop_data/sub-ON02811/ses-01/anat/sub-ON02811_ses-01_acq-MPRAGE_T1w.nii.gz\n"
     ]
    }
   ],
   "source": [
    "subject = 'ON02811'\n",
    "bids_path = mne_bids.BIDSPath(root=bids_root, subject = subject, session='01', task='airpuff', run='01', datatype='meg')\n",
    "project_path = bids_path.copy().update(root=project_root, check=False)\n",
    "if not op.exists(project_path.root): os.mkdir(project_path.root)\n",
    "\n",
    "t1_bids_path = bids_path.copy().update(datatype='anat', session='01', task=None, run=None, suffix='T1w', acquisition='MPRAGE', extension='.nii.gz')\n",
    "print(f'Here is the meg data file: {bids_path.fpath}')\n",
    "print(f'Here is the t1 MRI file: {t1_bids_path.fpath}')"
   ]
  },
  {
   "cell_type": "markdown",
   "id": "674e3b95-1e7a-4d33-ab72-709c02151971",
   "metadata": {},
   "source": [
    "## Load the MEG file"
   ]
  },
  {
   "cell_type": "code",
   "execution_count": 4,
   "id": "dfc33de4-5e7d-4ae3-8766-06c91ca4bcfa",
   "metadata": {
    "scrolled": true
   },
   "outputs": [
    {
     "name": "stdout",
     "output_type": "stream",
     "text": [
      "ds directory : /data/stoutjd/meg_workshop_data/sub-ON02811/ses-01/meg/sub-ON02811_ses-01_task-airpuff_run-01_meg.ds\n",
      "    res4 data read.\n",
      "    hc data read.\n",
      "    Separate EEG position data file not present.\n",
      "    Quaternion matching (desired vs. transformed):\n",
      "      -1.82   70.43    0.00 mm <->   -1.82   70.43    0.00 mm (orig :  -45.24   54.14 -275.77 mm) diff =    0.000 mm\n",
      "       1.82  -70.43    0.00 mm <->    1.82  -70.43    0.00 mm (orig :   62.56  -36.39 -269.47 mm) diff =    0.000 mm\n",
      "      90.00    0.00    0.00 mm <->   90.00   -0.00   -0.00 mm (orig :   65.74   74.78 -250.30 mm) diff =    0.000 mm\n",
      "    Coordinate transformations established.\n",
      "    Polhemus data for 3 HPI coils added\n",
      "    Device coordinate locations for 3 HPI coils added\n",
      "    Measurement info composed.\n",
      "Finding samples for /data/stoutjd/meg_workshop_data/sub-ON02811/ses-01/meg/sub-ON02811_ses-01_task-airpuff_run-01_meg.ds/sub-ON02811_ses-01_task-airpuff_run-01_meg.meg4: \n",
      "    System clock channel is available, checking which samples are valid.\n",
      "    1 x 301200 = 301200 samples from 304 chs\n",
      "Current compensation grade : 3\n",
      "Reading events from /data/stoutjd/meg_workshop_data/sub-ON02811/ses-01/meg/sub-ON02811_ses-01_task-airpuff_run-01_events.tsv.\n",
      "Reading channel info from /data/stoutjd/meg_workshop_data/sub-ON02811/ses-01/meg/sub-ON02811_ses-01_task-airpuff_run-01_channels.tsv.\n"
     ]
    },
    {
     "name": "stderr",
     "output_type": "stream",
     "text": [
      "/tmp/ipykernel_1014416/3128652160.py:2: RuntimeWarning: The unit for channel(s) SCLK01-177, UADC001, UPPT001, trigger has changed from V to NA.\n",
      "  raw = mne_bids.read_raw_bids(bids_path)\n",
      "/tmp/ipykernel_1014416/3128652160.py:2: RuntimeWarning: participants.tsv file not found for /data/stoutjd/meg_workshop_data/sub-ON02811/ses-01/meg/sub-ON02811_ses-01_task-airpuff_run-01_meg.ds\n",
      "  raw = mne_bids.read_raw_bids(bids_path)\n"
     ]
    }
   ],
   "source": [
    "# Using the BIDS reader -- same as below\n",
    "raw = mne_bids.read_raw_bids(bids_path)"
   ]
  },
  {
   "cell_type": "code",
   "execution_count": 5,
   "id": "1d563a75-f70e-4e9e-a50f-811cb321e3d1",
   "metadata": {},
   "outputs": [],
   "source": [
    "# Load the data with the traditional reader -- same as above\n",
    "# raw = mne.io.read_raw_ctf(bids_path.fpath, clean_names=True, system_clock='ignore')"
   ]
  },
  {
   "cell_type": "code",
   "execution_count": 6,
   "id": "40609884-43b3-463b-8fba-b5fbd6086d7a",
   "metadata": {},
   "outputs": [
    {
     "data": {
      "text/html": [
       "<table class=\"table table-hover table-striped table-sm table-responsive small\">\n",
       "    <tr>\n",
       "        <th>Measurement date</th>\n",
       "        \n",
       "        <td>November 11, 1911  11:11:00 GMT</td>\n",
       "        \n",
       "    </tr>\n",
       "    <tr>\n",
       "        <th>Experimenter</th>\n",
       "        \n",
       "        <td>Unknown</td>\n",
       "        \n",
       "    </tr>\n",
       "        <th>Participant</th>\n",
       "        \n",
       "            \n",
       "        \n",
       "    </tr>\n",
       "    <tr>\n",
       "        <th>Digitized points</th>\n",
       "        \n",
       "        <td>3 points</td>\n",
       "        \n",
       "    </tr>\n",
       "    <tr>\n",
       "        <th>Good channels</th>\n",
       "        <td>4 misc, 28 Reference Magnetometers, 272 Magnetometers</td>\n",
       "    </tr>\n",
       "    <tr>\n",
       "        <th>Bad channels</th>\n",
       "        <td>None</td>\n",
       "    </tr>\n",
       "    <tr>\n",
       "        <th>EOG channels</th>\n",
       "        <td>Not available</td>\n",
       "    </tr>\n",
       "    <tr>\n",
       "        <th>ECG channels</th>\n",
       "        <td>Not available</td>\n",
       "    \n",
       "    <tr>\n",
       "        <th>Sampling frequency</th>\n",
       "        <td>1200.00 Hz</td>\n",
       "    </tr>\n",
       "    \n",
       "    \n",
       "    <tr>\n",
       "        <th>Highpass</th>\n",
       "        <td>0.00 Hz</td>\n",
       "    </tr>\n",
       "    \n",
       "    \n",
       "    <tr>\n",
       "        <th>Lowpass</th>\n",
       "        <td>600.00 Hz</td>\n",
       "    </tr>\n",
       "    \n",
       "    \n",
       "</table>"
      ],
      "text/plain": [
       "<Info | 15 non-empty values\n",
       " bads: []\n",
       " ch_names: SCLK01-177, BG1, BG2, BG3, BP1, BP2, BP3, BR1, BR2, BR3, G11, ...\n",
       " chs: 4 misc, 28 Reference Magnetometers, 272 Magnetometers\n",
       " comps: 5 items (list)\n",
       " ctf_head_t: CTF/4D/KIT head -> head transform\n",
       " custom_ref_applied: False\n",
       " dev_ctf_t: MEG device -> CTF/4D/KIT head transform\n",
       " dev_head_t: MEG device -> head transform\n",
       " dig: 3 items (3 Cardinal)\n",
       " highpass: 0.0 Hz\n",
       " hpi_results: 1 item (list)\n",
       " line_freq: 60.0\n",
       " lowpass: 600.0 Hz\n",
       " meas_date: 1911-11-11 11:11:00 UTC\n",
       " meas_id: 4 items (dict)\n",
       " nchan: 304\n",
       " projs: []\n",
       " sfreq: 1200.0 Hz\n",
       ">"
      ]
     },
     "execution_count": 6,
     "metadata": {},
     "output_type": "execute_result"
    }
   ],
   "source": [
    "raw.info        #Note that this data has been anonymized (dates and names are scrubbed)"
   ]
  },
  {
   "cell_type": "markdown",
   "id": "561e27b1-ddf0-47ae-9bfb-7cbe744ce12c",
   "metadata": {},
   "source": [
    "| Channel Types | Function | |\n",
    "| --- | --- | --- |\n",
    "| MEG  |  MEG   | Collect Brain Signal |\n",
    "| Ref   | Reference Channels | Used for third Order Gradient to reject artifact | \n",
    "| UPPT | Digital Trigger  - Parrallel Port | designates trigger value - Up to 256| \n",
    "| UADC | Analog Triggers |  designates timing - eg Projector Trigger |  \n"
   ]
  },
  {
   "cell_type": "markdown",
   "id": "fa9a9a8b-0225-4cfd-93fc-888cac7022a6",
   "metadata": {},
   "source": [
    "#### 3rd Order Gradiometers applied - In our case 3rd order compensation is set by default during acquisition"
   ]
  },
  {
   "cell_type": "code",
   "execution_count": 7,
   "id": "61efb8c7-cc51-4771-97b6-d657de9bb5d9",
   "metadata": {},
   "outputs": [
    {
     "data": {
      "text/plain": [
       "3"
      ]
     },
     "execution_count": 7,
     "metadata": {},
     "output_type": "execute_result"
    }
   ],
   "source": [
    "raw.compensation_grade"
   ]
  },
  {
   "cell_type": "markdown",
   "id": "4c54899f-e93b-47f2-9ba7-c387074731bb",
   "metadata": {},
   "source": [
    "## Plot **without** 3rd Order Gradient Compensation"
   ]
  },
  {
   "cell_type": "code",
   "execution_count": 8,
   "id": "ff6263f4-68dc-4b7d-b298-9f7cf8ba8d92",
   "metadata": {},
   "outputs": [
    {
     "name": "stdout",
     "output_type": "stream",
     "text": [
      "Compensator constructed to change 3 -> 1\n",
      "Using qt as 2D backend.\n"
     ]
    },
    {
     "name": "stderr",
     "output_type": "stream",
     "text": [
      "QStandardPaths: error creating runtime directory '/run/user/39412' (Permission denied)\n"
     ]
    },
    {
     "name": "stdout",
     "output_type": "stream",
     "text": [
      "Channels marked as bad:\n",
      "none\n"
     ]
    }
   ],
   "source": [
    "%matplotlib inline\n",
    "_=raw.copy().apply_gradient_compensation(1).plot(n_channels=10)"
   ]
  },
  {
   "cell_type": "markdown",
   "id": "c430e51c-2225-4bb1-8f4a-982bfa08af60",
   "metadata": {},
   "source": [
    "## Plot **with** 3rd Order Gradient"
   ]
  },
  {
   "cell_type": "code",
   "execution_count": 9,
   "id": "413feb9c-b04f-4fdb-8d20-74364dc35e90",
   "metadata": {},
   "outputs": [
    {
     "name": "stdout",
     "output_type": "stream",
     "text": [
      "3rd Order Gradient applied\n",
      "Channels marked as bad:\n",
      "none\n"
     ]
    }
   ],
   "source": [
    "print('3rd Order Gradient applied')\n",
    "_=raw.plot(n_channels=10)"
   ]
  },
  {
   "cell_type": "code",
   "execution_count": 64,
   "id": "85e6944d-c3f2-4169-ae86-513d48826648",
   "metadata": {},
   "outputs": [
    {
     "name": "stdout",
     "output_type": "stream",
     "text": [
      "The data consists of a matrix: 304 channels by 301200 samples\n",
      "This is samples / sampling frequency: 251.0 seconds\n"
     ]
    }
   ],
   "source": [
    "raw.load_data()\n",
    "print(f'The data consists of a matrix: {raw._data.shape[0]} channels by {raw._data.shape[1]} samples')\n",
    "print(f\"This is samples / sampling frequency: {raw._data.shape[1]/raw.info['sfreq']} seconds\")"
   ]
  },
  {
   "cell_type": "markdown",
   "id": "e9604eb6-15df-442d-b0de-38e21d7a5645",
   "metadata": {},
   "source": [
    "## Channel information"
   ]
  },
  {
   "cell_type": "markdown",
   "id": "c2d697c4-63c6-4496-bd0d-9604530df8c2",
   "metadata": {},
   "source": [
    "|Channel Naming | | | |\n",
    "| --- | --- | --- | ---|\n",
    "| M | L/R | F/O/C/T/P | Number | \n",
    "| MEG | Hemisphere | Front / Occipital / Central / Temporal / Parietal | XX | "
   ]
  },
  {
   "cell_type": "code",
   "execution_count": 24,
   "id": "26b64428-e7eb-4edb-af19-a3a36ba16f83",
   "metadata": {},
   "outputs": [
    {
     "name": "stdout",
     "output_type": "stream",
     "text": [
      "Some examples of channel names\n"
     ]
    },
    {
     "data": {
      "text/plain": [
       "['MLC61',\n",
       " 'MLF13',\n",
       " 'MLF24',\n",
       " 'MLF35',\n",
       " 'MLF45',\n",
       " 'MLF54',\n",
       " 'MLF63',\n",
       " 'MLO11',\n",
       " 'MLO22',\n",
       " 'MLO33',\n",
       " 'MLO44',\n",
       " 'MLP12']"
      ]
     },
     "execution_count": 24,
     "metadata": {},
     "output_type": "execute_result"
    }
   ],
   "source": [
    "print('Some examples of channel names')\n",
    "raw.ch_names[50:110:5]"
   ]
  },
  {
   "cell_type": "markdown",
   "id": "87be1555-2bb2-4a9f-a070-b23533253575",
   "metadata": {},
   "source": [
    "### Selecting channels"
   ]
  },
  {
   "cell_type": "code",
   "execution_count": 37,
   "id": "4b7f9b1c-18e7-4119-a4a3-e16c82e2a07c",
   "metadata": {
    "scrolled": true
   },
   "outputs": [
    {
     "data": {
      "text/plain": [
       "\u001b[0;31mSignature:\u001b[0m\n",
       "\u001b[0mraw\u001b[0m\u001b[0;34m.\u001b[0m\u001b[0mpick_types\u001b[0m\u001b[0;34m(\u001b[0m\u001b[0;34m\u001b[0m\n",
       "\u001b[0;34m\u001b[0m    \u001b[0mmeg\u001b[0m\u001b[0;34m=\u001b[0m\u001b[0;32mFalse\u001b[0m\u001b[0;34m,\u001b[0m\u001b[0;34m\u001b[0m\n",
       "\u001b[0;34m\u001b[0m    \u001b[0meeg\u001b[0m\u001b[0;34m=\u001b[0m\u001b[0;32mFalse\u001b[0m\u001b[0;34m,\u001b[0m\u001b[0;34m\u001b[0m\n",
       "\u001b[0;34m\u001b[0m    \u001b[0mstim\u001b[0m\u001b[0;34m=\u001b[0m\u001b[0;32mFalse\u001b[0m\u001b[0;34m,\u001b[0m\u001b[0;34m\u001b[0m\n",
       "\u001b[0;34m\u001b[0m    \u001b[0meog\u001b[0m\u001b[0;34m=\u001b[0m\u001b[0;32mFalse\u001b[0m\u001b[0;34m,\u001b[0m\u001b[0;34m\u001b[0m\n",
       "\u001b[0;34m\u001b[0m    \u001b[0mecg\u001b[0m\u001b[0;34m=\u001b[0m\u001b[0;32mFalse\u001b[0m\u001b[0;34m,\u001b[0m\u001b[0;34m\u001b[0m\n",
       "\u001b[0;34m\u001b[0m    \u001b[0memg\u001b[0m\u001b[0;34m=\u001b[0m\u001b[0;32mFalse\u001b[0m\u001b[0;34m,\u001b[0m\u001b[0;34m\u001b[0m\n",
       "\u001b[0;34m\u001b[0m    \u001b[0mref_meg\u001b[0m\u001b[0;34m=\u001b[0m\u001b[0;34m'auto'\u001b[0m\u001b[0;34m,\u001b[0m\u001b[0;34m\u001b[0m\n",
       "\u001b[0;34m\u001b[0m    \u001b[0;34m*\u001b[0m\u001b[0;34m,\u001b[0m\u001b[0;34m\u001b[0m\n",
       "\u001b[0;34m\u001b[0m    \u001b[0mmisc\u001b[0m\u001b[0;34m=\u001b[0m\u001b[0;32mFalse\u001b[0m\u001b[0;34m,\u001b[0m\u001b[0;34m\u001b[0m\n",
       "\u001b[0;34m\u001b[0m    \u001b[0mresp\u001b[0m\u001b[0;34m=\u001b[0m\u001b[0;32mFalse\u001b[0m\u001b[0;34m,\u001b[0m\u001b[0;34m\u001b[0m\n",
       "\u001b[0;34m\u001b[0m    \u001b[0mchpi\u001b[0m\u001b[0;34m=\u001b[0m\u001b[0;32mFalse\u001b[0m\u001b[0;34m,\u001b[0m\u001b[0;34m\u001b[0m\n",
       "\u001b[0;34m\u001b[0m    \u001b[0mexci\u001b[0m\u001b[0;34m=\u001b[0m\u001b[0;32mFalse\u001b[0m\u001b[0;34m,\u001b[0m\u001b[0;34m\u001b[0m\n",
       "\u001b[0;34m\u001b[0m    \u001b[0mias\u001b[0m\u001b[0;34m=\u001b[0m\u001b[0;32mFalse\u001b[0m\u001b[0;34m,\u001b[0m\u001b[0;34m\u001b[0m\n",
       "\u001b[0;34m\u001b[0m    \u001b[0msyst\u001b[0m\u001b[0;34m=\u001b[0m\u001b[0;32mFalse\u001b[0m\u001b[0;34m,\u001b[0m\u001b[0;34m\u001b[0m\n",
       "\u001b[0;34m\u001b[0m    \u001b[0mseeg\u001b[0m\u001b[0;34m=\u001b[0m\u001b[0;32mFalse\u001b[0m\u001b[0;34m,\u001b[0m\u001b[0;34m\u001b[0m\n",
       "\u001b[0;34m\u001b[0m    \u001b[0mdipole\u001b[0m\u001b[0;34m=\u001b[0m\u001b[0;32mFalse\u001b[0m\u001b[0;34m,\u001b[0m\u001b[0;34m\u001b[0m\n",
       "\u001b[0;34m\u001b[0m    \u001b[0mgof\u001b[0m\u001b[0;34m=\u001b[0m\u001b[0;32mFalse\u001b[0m\u001b[0;34m,\u001b[0m\u001b[0;34m\u001b[0m\n",
       "\u001b[0;34m\u001b[0m    \u001b[0mbio\u001b[0m\u001b[0;34m=\u001b[0m\u001b[0;32mFalse\u001b[0m\u001b[0;34m,\u001b[0m\u001b[0;34m\u001b[0m\n",
       "\u001b[0;34m\u001b[0m    \u001b[0mecog\u001b[0m\u001b[0;34m=\u001b[0m\u001b[0;32mFalse\u001b[0m\u001b[0;34m,\u001b[0m\u001b[0;34m\u001b[0m\n",
       "\u001b[0;34m\u001b[0m    \u001b[0mfnirs\u001b[0m\u001b[0;34m=\u001b[0m\u001b[0;32mFalse\u001b[0m\u001b[0;34m,\u001b[0m\u001b[0;34m\u001b[0m\n",
       "\u001b[0;34m\u001b[0m    \u001b[0mcsd\u001b[0m\u001b[0;34m=\u001b[0m\u001b[0;32mFalse\u001b[0m\u001b[0;34m,\u001b[0m\u001b[0;34m\u001b[0m\n",
       "\u001b[0;34m\u001b[0m    \u001b[0mdbs\u001b[0m\u001b[0;34m=\u001b[0m\u001b[0;32mFalse\u001b[0m\u001b[0;34m,\u001b[0m\u001b[0;34m\u001b[0m\n",
       "\u001b[0;34m\u001b[0m    \u001b[0mtemperature\u001b[0m\u001b[0;34m=\u001b[0m\u001b[0;32mFalse\u001b[0m\u001b[0;34m,\u001b[0m\u001b[0;34m\u001b[0m\n",
       "\u001b[0;34m\u001b[0m    \u001b[0mgsr\u001b[0m\u001b[0;34m=\u001b[0m\u001b[0;32mFalse\u001b[0m\u001b[0;34m,\u001b[0m\u001b[0;34m\u001b[0m\n",
       "\u001b[0;34m\u001b[0m    \u001b[0meyetrack\u001b[0m\u001b[0;34m=\u001b[0m\u001b[0;32mFalse\u001b[0m\u001b[0;34m,\u001b[0m\u001b[0;34m\u001b[0m\n",
       "\u001b[0;34m\u001b[0m    \u001b[0minclude\u001b[0m\u001b[0;34m=\u001b[0m\u001b[0;34m(\u001b[0m\u001b[0;34m)\u001b[0m\u001b[0;34m,\u001b[0m\u001b[0;34m\u001b[0m\n",
       "\u001b[0;34m\u001b[0m    \u001b[0mexclude\u001b[0m\u001b[0;34m=\u001b[0m\u001b[0;34m'bads'\u001b[0m\u001b[0;34m,\u001b[0m\u001b[0;34m\u001b[0m\n",
       "\u001b[0;34m\u001b[0m    \u001b[0mselection\u001b[0m\u001b[0;34m=\u001b[0m\u001b[0;32mNone\u001b[0m\u001b[0;34m,\u001b[0m\u001b[0;34m\u001b[0m\n",
       "\u001b[0;34m\u001b[0m    \u001b[0mverbose\u001b[0m\u001b[0;34m=\u001b[0m\u001b[0;32mNone\u001b[0m\u001b[0;34m,\u001b[0m\u001b[0;34m\u001b[0m\n",
       "\u001b[0;34m\u001b[0m\u001b[0;34m)\u001b[0m\u001b[0;34m\u001b[0m\u001b[0;34m\u001b[0m\u001b[0m\n",
       "\u001b[0;31mDocstring:\u001b[0m\n",
       ".. warning:: LEGACY: New code should use inst.pick(...).\n",
       "\n",
       "Pick some channels by type and names.\n",
       "\n",
       "Parameters\n",
       "----------\n",
       "\n",
       "meg : bool | str\n",
       "    If True include MEG channels. If string it can be 'mag', 'grad',\n",
       "    'planar1' or 'planar2' to select only magnetometers, all\n",
       "    gradiometers, or a specific type of gradiometer.\n",
       "eeg : bool\n",
       "    If True include EEG channels.\n",
       "stim : bool\n",
       "    If True include stimulus channels.\n",
       "eog : bool\n",
       "    If True include EOG channels.\n",
       "ecg : bool\n",
       "    If True include ECG channels.\n",
       "emg : bool\n",
       "    If True include EMG channels.\n",
       "ref_meg : bool | str\n",
       "    If True include CTF / 4D reference channels. If 'auto', reference\n",
       "    channels are included if compensations are present and ``meg`` is\n",
       "    not False. Can also be the string options for the ``meg``\n",
       "    parameter.\n",
       "misc : bool\n",
       "    If True include miscellaneous analog channels.\n",
       "resp : bool\n",
       "    If ``True`` include respiratory channels.\n",
       "chpi : bool\n",
       "    If True include continuous HPI coil channels.\n",
       "exci : bool\n",
       "    Flux excitation channel used to be a stimulus channel.\n",
       "ias : bool\n",
       "    Internal Active Shielding data (maybe on Triux only).\n",
       "syst : bool\n",
       "    System status channel information (on Triux systems only).\n",
       "seeg : bool\n",
       "    Stereotactic EEG channels.\n",
       "dipole : bool\n",
       "    Dipole time course channels.\n",
       "gof : bool\n",
       "    Dipole goodness of fit channels.\n",
       "bio : bool\n",
       "    Bio channels.\n",
       "ecog : bool\n",
       "    Electrocorticography channels.\n",
       "fnirs : bool | str\n",
       "    Functional near-infrared spectroscopy channels. If True include all\n",
       "    fNIRS channels. If False (default) include none. If string it can\n",
       "    be 'hbo' (to include channels measuring oxyhemoglobin) or 'hbr' (to\n",
       "    include channels measuring deoxyhemoglobin).\n",
       "csd : bool\n",
       "    EEG-CSD channels.\n",
       "dbs : bool\n",
       "    Deep brain stimulation channels.\n",
       "temperature : bool\n",
       "    Temperature channels.\n",
       "gsr : bool\n",
       "    Galvanic skin response channels.\n",
       "eyetrack : bool | str\n",
       "    Eyetracking channels. If True include all eyetracking channels. If False\n",
       "    (default) include none. If string it can be 'eyegaze' (to include\n",
       "    eye position channels) or 'pupil' (to include pupil-size\n",
       "    channels).\n",
       "include : list of str\n",
       "    List of additional channels to include. If empty do not include\n",
       "    any.\n",
       "exclude : list of str | str\n",
       "    List of channels to exclude. If 'bads' (default), exclude channels\n",
       "    in ``info['bads']``.\n",
       "selection : list of str\n",
       "    Restrict sensor channels (MEG, EEG, etc.) to this list of channel names.\n",
       "\n",
       "verbose : bool | str | int | None\n",
       "    Control verbosity of the logging output. If ``None``, use the default\n",
       "    verbosity level. See the :ref:`logging documentation <tut-logging>` and\n",
       "    :func:`mne.verbose` for details. Should only be passed as a keyword\n",
       "    argument.\n",
       "\n",
       "Returns\n",
       "-------\n",
       "inst : instance of Raw, Epochs, or Evoked\n",
       "    The modified instance.\n",
       "\n",
       "See Also\n",
       "--------\n",
       "pick_channels\n",
       "\n",
       "Notes\n",
       "-----\n",
       ".. versionadded:: 0.9.0\n",
       "\u001b[0;31mFile:\u001b[0m      /data/MEGmodules/modules/meg_workshop_2023.1/lib/python3.11/site-packages/mne/channels/channels.py\n",
       "\u001b[0;31mType:\u001b[0m      method"
      ]
     },
     "metadata": {},
     "output_type": "display_data"
    }
   ],
   "source": [
    "# Also look at raw.pick_channels and raw.pick\n",
    "raw.pick_types?"
   ]
  },
  {
   "cell_type": "code",
   "execution_count": 63,
   "id": "75e50a8d-51f9-4700-b6f1-6f6c31fc8457",
   "metadata": {},
   "outputs": [],
   "source": [
    "# raw.pick?"
   ]
  },
  {
   "cell_type": "code",
   "execution_count": 58,
   "id": "6d673e00-d568-4b16-9e4e-3f790196e141",
   "metadata": {},
   "outputs": [
    {
     "data": {
      "text/html": [
       "<table class=\"table table-hover table-striped table-sm table-responsive small\">\n",
       "    <tr>\n",
       "        <th>Measurement date</th>\n",
       "        \n",
       "        <td>November 11, 1911  11:11:00 GMT</td>\n",
       "        \n",
       "    </tr>\n",
       "    <tr>\n",
       "        <th>Experimenter</th>\n",
       "        \n",
       "        <td>Unknown</td>\n",
       "        \n",
       "    </tr>\n",
       "        <th>Participant</th>\n",
       "        \n",
       "            \n",
       "            <td>Anonymized6148_1657551150_0</td>\n",
       "            \n",
       "        \n",
       "    </tr>\n",
       "    <tr>\n",
       "        <th>Digitized points</th>\n",
       "        \n",
       "        <td>3 points</td>\n",
       "        \n",
       "    </tr>\n",
       "    <tr>\n",
       "        <th>Good channels</th>\n",
       "        <td>28 Reference Magnetometers, 272 Magnetometers</td>\n",
       "    </tr>\n",
       "    <tr>\n",
       "        <th>Bad channels</th>\n",
       "        <td>None</td>\n",
       "    </tr>\n",
       "    <tr>\n",
       "        <th>EOG channels</th>\n",
       "        <td>Not available</td>\n",
       "    </tr>\n",
       "    <tr>\n",
       "        <th>ECG channels</th>\n",
       "        <td>Not available</td>\n",
       "    \n",
       "    <tr>\n",
       "        <th>Sampling frequency</th>\n",
       "        <td>1200.00 Hz</td>\n",
       "    </tr>\n",
       "    \n",
       "    \n",
       "    <tr>\n",
       "        <th>Highpass</th>\n",
       "        <td>0.00 Hz</td>\n",
       "    </tr>\n",
       "    \n",
       "    \n",
       "    <tr>\n",
       "        <th>Lowpass</th>\n",
       "        <td>600.00 Hz</td>\n",
       "    </tr>\n",
       "    \n",
       "    \n",
       "</table>"
      ],
      "text/plain": [
       "<Info | 15 non-empty values\n",
       " bads: []\n",
       " ch_names: BG1, BG2, BG3, BP1, BP2, BP3, BR1, BR2, BR3, G11, G12, G13, G22, ...\n",
       " chs: 28 Reference Magnetometers, 272 Magnetometers\n",
       " comps: 5 items (list)\n",
       " ctf_head_t: CTF/4D/KIT head -> head transform\n",
       " custom_ref_applied: False\n",
       " dev_ctf_t: MEG device -> CTF/4D/KIT head transform\n",
       " dev_head_t: MEG device -> head transform\n",
       " dig: 3 items (3 Cardinal)\n",
       " highpass: 0.0 Hz\n",
       " hpi_results: 1 item (list)\n",
       " lowpass: 600.0 Hz\n",
       " meas_date: 1911-11-11 11:11:00 UTC\n",
       " meas_id: 4 items (dict)\n",
       " nchan: 300\n",
       " projs: []\n",
       " sfreq: 1200.0 Hz\n",
       " subject_info: 1 item (dict)\n",
       ">"
      ]
     },
     "execution_count": 58,
     "metadata": {},
     "output_type": "execute_result"
    }
   ],
   "source": [
    "raw.info"
   ]
  },
  {
   "cell_type": "code",
   "execution_count": 76,
   "id": "7ae7511a-64cb-4172-bc40-9d7c0d74e8a5",
   "metadata": {},
   "outputs": [
    {
     "name": "stdout",
     "output_type": "stream",
     "text": [
      "NOTE: pick_types() is a legacy function. New code should use inst.pick(...).\n"
     ]
    },
    {
     "ename": "AttributeError",
     "evalue": "'RawCTF' object has no attribute '_data'",
     "output_type": "error",
     "traceback": [
      "\u001b[0;31m---------------------------------------------------------------------------\u001b[0m",
      "\u001b[0;31mAttributeError\u001b[0m                            Traceback (most recent call last)",
      "Cell \u001b[0;32mIn[76], line 1\u001b[0m\n\u001b[0;32m----> 1\u001b[0m \u001b[43mraw\u001b[49m\u001b[38;5;241;43m.\u001b[39;49m\u001b[43mpick_types\u001b[49m\u001b[43m(\u001b[49m\u001b[43mmeg\u001b[49m\u001b[38;5;241;43m=\u001b[39;49m\u001b[38;5;28;43;01mTrue\u001b[39;49;00m\u001b[43m,\u001b[49m\u001b[43m \u001b[49m\u001b[43meeg\u001b[49m\u001b[38;5;241;43m=\u001b[39;49m\u001b[38;5;28;43;01mFalse\u001b[39;49;00m\u001b[43m,\u001b[49m\u001b[43m \u001b[49m\u001b[43mmisc\u001b[49m\u001b[38;5;241;43m=\u001b[39;49m\u001b[38;5;28;43;01mTrue\u001b[39;49;00m\u001b[43m)\u001b[49m\u001b[38;5;241;43m.\u001b[39;49m\u001b[43m_data\u001b[49m\u001b[38;5;241m.\u001b[39mshape\n",
      "\u001b[0;31mAttributeError\u001b[0m: 'RawCTF' object has no attribute '_data'"
     ]
    }
   ],
   "source": [
    "raw.pick_types(meg=True, eeg=False, misc=True)._data.shape"
   ]
  },
  {
   "cell_type": "code",
   "execution_count": 49,
   "id": "212261c8-8380-48ba-8ab7-815db7e3923a",
   "metadata": {},
   "outputs": [
    {
     "name": "stdout",
     "output_type": "stream",
     "text": [
      "NOTE: pick_types() is a legacy function. New code should use inst.pick(...).\n",
      "Removing 5 compensators from info because not all compensation channels were picked.\n",
      "NOTE: pick_types() is a legacy function. New code should use inst.pick(...).\n",
      "There are 272 meg channels and 28 ref channels\n"
     ]
    }
   ],
   "source": [
    "print(f'There are {raw.copy().pick_types(meg=True, ref_meg=False)._data.shape[0]} meg channels and {raw.copy().pick_types(meg=False, ref_meg=True)._data.shape[0]} ref channels')"
   ]
  },
  {
   "cell_type": "markdown",
   "id": "27cb064f-f200-45f6-b079-576235699da3",
   "metadata": {},
   "source": [
    "## Processing Triggers"
   ]
  },
  {
   "cell_type": "markdown",
   "id": "27185195-132e-46df-b8ea-94bb7fb64d63",
   "metadata": {},
   "source": [
    "### The data is collected continuously while the subject is presented with stimuli (eg auditory, visual, somatosensory).  The triggers are then used to pull information from the continous dataset"
   ]
  },
  {
   "cell_type": "code",
   "execution_count": 33,
   "id": "d5bf0c6b-aa69-4c4c-967f-be75f098881a",
   "metadata": {},
   "outputs": [
    {
     "name": "stdout",
     "output_type": "stream",
     "text": [
      "UADC001 index: 301\n",
      "UPPT001 index: 302\n"
     ]
    }
   ],
   "source": [
    "print(f\"UADC001 index: {raw.ch_names.index('UADC001')}\")\n",
    "print(f\"UPPT001 index: {raw.ch_names.index('UPPT001')}\")"
   ]
  },
  {
   "cell_type": "code",
   "execution_count": 62,
   "id": "8bfe5eec-c0da-4341-9ad4-205080dc358b",
   "metadata": {},
   "outputs": [
    {
     "data": {
      "image/png": "[encoded data removed]",
      "text/plain": [
       "<Figure size 640x480 with 4 Axes>"
      ]
     },
     "metadata": {},
     "output_type": "display_data"
    }
   ],
   "source": [
    "#General plotting using python plotting\n",
    "%matplotlib inline\n",
    "samp_start = 1000\n",
    "samp_end = 10000\n",
    "fig, ax = plt.subplots(2,2)\n",
    "#Note the indexing from previous cell (301 is UADC, 302 is UPPT)\n",
    "ax[0,0].plot(raw._data[301, samp_start:samp_end])   \n",
    "ax[0,0].set_title('UADC001')\n",
    "ax[0,1].plot(raw._data[302, samp_start:samp_end])\n",
    "ax[0,1].set_title('UPPT001')\n",
    "ax[1,0].plot(raw._data[301, samp_start:int(samp_end/7)])\n",
    "ax[1,0].set_title('UADC001 (analog) - Zoomed')\n",
    "ax[1,1].plot(raw._data[302, samp_start:int(samp_end/7)])\n",
    "ax[1,1].set_title('UPPT001 (digital) - Zoomed')\n",
    "fig.tight_layout()"
   ]
  },
  {
   "cell_type": "markdown",
   "id": "b462fb93-37bc-4fad-910d-d8f3ec5d344c",
   "metadata": {},
   "source": [
    "### Somatosensory task - Airpuff Stimulus (Stim) vs. Missing Stim \n",
    "### UPPT001 codes stimuli; UADC001 communicates to mechanical airpuff delivery system"
   ]
  },
  {
   "cell_type": "code",
   "execution_count": null,
   "id": "f9a4aa6d-bdf2-427c-a02b-37c1d37c7379",
   "metadata": {},
   "outputs": [],
   "source": [
    "%matplotlib qt\n",
    "#Set scalings by data type - eg scalings={'mag':300} for evoked meg data\n",
    "misc1.plot(scalings={'misc':10}, duration=4)  "
   ]
  },
  {
   "cell_type": "code",
   "execution_count": null,
   "id": "c12531e3-53e0-4cb7-bb58-385ede40868e",
   "metadata": {},
   "outputs": [],
   "source": [
    "front = [i for i in raw.ch_names if i[2]=='F']\n",
    "print(f'There are {len(front)} frontal channels')"
   ]
  },
  {
   "cell_type": "code",
   "execution_count": null,
   "id": "f1c70358-d5b4-478c-9794-04405ff89ad4",
   "metadata": {},
   "outputs": [],
   "source": [
    "front_data = raw.copy().pick_channels(front)"
   ]
  },
  {
   "cell_type": "code",
   "execution_count": null,
   "id": "ee00a1c8-f4ab-4835-a9f0-7ecbfcda070f",
   "metadata": {},
   "outputs": [],
   "source": [
    "%matplotlib qt\n",
    "front_data.plot()"
   ]
  },
  {
   "cell_type": "markdown",
   "id": "5ddfedea-f46e-4ac7-9efa-92a0122c4f0b",
   "metadata": {},
   "source": [
    "### Sensor level preprocessing"
   ]
  },
  {
   "cell_type": "code",
   "execution_count": null,
   "id": "cc297a68-df25-4603-bc14-22ad15351771",
   "metadata": {},
   "outputs": [],
   "source": [
    "raw = raw.load_data() "
   ]
  },
  {
   "cell_type": "code",
   "execution_count": null,
   "id": "3dfe97ea-942f-4129-aaa2-5f7ca244760a",
   "metadata": {},
   "outputs": [],
   "source": [
    "raw.resample(300)\n",
    "\n",
    "raw.filter(1, None) "
   ]
  },
  {
   "cell_type": "code",
   "execution_count": null,
   "id": "6fc848d1-7ffa-4903-98df-7aeaa189e83d",
   "metadata": {},
   "outputs": [],
   "source": [
    "%matplotlib inline\n",
    "_ = raw.plot_psd()"
   ]
  },
  {
   "cell_type": "code",
   "execution_count": null,
   "id": "bf1d5318-778c-4fa9-a679-91d94b111583",
   "metadata": {},
   "outputs": [],
   "source": [
    "raw.notch_filter([60,120])\n",
    "_ = raw.plot_psd()"
   ]
  },
  {
   "cell_type": "markdown",
   "id": "fd6c34cc-d1f4-43fa-be67-ce1a6fbaba62",
   "metadata": {},
   "source": [
    "### Smaller window of spectrum"
   ]
  },
  {
   "cell_type": "code",
   "execution_count": null,
   "id": "a8b1360a-fdae-4cd7-864e-4badedcf9443",
   "metadata": {},
   "outputs": [],
   "source": [
    "%matplotlib inline\n",
    "_ = raw.plot_psd(fmin=3, fmax=45, n_overlap=.5)"
   ]
  },
  {
   "cell_type": "markdown",
   "id": "7a037937-dce9-4190-9252-a687015045b2",
   "metadata": {},
   "source": [
    "# Creating Events and Epochs from the data"
   ]
  },
  {
   "cell_type": "code",
   "execution_count": null,
   "id": "7b5b5112-0462-4ba5-a72e-56ce629fe249",
   "metadata": {},
   "outputs": [],
   "source": [
    "raw.annotations  #These have been read from the MarkerFile.mrk upon reading "
   ]
  },
  {
   "cell_type": "code",
   "execution_count": null,
   "id": "c15b33db-5373-4e34-adaa-59fa8ea1b83d",
   "metadata": {},
   "outputs": [],
   "source": [
    "events, event_ids = mne.events_from_annotations(raw) "
   ]
  },
  {
   "cell_type": "code",
   "execution_count": null,
   "id": "5aaeba77-7ae6-4fb0-9fd3-d9583e863aa0",
   "metadata": {},
   "outputs": [],
   "source": [
    "# Dictionary that maps event name to event code\n",
    "event_ids"
   ]
  },
  {
   "cell_type": "code",
   "execution_count": null,
   "id": "021a1307-5952-4f51-a4e1-313a840e1798",
   "metadata": {},
   "outputs": [],
   "source": [
    "events    # [Sample , duration, stim_code]"
   ]
  },
  {
   "cell_type": "code",
   "execution_count": null,
   "id": "c340f0b5-dc1b-4e4f-8ca0-3ca62a42b90b",
   "metadata": {},
   "outputs": [],
   "source": [
    "%matplotlib inline\n",
    "_ = mne.viz.plot_events(events, sfreq=raw.info['sfreq'], event_id=event_ids)"
   ]
  },
  {
   "cell_type": "markdown",
   "id": "d00122a3-ad64-4871-a2fa-93c58be71c22",
   "metadata": {},
   "source": [
    "## Epochs: Time windows of data around each event "
   ]
  },
  {
   "cell_type": "code",
   "execution_count": null,
   "id": "506a593b-4ab1-4861-a9aa-52668a04bed5",
   "metadata": {},
   "outputs": [],
   "source": [
    "#At time 0ms the stimuli is delivered\n",
    "tmin=-0.1  #100ms before event\n",
    "tmax=0.3   #300ms after event\n",
    "\n",
    "#Calculate all epochs with no rejection\n",
    "epochs = mne.Epochs(raw, events, tmin=tmin, tmax=tmax, reject_tmax=0,\n",
    "                preload=True, baseline=(tmin, 0))\n"
   ]
  },
  {
   "cell_type": "code",
   "execution_count": null,
   "id": "28cc02d0-3eff-4400-a147-ce1a6a3f674a",
   "metadata": {},
   "outputs": [],
   "source": [
    "epochs._data.shape"
   ]
  },
  {
   "cell_type": "code",
   "execution_count": null,
   "id": "d0d35523-62ed-457e-98b0-993abac29519",
   "metadata": {},
   "outputs": [],
   "source": [
    "%matplotlib qt\n",
    "_=epochs.plot(n_channels=10)"
   ]
  },
  {
   "cell_type": "markdown",
   "id": "bc37d93a-27c3-4a5c-a32d-474f0efe2b42",
   "metadata": {},
   "source": [
    "### Rejecting bad epochs using amplitude thresholding"
   ]
  },
  {
   "cell_type": "code",
   "execution_count": null,
   "id": "bdf33726-fe9b-4d9c-9a91-618877e37af8",
   "metadata": {},
   "outputs": [],
   "source": [
    "reject_dict = {'mag':2500e-15}\n",
    "epochs.drop_bad(reject=reject_dict)"
   ]
  },
  {
   "cell_type": "markdown",
   "id": "acf19b07-1fd4-41a2-bfe9-9028a8e6876e",
   "metadata": {},
   "source": [
    "### Epochs data size: Epochs X Channels X TimeSteps"
   ]
  },
  {
   "cell_type": "code",
   "execution_count": null,
   "id": "916d9fca-1801-4727-93bf-680ce357df57",
   "metadata": {},
   "outputs": [],
   "source": [
    "epochs._data.shape"
   ]
  },
  {
   "cell_type": "markdown",
   "id": "a745cd2f-9e0f-4b29-b2af-e7de60c1d7e8",
   "metadata": {},
   "source": [
    "### Evoked data averages over epochs: Channels X TimeSteps"
   ]
  },
  {
   "cell_type": "code",
   "execution_count": null,
   "id": "a4fcf840-ccb2-4448-9c9e-093fa1b402ad",
   "metadata": {},
   "outputs": [],
   "source": [
    "evoked = epochs['2'].average()\n",
    "evoked._data.shape  #Also removes 4 response/stim/clock channels"
   ]
  },
  {
   "cell_type": "markdown",
   "id": "2682c7a3-8ed0-4075-b5d1-662ec2f8c414",
   "metadata": {},
   "source": [
    "### Butterfly plot of evoked brain activity"
   ]
  },
  {
   "cell_type": "code",
   "execution_count": null,
   "id": "763ae06c-5520-4a5c-abb6-4041d83cd48f",
   "metadata": {},
   "outputs": [],
   "source": [
    "%matplotlib inline\n",
    "_=evoked.plot()"
   ]
  },
  {
   "cell_type": "markdown",
   "id": "ca953e11-e27b-43c6-b46e-54f5623bd26d",
   "metadata": {},
   "source": [
    "### Plot evoked dataset over time"
   ]
  },
  {
   "cell_type": "code",
   "execution_count": null,
   "id": "71da1d69-00cd-456d-a01f-d1e8157d721c",
   "metadata": {},
   "outputs": [],
   "source": [
    "_=evoked.plot_topomap(times=np.arange(0,.1, 0.01))"
   ]
  },
  {
   "cell_type": "markdown",
   "id": "07b787ef-21ec-4d12-9381-7f7766a25102",
   "metadata": {},
   "source": [
    "### Effect of number of samples on data average"
   ]
  },
  {
   "cell_type": "code",
   "execution_count": null,
   "id": "3070b59c-aad5-4298-a1c7-6e999a8a5a64",
   "metadata": {},
   "outputs": [],
   "source": [
    "from matplotlib import pyplot as plt\n",
    "\n",
    "stim_epochs=epochs['2']\n",
    "\n",
    "%matplotlib qt\n",
    "fig = plt.Figure()\n",
    "for idx,num in enumerate([1,2,4,8,16]):\n",
    "    ax = plt.subplot(3,2,idx+1)\n",
    "    evoked = stim_epochs[0:-1:num].average(method='mean')\n",
    "    evoked.plot(axes=ax, ylim={'mag':[-200,200]})\n",
    "plt.tight_layout()\n",
    "plt.show()\n"
   ]
  },
  {
   "cell_type": "code",
   "execution_count": null,
   "id": "f6a58ef1-263d-401c-bde4-5d5977bcae22",
   "metadata": {},
   "outputs": [],
   "source": [
    "from matplotlib import pyplot as plt\n",
    "\n",
    "stim_epochs=epochs['2']\n",
    "\n",
    "%matplotlib qt\n",
    "fig = plt.Figure()\n",
    "for idx,num in enumerate([1,2,4,8,16]):\n",
    "    ax = plt.subplot(3,2,idx+1)\n",
    "    evoked = stim_epochs[0:-1:num].average(method='mean')\n",
    "    evoked.plot_topomap(times=[0.040], colorbar=False, vmin=-100, vmax=100, axes=ax)\n",
    "    plt.title(f'40ms - Number Ave:{evoked.nave}')\n",
    "plt.tight_layout()\n",
    "plt.show()layout()\n",
    "plt.show()layout()\n",
    "plt.show()\n"
   ]
  }
 ],
 "metadata": {
  "kernelspec": {
   "display_name": "Python 3 (ipykernel)",
   "language": "python",
   "name": "python3"
  },
  "language_info": {
   "codemirror_mode": {
    "name": "ipython",
    "version": 3
   },
   "file_extension": ".py",
   "mimetype": "text/x-python",
   "name": "python",
   "nbconvert_exporter": "python",
   "pygments_lexer": "ipython3",
   "version": "3.11.5"
  }
 },
 "nbformat": 4,
 "nbformat_minor": 5
}
