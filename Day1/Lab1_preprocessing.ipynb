{
 "cells": [
  {
   "cell_type": "markdown",
   "id": "26142471-4b25-4ac9-b791-bf1c2f78d870",
   "metadata": {},
   "source": [
    "# NIH MEG Workshop 2023 Intro"
   ]
  },
  {
   "cell_type": "markdown",
   "id": "50a8d566-510b-4463-aaba-77610bc9fe71",
   "metadata": {},
   "source": [
    "## This should not be used without modification -- copy from previous lecture"
   ]
  },
  {
   "cell_type": "markdown",
   "id": "54295180-638e-4b1f-aa84-e6009a3ba016",
   "metadata": {},
   "source": [
    "## ___________________________________________________"
   ]
  },
  {
   "cell_type": "markdown",
   "id": "05a83854-39ab-4df3-b437-174548adf11f",
   "metadata": {},
   "source": [
    "## General Import and settings"
   ]
  },
  {
   "cell_type": "code",
   "execution_count": null,
   "id": "8b7b76e2-d5dd-4407-8014-689a17176002",
   "metadata": {},
   "outputs": [],
   "source": [
    "import mne\n",
    "import os\n",
    "import numpy as np\n",
    "import warnings\n",
    "import copy\n",
    "\n",
    "warnings.filterwarnings('ignore', '.*Use of `point_arrays` is deprecated.*',)\n",
    "warnings.filterwarnings('ignore', '.*Matplotlib.*',) "
   ]
  },
  {
   "cell_type": "markdown",
   "id": "d0eb2a9d-c282-429f-9301-b744c5b47407",
   "metadata": {},
   "source": [
    "### Define Dataset and paths"
   ]
  },
  {
   "cell_type": "code",
   "execution_count": null,
   "id": "46f0be9f-6cac-4e6c-9e97-b1f36e434495",
   "metadata": {},
   "outputs": [],
   "source": [
    "topdir=os.getcwd()\n",
    "subjects_dir = f'{topdir}/SUBJECTS_DIR'\n",
    "output_dir = f'{topdir}/outputs'\n",
    "if not os.path.exists(output_dir): os.mkdir(output_dir)\n",
    "\n",
    "meg_fname = f'{topdir}/sub-ON39099/ses-01/meg/sub-ON39099_ses-01_task-airpuff_run-01_meg.ds'"
   ]
  },
  {
   "cell_type": "code",
   "execution_count": null,
   "id": "a7f42fe4-07e9-44d8-89fe-1c6798fe4cc2",
   "metadata": {},
   "outputs": [],
   "source": [
    "subjid = os.path.basename(meg_fname).split('_')[0]\n",
    "print(f'Subject ID is: {subjid}')"
   ]
  },
  {
   "cell_type": "markdown",
   "id": "db8c8665-08ea-47d6-8c8f-2aa39e6d33ed",
   "metadata": {},
   "source": [
    "### Install code to convert NIH formatted fiducials (Brainsight, Afni) to MNE transformation matrix"
   ]
  },
  {
   "cell_type": "code",
   "execution_count": null,
   "id": "67d7e908-9cb6-423e-b513-24d6303c3019",
   "metadata": {},
   "outputs": [],
   "source": [
    "#  This is a call to the BASH shell \n",
    "! if [[ -z $(pip list | grep nih2mne) ]] ; then pip install ./additional_code/nih_to_mne; fi\n",
    "! if [[ -z $(pip list | grep hv-proc) ]] ; then pip install ./additional_code/hv_proc; pip install ./additional_code/pyctf-lite; fi"
   ]
  },
  {
   "cell_type": "markdown",
   "id": "a7c9e53b-182e-432a-8fac-51b4ee07d0ed",
   "metadata": {},
   "source": [
    "### Verify data is present - if this fails something is wrong"
   ]
  },
  {
   "cell_type": "code",
   "execution_count": null,
   "id": "fb5cfd00-a8d6-4df4-807e-b85af6d6613d",
   "metadata": {},
   "outputs": [],
   "source": [
    "assert os.path.exists(output_dir)\n",
    "assert os.path.exists(subjects_dir)\n",
    "assert os.path.exists(meg_fname)"
   ]
  },
  {
   "cell_type": "markdown",
   "id": "37d7afb0-95a8-4d77-886b-5992e085e8c0",
   "metadata": {},
   "source": [
    "# Start the preprocessing"
   ]
  },
  {
   "cell_type": "code",
   "execution_count": null,
   "id": "1d563a75-f70e-4e9e-a50f-811cb321e3d1",
   "metadata": {},
   "outputs": [],
   "source": [
    "raw = mne.io.read_raw_ctf(meg_fname, clean_names=True, system_clock='ignore')"
   ]
  },
  {
   "cell_type": "code",
   "execution_count": null,
   "id": "40609884-43b3-463b-8fba-b5fbd6086d7a",
   "metadata": {},
   "outputs": [],
   "source": [
    "raw.info"
   ]
  },
  {
   "cell_type": "markdown",
   "id": "fa9a9a8b-0225-4cfd-93fc-888cac7022a6",
   "metadata": {},
   "source": [
    "#### 3rd Order Gradiometers applied - In our case 3rd order compensation is set by default during acquisition"
   ]
  },
  {
   "cell_type": "code",
   "execution_count": null,
   "id": "61efb8c7-cc51-4771-97b6-d657de9bb5d9",
   "metadata": {},
   "outputs": [],
   "source": [
    "raw.compensation_grade"
   ]
  },
  {
   "cell_type": "code",
   "execution_count": null,
   "id": "ddd95d9b-9a3a-485b-be86-b2dd54a761be",
   "metadata": {},
   "outputs": [],
   "source": [
    "%matplotlib inline\n",
    "_=raw.copy().apply_gradient_compensation(1).plot(n_channels=10)\n",
    "print('3rd Order Gradient applied')\n",
    "_=raw.plot(n_channels=10)"
   ]
  },
  {
   "cell_type": "code",
   "execution_count": null,
   "id": "85e6944d-c3f2-4169-ae86-513d48826648",
   "metadata": {},
   "outputs": [],
   "source": [
    "raw.load_data()\n",
    "raw._data.shape"
   ]
  },
  {
   "cell_type": "code",
   "execution_count": null,
   "id": "9d30f881-c210-47da-9489-8bd2e3c588ba",
   "metadata": {},
   "outputs": [],
   "source": [
    "raw"
   ]
  },
  {
   "cell_type": "code",
   "execution_count": null,
   "id": "26b64428-e7eb-4edb-af19-a3a36ba16f83",
   "metadata": {},
   "outputs": [],
   "source": [
    "raw.ch_names"
   ]
  },
  {
   "cell_type": "markdown",
   "id": "87be1555-2bb2-4a9f-a070-b23533253575",
   "metadata": {},
   "source": [
    "### Selecting channels"
   ]
  },
  {
   "cell_type": "code",
   "execution_count": null,
   "id": "4b7f9b1c-18e7-4119-a4a3-e16c82e2a07c",
   "metadata": {},
   "outputs": [],
   "source": [
    "# Also look at raw.pick_channels and raw.pick\n",
    "raw.pick_types?"
   ]
  },
  {
   "cell_type": "code",
   "execution_count": null,
   "id": "7ae7511a-64cb-4172-bc40-9d7c0d74e8a5",
   "metadata": {},
   "outputs": [],
   "source": [
    "raw.pick_types(meg=True, eeg=False, misc=True)._data.shape"
   ]
  },
  {
   "cell_type": "code",
   "execution_count": null,
   "id": "d5bf0c6b-aa69-4c4c-967f-be75f098881a",
   "metadata": {},
   "outputs": [],
   "source": [
    "raw.ch_names.index('UADC001')"
   ]
  },
  {
   "cell_type": "code",
   "execution_count": null,
   "id": "8bfe5eec-c0da-4341-9ad4-205080dc358b",
   "metadata": {},
   "outputs": [],
   "source": [
    "#General plotting using python plotting\n",
    "%matplotlib inline\n",
    "import pylab\n",
    "pylab.plot(raw._data[301, 0:10000])"
   ]
  },
  {
   "cell_type": "markdown",
   "id": "e497f806-e39d-4500-89f5-85b889611ee2",
   "metadata": {},
   "source": [
    "### Select Misc channels to view triggers and plot using MNE Python"
   ]
  },
  {
   "cell_type": "code",
   "execution_count": null,
   "id": "f3ccc7a6-219d-4ef3-92da-2f362147caa3",
   "metadata": {},
   "outputs": [],
   "source": [
    "# Select the stimulus and response channels (if present)\n",
    "# If the .copy() is not used, the raw data itself will drop all channels except the selected channels\n",
    "misc1 = raw.copy().pick_types(meg=False, eeg=False, misc=True)"
   ]
  },
  {
   "cell_type": "markdown",
   "id": "b462fb93-37bc-4fad-910d-d8f3ec5d344c",
   "metadata": {},
   "source": [
    "### Somatosensory task - Airpuff Stimulus (Stim) vs. Missing Stim \n",
    "### UPPT001 codes stimuli; UADC001 communicates to mechanical airpuff delivery system"
   ]
  },
  {
   "cell_type": "code",
   "execution_count": null,
   "id": "f9a4aa6d-bdf2-427c-a02b-37c1d37c7379",
   "metadata": {},
   "outputs": [],
   "source": [
    "%matplotlib qt\n",
    "#Set scalings by data type - eg scalings={'mag':300} for evoked meg data\n",
    "misc1.plot(scalings={'misc':10}, duration=4)  "
   ]
  },
  {
   "cell_type": "code",
   "execution_count": null,
   "id": "c12531e3-53e0-4cb7-bb58-385ede40868e",
   "metadata": {},
   "outputs": [],
   "source": [
    "front = [i for i in raw.ch_names if i[2]=='F']\n",
    "print(f'There are {len(front)} frontal channels')"
   ]
  },
  {
   "cell_type": "code",
   "execution_count": null,
   "id": "f1c70358-d5b4-478c-9794-04405ff89ad4",
   "metadata": {},
   "outputs": [],
   "source": [
    "front_data = raw.copy().pick_channels(front)"
   ]
  },
  {
   "cell_type": "code",
   "execution_count": null,
   "id": "ee00a1c8-f4ab-4835-a9f0-7ecbfcda070f",
   "metadata": {},
   "outputs": [],
   "source": [
    "%matplotlib qt\n",
    "front_data.plot()"
   ]
  },
  {
   "cell_type": "markdown",
   "id": "5ddfedea-f46e-4ac7-9efa-92a0122c4f0b",
   "metadata": {},
   "source": [
    "### Sensor level preprocessing"
   ]
  },
  {
   "cell_type": "code",
   "execution_count": null,
   "id": "cc297a68-df25-4603-bc14-22ad15351771",
   "metadata": {},
   "outputs": [],
   "source": [
    "raw = raw.load_data() "
   ]
  },
  {
   "cell_type": "code",
   "execution_count": null,
   "id": "3dfe97ea-942f-4129-aaa2-5f7ca244760a",
   "metadata": {},
   "outputs": [],
   "source": [
    "raw.resample(300)\n",
    "\n",
    "raw.filter(1, None) "
   ]
  },
  {
   "cell_type": "code",
   "execution_count": null,
   "id": "6fc848d1-7ffa-4903-98df-7aeaa189e83d",
   "metadata": {},
   "outputs": [],
   "source": [
    "%matplotlib inline\n",
    "_ = raw.plot_psd()"
   ]
  },
  {
   "cell_type": "code",
   "execution_count": null,
   "id": "bf1d5318-778c-4fa9-a679-91d94b111583",
   "metadata": {},
   "outputs": [],
   "source": [
    "raw.notch_filter([60,120])\n",
    "_ = raw.plot_psd()"
   ]
  },
  {
   "cell_type": "markdown",
   "id": "fd6c34cc-d1f4-43fa-be67-ce1a6fbaba62",
   "metadata": {},
   "source": [
    "### Smaller window of spectrum"
   ]
  },
  {
   "cell_type": "code",
   "execution_count": null,
   "id": "a8b1360a-fdae-4cd7-864e-4badedcf9443",
   "metadata": {},
   "outputs": [],
   "source": [
    "%matplotlib inline\n",
    "_ = raw.plot_psd(fmin=3, fmax=45, n_overlap=.5)"
   ]
  },
  {
   "cell_type": "markdown",
   "id": "7a037937-dce9-4190-9252-a687015045b2",
   "metadata": {},
   "source": [
    "# Creating Events and Epochs from the data"
   ]
  },
  {
   "cell_type": "code",
   "execution_count": null,
   "id": "7b5b5112-0462-4ba5-a72e-56ce629fe249",
   "metadata": {},
   "outputs": [],
   "source": [
    "raw.annotations  #These have been read from the MarkerFile.mrk upon reading "
   ]
  },
  {
   "cell_type": "code",
   "execution_count": null,
   "id": "c15b33db-5373-4e34-adaa-59fa8ea1b83d",
   "metadata": {},
   "outputs": [],
   "source": [
    "events, event_ids = mne.events_from_annotations(raw) "
   ]
  },
  {
   "cell_type": "code",
   "execution_count": null,
   "id": "5aaeba77-7ae6-4fb0-9fd3-d9583e863aa0",
   "metadata": {},
   "outputs": [],
   "source": [
    "# Dictionary that maps event name to event code\n",
    "event_ids"
   ]
  },
  {
   "cell_type": "code",
   "execution_count": null,
   "id": "021a1307-5952-4f51-a4e1-313a840e1798",
   "metadata": {},
   "outputs": [],
   "source": [
    "events    # [Sample , duration, stim_code]"
   ]
  },
  {
   "cell_type": "code",
   "execution_count": null,
   "id": "c340f0b5-dc1b-4e4f-8ca0-3ca62a42b90b",
   "metadata": {},
   "outputs": [],
   "source": [
    "%matplotlib inline\n",
    "_ = mne.viz.plot_events(events, sfreq=raw.info['sfreq'], event_id=event_ids)"
   ]
  },
  {
   "cell_type": "markdown",
   "id": "d00122a3-ad64-4871-a2fa-93c58be71c22",
   "metadata": {},
   "source": [
    "## Epochs: Time windows of data around each event "
   ]
  },
  {
   "cell_type": "code",
   "execution_count": null,
   "id": "506a593b-4ab1-4861-a9aa-52668a04bed5",
   "metadata": {},
   "outputs": [],
   "source": [
    "#At time 0ms the stimuli is delivered\n",
    "tmin=-0.1  #100ms before event\n",
    "tmax=0.3   #300ms after event\n",
    "\n",
    "#Calculate all epochs with no rejection\n",
    "epochs = mne.Epochs(raw, events, tmin=tmin, tmax=tmax, reject_tmax=0,\n",
    "                preload=True, baseline=(tmin, 0))\n"
   ]
  },
  {
   "cell_type": "code",
   "execution_count": null,
   "id": "28cc02d0-3eff-4400-a147-ce1a6a3f674a",
   "metadata": {},
   "outputs": [],
   "source": [
    "epochs._data.shape"
   ]
  },
  {
   "cell_type": "code",
   "execution_count": null,
   "id": "d0d35523-62ed-457e-98b0-993abac29519",
   "metadata": {},
   "outputs": [],
   "source": [
    "%matplotlib qt\n",
    "_=epochs.plot(n_channels=10)"
   ]
  },
  {
   "cell_type": "markdown",
   "id": "bc37d93a-27c3-4a5c-a32d-474f0efe2b42",
   "metadata": {},
   "source": [
    "### Rejecting bad epochs using amplitude thresholding"
   ]
  },
  {
   "cell_type": "code",
   "execution_count": null,
   "id": "bdf33726-fe9b-4d9c-9a91-618877e37af8",
   "metadata": {},
   "outputs": [],
   "source": [
    "reject_dict = {'mag':2500e-15}\n",
    "epochs.drop_bad(reject=reject_dict)"
   ]
  },
  {
   "cell_type": "markdown",
   "id": "acf19b07-1fd4-41a2-bfe9-9028a8e6876e",
   "metadata": {},
   "source": [
    "### Epochs data size: Epochs X Channels X TimeSteps"
   ]
  },
  {
   "cell_type": "code",
   "execution_count": null,
   "id": "916d9fca-1801-4727-93bf-680ce357df57",
   "metadata": {},
   "outputs": [],
   "source": [
    "epochs._data.shape"
   ]
  },
  {
   "cell_type": "markdown",
   "id": "a745cd2f-9e0f-4b29-b2af-e7de60c1d7e8",
   "metadata": {},
   "source": [
    "### Evoked data averages over epochs: Channels X TimeSteps"
   ]
  },
  {
   "cell_type": "code",
   "execution_count": null,
   "id": "a4fcf840-ccb2-4448-9c9e-093fa1b402ad",
   "metadata": {},
   "outputs": [],
   "source": [
    "evoked = epochs['2'].average()\n",
    "evoked._data.shape  #Also removes 4 response/stim/clock channels"
   ]
  },
  {
   "cell_type": "markdown",
   "id": "2682c7a3-8ed0-4075-b5d1-662ec2f8c414",
   "metadata": {},
   "source": [
    "### Butterfly plot of evoked brain activity"
   ]
  },
  {
   "cell_type": "code",
   "execution_count": null,
   "id": "763ae06c-5520-4a5c-abb6-4041d83cd48f",
   "metadata": {},
   "outputs": [],
   "source": [
    "%matplotlib inline\n",
    "_=evoked.plot()"
   ]
  },
  {
   "cell_type": "markdown",
   "id": "ca953e11-e27b-43c6-b46e-54f5623bd26d",
   "metadata": {},
   "source": [
    "### Plot evoked dataset over time"
   ]
  },
  {
   "cell_type": "code",
   "execution_count": null,
   "id": "71da1d69-00cd-456d-a01f-d1e8157d721c",
   "metadata": {},
   "outputs": [],
   "source": [
    "_=evoked.plot_topomap(times=np.arange(0,.1, 0.01))"
   ]
  },
  {
   "cell_type": "markdown",
   "id": "07b787ef-21ec-4d12-9381-7f7766a25102",
   "metadata": {},
   "source": [
    "### Effect of number of samples on data average"
   ]
  },
  {
   "cell_type": "code",
   "execution_count": null,
   "id": "3070b59c-aad5-4298-a1c7-6e999a8a5a64",
   "metadata": {},
   "outputs": [],
   "source": [
    "from matplotlib import pyplot as plt\n",
    "\n",
    "stim_epochs=epochs['2']\n",
    "\n",
    "%matplotlib qt\n",
    "fig = plt.Figure()\n",
    "for idx,num in enumerate([1,2,4,8,16]):\n",
    "    ax = plt.subplot(3,2,idx+1)\n",
    "    evoked = stim_epochs[0:-1:num].average(method='mean')\n",
    "    evoked.plot(axes=ax, ylim={'mag':[-200,200]})\n",
    "plt.tight_layout()\n",
    "plt.show()\n"
   ]
  },
  {
   "cell_type": "code",
   "execution_count": null,
   "id": "f6a58ef1-263d-401c-bde4-5d5977bcae22",
   "metadata": {},
   "outputs": [],
   "source": [
    "from matplotlib import pyplot as plt\n",
    "\n",
    "stim_epochs=epochs['2']\n",
    "\n",
    "%matplotlib qt\n",
    "fig = plt.Figure()\n",
    "for idx,num in enumerate([1,2,4,8,16]):\n",
    "    ax = plt.subplot(3,2,idx+1)\n",
    "    evoked = stim_epochs[0:-1:num].average(method='mean')\n",
    "    evoked.plot_topomap(times=[0.040], colorbar=False, vmin=-100, vmax=100, axes=ax)\n",
    "    plt.title(f'40ms - Number Ave:{evoked.nave}')\n",
    "plt.tight_layout()\n",
    "plt.show()layout()\n",
    "plt.show()layout()\n",
    "plt.show()\n"
   ]
  }
 ],
 "metadata": {
  "kernelspec": {
   "display_name": "Python 3 (ipykernel)",
   "language": "python",
   "name": "python3"
  },
  "language_info": {
   "codemirror_mode": {
    "name": "ipython",
    "version": 3
   },
   "file_extension": ".py",
   "mimetype": "text/x-python",
   "name": "python",
   "nbconvert_exporter": "python",
   "pygments_lexer": "ipython3",
   "version": "3.11.5"
  }
 },
 "nbformat": 4,
 "nbformat_minor": 5
}
