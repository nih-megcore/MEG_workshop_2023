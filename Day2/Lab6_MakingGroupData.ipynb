{
 "cells": [
  {
   "cell_type": "code",
   "execution_count": null,
   "id": "648260e2-481b-456f-a9fb-154cf659dd84",
   "metadata": {},
   "outputs": [],
   "source": [
    "import mne\n",
    "import mne_bids\n",
    "from mne_bids import BIDSPath\n",
    "import os, os.path as op\n",
    "import nilearn\n",
    "import matplotlib.pyplot as plt\n",
    "import numpy as np\n",
    "from mne.minimum_norm import apply_inverse, make_inverse_operator\n",
    "import glob\n",
    "\n",
    "from nilearn import *\n",
    "\n",
    "from nih2mne.utilities.bids_helpers import get_mri_dict\n",
    "n_jobs = 10 #Number of parrallel operations"
   ]
  },
  {
   "cell_type": "markdown",
   "id": "bb3d7a0f-2e33-4b96-8e6d-7747feed38e0",
   "metadata": {},
   "source": [
    "## Set some generic BIDS information"
   ]
  },
  {
   "cell_type": "code",
   "execution_count": null,
   "id": "c25e944f-1fed-4463-804d-dd9a9cfbc4de",
   "metadata": {},
   "outputs": [],
   "source": [
    "#Raw data\n",
    "bids_root = op.join('/data/', os.environ['USER'], 'meg_workshop_data')  \n",
    "#Processed Data Folder: contains (freesurfer / Day1 / Day2) \n",
    "deriv_root = op.join(bids_root, 'derivatives')  \n",
    "#This course data - bids derivatives outputs for Day2 - hey thats today\n",
    "project_root = op.join(deriv_root, 'Day2')  \n",
    "#Freesurfer brain surface reconstruction\n",
    "fs_subjects_dir = subjects_dir = op.join(deriv_root, 'freesurfer','subjects')"
   ]
  },
  {
   "cell_type": "markdown",
   "id": "31f04da6-1e18-4e34-9d4e-876e50352615",
   "metadata": {},
   "source": [
    "### Find data for a subject"
   ]
  },
  {
   "cell_type": "code",
   "execution_count": null,
   "id": "2f170dc9-14b0-49e4-8189-740d25f9795e",
   "metadata": {},
   "outputs": [],
   "source": [
    "subject = 'ON02811'\n",
    "data_dict = get_mri_dict(subject,bids_root, task='airpuff', project='Day2')\n",
    "\n",
    "#Not in BIDs format\n",
    "stc_fname = op.join(project_root, 'ses-01', 'meg', 'sub-ON02811_ses-01_task-airpuff_run-01_desc-missingstim_stc30to50-vl.stc')\n",
    "\n",
    "# get_mri_dict is a helper function that provides all of the loaders for the mri integration\n",
    "# Each dictionary item codes for the specific loader of that file - see use in next cell of code\n",
    "data_dict"
   ]
  },
  {
   "cell_type": "markdown",
   "id": "0bfcd0a8-0e79-4eac-b85a-920e95ee0093",
   "metadata": {},
   "source": [
    "#### Load the preprocessed data - Items from Lab3 MRI Processing"
   ]
  },
  {
   "cell_type": "code",
   "execution_count": null,
   "id": "d8c8777e-ec84-4775-b335-ac0e76acace9",
   "metadata": {
    "scrolled": true
   },
   "outputs": [],
   "source": [
    "bem = data_dict['bem'].load()\n",
    "fwd = data_dict['fwd'].load()\n",
    "volfwd = data_dict['volfwd'].load()\n",
    "src = fwd['src']\n",
    "volsrc = volfwd['src']\n",
    "trans = data_dict['trans'].load()"
   ]
  },
  {
   "cell_type": "code",
   "execution_count": null,
   "id": "8dcc6eba-482d-48df-8855-6cd7048b8d78",
   "metadata": {
    "scrolled": true
   },
   "outputs": [],
   "source": [
    "#Load the Raw data\n",
    "bids_path = BIDSPath(root=bids_root, subject=subject, task='airpuff', run='01',session='01')\n",
    "raw = mne.io.read_raw_ctf(bids_path.fpath, clean_names=True, preload=True, verbose=False)\n",
    "raw.filter(0.3, 110, n_jobs=n_jobs)"
   ]
  },
  {
   "cell_type": "markdown",
   "id": "ed988a1d-e4aa-4ca5-8cdf-76098f10a5ff",
   "metadata": {},
   "source": [
    "### Prepare Imaging for Source Localization"
   ]
  },
  {
   "cell_type": "code",
   "execution_count": null,
   "id": "69c6e188-6fcc-4a02-80c8-3c1e9c722ecf",
   "metadata": {},
   "outputs": [],
   "source": [
    "volfwd"
   ]
  },
  {
   "cell_type": "code",
   "execution_count": null,
   "id": "74313146-bc1b-4462-9f11-53ee17aa262d",
   "metadata": {},
   "outputs": [],
   "source": [
    "fs_volsrc_fname=op.join(project_root, 'fsave-src.fif')\n",
    "fs_volsrc = mne.read_source_spaces(fs_volsrc_fname)\n",
    "\n",
    "morph = mne.compute_source_morph(volfwd['src'], subject_from = 'sub-'+subject, \n",
    "                                 subject_to='fsaverage', subjects_dir=fs_subjects_dir, src_to=fs_volsrc)"
   ]
  },
  {
   "cell_type": "markdown",
   "id": "b43467dc-7758-43e1-bee9-3e6a96eef89d",
   "metadata": {},
   "source": [
    "### Load up one of the volume source estimate files for subject ON02811"
   ]
  },
  {
   "cell_type": "code",
   "execution_count": null,
   "id": "48aa0e43-6973-481c-ba6f-e0fdaa398ed5",
   "metadata": {},
   "outputs": [],
   "source": [
    "stc_fname = op.join(project_root, 'sub-ON02811', 'ses-01', 'sub-ON02811_ses-01_task-airpuff_run-01_desc-stim_stc30to50-vl.stc')\n",
    "stc=mne.read_source_estimate(stc_fname)\n",
    "stc"
   ]
  },
  {
   "cell_type": "code",
   "execution_count": null,
   "id": "22c91ff8-3aed-43ff-a971-2f8e297d5368",
   "metadata": {},
   "outputs": [],
   "source": [
    "stc_fsaverage = morph.apply(stc)"
   ]
  },
  {
   "cell_type": "code",
   "execution_count": null,
   "id": "35cb7c08-92cb-459a-b3b7-e37ac02818c9",
   "metadata": {},
   "outputs": [],
   "source": [
    "_ = stc.plot(volsrc, subject='sub-'+subject, subjects_dir = fs_subjects_dir)"
   ]
  },
  {
   "cell_type": "code",
   "execution_count": null,
   "id": "1e6070b8-cfc5-4612-826b-967fdd20086f",
   "metadata": {},
   "outputs": [],
   "source": [
    "fs_volsrc_fname=op.join(project_root, 'fsave-src.fif')\n",
    "fs_volsrc = mne.read_source_spaces(fs_volsrc_fname)"
   ]
  },
  {
   "cell_type": "code",
   "execution_count": null,
   "id": "30eab9cf-fb3d-40f8-ac04-f7dc8faf38c2",
   "metadata": {},
   "outputs": [],
   "source": [
    "_ = stc_fsaverage.plot(fs_volsrc_fname, subject='fsaverage', subjects_dir = fs_subjects_dir)"
   ]
  },
  {
   "cell_type": "code",
   "execution_count": null,
   "id": "50ba1070-8929-4790-af9d-4279b6db6bca",
   "metadata": {},
   "outputs": [],
   "source": [
    "stc_list"
   ]
  },
  {
   "cell_type": "code",
   "execution_count": null,
   "id": "fce58df7-311c-43ca-9206-0aee3935f616",
   "metadata": {},
   "outputs": [],
   "source": [
    "stc_list = glob.glob(op.join(project_root, 'sub-*', 'ses-01', 'sub-*_ses-01_task-airpuff_run-01_desc-stim_stc30to50-vl.stc'))"
   ]
  },
  {
   "cell_type": "code",
   "execution_count": null,
   "id": "df302075-25b3-4161-9d9a-e83ab4af069f",
   "metadata": {},
   "outputs": [],
   "source": [
    "volfwd"
   ]
  },
  {
   "cell_type": "code",
   "execution_count": null,
   "id": "05f75441-948b-494b-a65c-5c2e2fa5411e",
   "metadata": {
    "scrolled": true
   },
   "outputs": [],
   "source": [
    "stc_fsave_list = []\n",
    "for stc_fname in stc_list:\n",
    "    subject = op.basename(stc_fname).split('_')[0][4:]\n",
    "    data_dict = get_mri_dict(subject,bids_root, task='airpuff', project='Day2')\n",
    "    stc = mne.read_source_estimate(stc_fname)\n",
    "    volfwd=data_dict['volfwd'].load()\n",
    "    morph = mne.compute_source_morph(volfwd['src'], subject_from = 'sub-'+subject, \n",
    "                                 subject_to='fsaverage', subjects_dir=fs_subjects_dir, src_to=fs_volsrc)\n",
    "    stc_fsave_list.append( morph.apply(stc ))\n",
    "    \n",
    "    "
   ]
  },
  {
   "cell_type": "code",
   "execution_count": null,
   "id": "2196035d-58d9-4ef2-864f-8e2bf4b3c018",
   "metadata": {},
   "outputs": [],
   "source": [
    "#Convert to numpy array\n",
    "group_dat = np.stack([stc_.data for stc_ in stc_fsave_list])"
   ]
  },
  {
   "cell_type": "markdown",
   "id": "f0b81029-1b71-40d6-b222-2c45255469de",
   "metadata": {},
   "source": [
    "## Don't do statistics this way -- just a quick way to visualize"
   ]
  },
  {
   "cell_type": "code",
   "execution_count": null,
   "id": "dd54f8b6-5843-4f47-96a3-18c37b3df7f6",
   "metadata": {},
   "outputs": [],
   "source": [
    "import copy\n",
    "stc_allav = copy.copy(stc_fsaverage)\n",
    "#PUt the average of the numpy array into the new data\n",
    "stc_allav._data = group_dat.mean(axis=0)"
   ]
  },
  {
   "cell_type": "code",
   "execution_count": null,
   "id": "ccb454b4-e234-415d-84f7-b9d70d749006",
   "metadata": {},
   "outputs": [],
   "source": [
    "_ = stc_allav.plot(fs_volsrc_fname, subject='fsaverage', subjects_dir = fs_subjects_dir)"
   ]
  },
  {
   "cell_type": "markdown",
   "id": "80695706-7250-4fbf-91b8-fc344fd8e17d",
   "metadata": {},
   "source": [
    "## Parcellation"
   ]
  },
  {
   "cell_type": "code",
   "execution_count": null,
   "id": "1d3e3122-f4da-4e4c-9251-ea46e1e07949",
   "metadata": {},
   "outputs": [],
   "source": [
    "labels=mne.read_labels_from_annot('sub-'+subject,parc='aparc', \n",
    "                                   subjects_dir=subjects_dir)        \n",
    "\n",
    "\n"
   ]
  },
  {
   "cell_type": "code",
   "execution_count": null,
   "id": "74012335-a43f-4fe6-931d-1b46ab0bf12a",
   "metadata": {},
   "outputs": [],
   "source": [
    "stc_surf_fname = op.join(project_root, 'TEST-src.fif')"
   ]
  },
  {
   "cell_type": "code",
   "execution_count": null,
   "id": "4c33d56b-820f-49c3-a4b8-121d2a07f8c7",
   "metadata": {},
   "outputs": [],
   "source": [
    "stc_surf = mne.read_source_estimate(stc_surf_fname)"
   ]
  },
  {
   "cell_type": "code",
   "execution_count": null,
   "id": "c0bd0685-8970-4647-b28b-760b255cfb46",
   "metadata": {},
   "outputs": [],
   "source": [
    "ts = mne.extract_label_time_course([stc_surf], labels, fwd['src'])[0]"
   ]
  },
  {
   "cell_type": "markdown",
   "id": "86ab8aa3-a0a0-4349-ba61-4297a846b2bf",
   "metadata": {},
   "source": [
    "## TS is a list (if epochs are entered) - We only have the average data here"
   ]
  },
  {
   "cell_type": "code",
   "execution_count": null,
   "id": "27318025-f6f0-4b36-b588-abf3536df6ac",
   "metadata": {},
   "outputs": [],
   "source": [
    "ts"
   ]
  },
  {
   "cell_type": "code",
   "execution_count": null,
   "id": "f8671b02-f893-4047-b5c4-d28178dd4be9",
   "metadata": {},
   "outputs": [],
   "source": [
    "ts.shape"
   ]
  },
  {
   "cell_type": "code",
   "execution_count": null,
   "id": "60bd81eb-a939-4d6b-be2a-a429d03bd5cd",
   "metadata": {},
   "outputs": [],
   "source": [
    "len(labels)"
   ]
  },
  {
   "cell_type": "markdown",
   "id": "d1d0c09d-9b9b-4795-a787-638ee86bd4ee",
   "metadata": {},
   "source": [
    "### Because these are large parcels - the activity in the somatosensory cortex is reduced / averaged over teh rest of the parcel"
   ]
  },
  {
   "cell_type": "code",
   "execution_count": null,
   "id": "756bae49-c025-4d73-960f-5c7ab46bd090",
   "metadata": {
    "scrolled": true
   },
   "outputs": [],
   "source": [
    "plt.plot(stc_surf.times, ts.T)"
   ]
  }
 ],
 "metadata": {
  "kernelspec": {
   "display_name": "Python 3 (ipykernel)",
   "language": "python",
   "name": "python3"
  },
  "language_info": {
   "codemirror_mode": {
    "name": "ipython",
    "version": 3
   },
   "file_extension": ".py",
   "mimetype": "text/x-python",
   "name": "python",
   "nbconvert_exporter": "python",
   "pygments_lexer": "ipython3",
   "version": "3.11.5"
  }
 },
 "nbformat": 4,
 "nbformat_minor": 5
}
