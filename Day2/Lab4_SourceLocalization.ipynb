{
 "cells": [
  {
   "cell_type": "code",
   "execution_count": 1,
   "id": "a62ac7c6-3cc6-4135-85a6-de2160ac12d8",
   "metadata": {},
   "outputs": [],
   "source": [
    "import mne\n",
    "import mne_bids\n",
    "import os, os.path as op\n",
    "import nilearn\n",
    "import matplotlib.pyplot as plt\n",
    "\n",
    "from nilearn import *"
   ]
  },
  {
   "cell_type": "code",
   "execution_count": 2,
   "id": "6bb81619-dd96-4186-9981-394503d3c67b",
   "metadata": {},
   "outputs": [],
   "source": [
    "t1_bids_path=mne_bids.get_bids_path_from_fname('/data/MEG_workshop_data/ds004215/sub-ON02811/ses-01/anat/sub-ON02811_ses-01_acq-MPRAGE_T1w.nii.gz')"
   ]
  },
  {
   "cell_type": "code",
   "execution_count": 3,
   "id": "23695053-0b1e-4b42-88d7-38cbefdfc412",
   "metadata": {},
   "outputs": [],
   "source": [
    "bids_root = '/data/MEG_workshop_data/ds004215'\n",
    "deriv_root = op.join(bids_root, 'derivatives')\n",
    "fs_subjects_dir = op.join(deriv_root, 'freesurfer','subjects')"
   ]
  },
  {
   "cell_type": "code",
   "execution_count": 4,
   "id": "e34d81a7-2bcd-4dee-8230-2f0b03d91795",
   "metadata": {},
   "outputs": [],
   "source": [
    "subject = 'ON02811'\n",
    "bids_path = mne_bids.BIDSPath(root=bids_root, subject = subject, session='01', task='airpuff', run='01', datatype='meg')\n",
    "bids_deriv_path = bids_path.copy().update(root=op.join(bids_root, 'derivatives', 'MEGworkshop'), check=False)\n",
    "if not op.exists(bids_deriv_path.root): os.mkdir(bids_deriv_path.root)\n",
    "\n",
    "#t1_bids_path = bids_path.copy().update(datatype='anat', session=None, task=None, run='01')"
   ]
  },
  {
   "cell_type": "code",
   "execution_count": 6,
   "id": "8dcc6eba-482d-48df-8855-6cd7048b8d78",
   "metadata": {},
   "outputs": [],
   "source": [
    "raw = mne.io.read_raw_ctf(bids_path.fpath, clean_names=True, preload=True, verbose=False)\n",
    "# raw = mne_bids.read_raw_bids(bids_path, verbose=False, preload=True)"
   ]
  },
  {
   "cell_type": "code",
   "execution_count": 7,
   "id": "7dd5088f-691c-41f3-8373-583c06c596f5",
   "metadata": {
    "scrolled": true
   },
   "outputs": [
    {
     "name": "stderr",
     "output_type": "stream",
     "text": [
      "/tmp/ipykernel_76306/4241046088.py:1: RuntimeWarning: The unit for channel(s) SCLK01-177, UADC001-2104, UPPT001, trigger has changed from V to NA.\n",
      "  trans = mne_bids.get_head_mri_trans(bids_path, extra_params={'clean_names': True}, t1_bids_path=t1_bids_path, fs_subject='sub-'+subject, fs_subjects_dir=fs_subjects_dir, verbose=False)\n"
     ]
    }
   ],
   "source": [
    "trans = mne_bids.get_head_mri_trans(bids_path, extra_params={'clean_names': True}, t1_bids_path=t1_bids_path, fs_subject='sub-'+subject, fs_subjects_dir=fs_subjects_dir, verbose=False)"
   ]
  },
  {
   "cell_type": "markdown",
   "id": "ed988a1d-e4aa-4ca5-8cdf-76098f10a5ff",
   "metadata": {},
   "source": [
    "### Prepare Imaging for Source Localization"
   ]
  },
  {
   "cell_type": "code",
   "execution_count": 8,
   "id": "54451730-98fc-4816-a05e-d73b82747873",
   "metadata": {},
   "outputs": [
    {
     "name": "stdout",
     "output_type": "stream",
     "text": [
      "Reading forward solution from /data/MEG_workshop_data/ds004215/derivatives/MEGworkshop/sub-ON02811/ses-01/meg/sub-ON02811_ses-01_task-airpuff_run-01_volfwd.fif...\n",
      "    Reading a source space...\n",
      "    [done]\n",
      "    1 source spaces read\n",
      "    Desired named matrix (kind = 3523) not available\n",
      "    Read MEG forward solution (9596 sources, 272 channels, free orientations)\n",
      "    Source spaces transformed to the forward solution coordinate frame\n"
     ]
    },
    {
     "name": "stderr",
     "output_type": "stream",
     "text": [
      "/tmp/ipykernel_76306/933157568.py:2: RuntimeWarning: This filename (/data/MEG_workshop_data/ds004215/derivatives/MEGworkshop/sub-ON02811/ses-01/meg/sub-ON02811_ses-01_task-airpuff_run-01_volfwd.fif) does not conform to MNE naming conventions. All forward files should end with -fwd.fif, -fwd.fif.gz, _fwd.fif or _fwd.fif.gz\n",
      "  fwd = mne.read_forward_solution(fwd_name)\n"
     ]
    }
   ],
   "source": [
    "fwd_name = bids_deriv_path.copy().update(extension='.fif', suffix='volfwd')\n",
    "fwd = mne.read_forward_solution(fwd_name)\n",
    "src = fwd['src']"
   ]
  },
  {
   "cell_type": "code",
   "execution_count": 9,
   "id": "ca8262a9-b558-4c1f-8dcc-1e58de1a13b2",
   "metadata": {},
   "outputs": [
    {
     "name": "stdout",
     "output_type": "stream",
     "text": [
      "Used Annotations descriptions: ['missingstim', 'stim']\n"
     ]
    }
   ],
   "source": [
    "evts, evtsid = mne.events_from_annotations(raw)"
   ]
  },
  {
   "cell_type": "code",
   "execution_count": 10,
   "id": "ebf8e216-2a76-49c3-a22a-d3bc016323b4",
   "metadata": {},
   "outputs": [
    {
     "name": "stdout",
     "output_type": "stream",
     "text": [
      "Not setting metadata\n",
      "500 matching events found\n",
      "Setting baseline interval to [-0.1, 0.0] s\n",
      "Applying baseline correction (mode: mean)\n",
      "0 projection items activated\n",
      "Using data from preloaded Raw for 500 events and 361 original time points ...\n",
      "0 bad epochs dropped\n"
     ]
    }
   ],
   "source": [
    "epochs = mne.Epochs(raw, evts, evtsid, tmin=-0.1, tmax=0.2, preload=True)"
   ]
  },
  {
   "cell_type": "code",
   "execution_count": 11,
   "id": "95cc7555-4319-4c86-828b-7d06706e4bc5",
   "metadata": {},
   "outputs": [
    {
     "name": "stdout",
     "output_type": "stream",
     "text": [
      "NOTE: pick_channels() is a legacy function. New code should use inst.pick(...).\n",
      "NOTE: pick_channels() is a legacy function. New code should use inst.pick(...).\n"
     ]
    }
   ],
   "source": [
    "evk_stim = epochs['stim'].average()\n",
    "evk_stim = epochs['missingstim'].average()"
   ]
  },
  {
   "cell_type": "code",
   "execution_count": 19,
   "id": "df6f6055-b43b-4a15-bec1-7f30b1b24e21",
   "metadata": {
    "scrolled": true
   },
   "outputs": [
    {
     "name": "stdout",
     "output_type": "stream",
     "text": [
      "Removing 5 compensators from info because not all compensation channels were picked.\n",
      "Removing 5 compensators from info because not all compensation channels were picked.\n",
      "Removing 5 compensators from info because not all compensation channels were picked.\n"
     ]
    },
    {
     "ename": "AttributeError",
     "evalue": "'NoneType' object has no attribute '_get_renderer'",
     "output_type": "error",
     "traceback": [
      "\u001b[0;31m---------------------------------------------------------------------------\u001b[0m",
      "\u001b[0;31mAttributeError\u001b[0m                            Traceback (most recent call last)",
      "File \u001b[0;32m~/miniconda3/envs/MEG_workshop2/lib/python3.11/site-packages/IPython/core/formatters.py:340\u001b[0m, in \u001b[0;36mBaseFormatter.__call__\u001b[0;34m(self, obj)\u001b[0m\n\u001b[1;32m    338\u001b[0m     \u001b[38;5;28;01mpass\u001b[39;00m\n\u001b[1;32m    339\u001b[0m \u001b[38;5;28;01melse\u001b[39;00m:\n\u001b[0;32m--> 340\u001b[0m     \u001b[38;5;28;01mreturn\u001b[39;00m \u001b[43mprinter\u001b[49m\u001b[43m(\u001b[49m\u001b[43mobj\u001b[49m\u001b[43m)\u001b[49m\n\u001b[1;32m    341\u001b[0m \u001b[38;5;66;03m# Finally look for special method names\u001b[39;00m\n\u001b[1;32m    342\u001b[0m method \u001b[38;5;241m=\u001b[39m get_real_method(obj, \u001b[38;5;28mself\u001b[39m\u001b[38;5;241m.\u001b[39mprint_method)\n",
      "File \u001b[0;32m~/miniconda3/envs/MEG_workshop2/lib/python3.11/site-packages/IPython/core/pylabtools.py:152\u001b[0m, in \u001b[0;36mprint_figure\u001b[0;34m(fig, fmt, bbox_inches, base64, **kwargs)\u001b[0m\n\u001b[1;32m    149\u001b[0m     \u001b[38;5;28;01mfrom\u001b[39;00m \u001b[38;5;21;01mmatplotlib\u001b[39;00m\u001b[38;5;21;01m.\u001b[39;00m\u001b[38;5;21;01mbackend_bases\u001b[39;00m \u001b[38;5;28;01mimport\u001b[39;00m FigureCanvasBase\n\u001b[1;32m    150\u001b[0m     FigureCanvasBase(fig)\n\u001b[0;32m--> 152\u001b[0m \u001b[43mfig\u001b[49m\u001b[38;5;241;43m.\u001b[39;49m\u001b[43mcanvas\u001b[49m\u001b[38;5;241;43m.\u001b[39;49m\u001b[43mprint_figure\u001b[49m\u001b[43m(\u001b[49m\u001b[43mbytes_io\u001b[49m\u001b[43m,\u001b[49m\u001b[43m \u001b[49m\u001b[38;5;241;43m*\u001b[39;49m\u001b[38;5;241;43m*\u001b[39;49m\u001b[43mkw\u001b[49m\u001b[43m)\u001b[49m\n\u001b[1;32m    153\u001b[0m data \u001b[38;5;241m=\u001b[39m bytes_io\u001b[38;5;241m.\u001b[39mgetvalue()\n\u001b[1;32m    154\u001b[0m \u001b[38;5;28;01mif\u001b[39;00m fmt \u001b[38;5;241m==\u001b[39m \u001b[38;5;124m'\u001b[39m\u001b[38;5;124msvg\u001b[39m\u001b[38;5;124m'\u001b[39m:\n",
      "File \u001b[0;32m~/miniconda3/envs/MEG_workshop2/lib/python3.11/site-packages/matplotlib/backends/backend_qtagg.py:75\u001b[0m, in \u001b[0;36mFigureCanvasQTAgg.print_figure\u001b[0;34m(self, *args, **kwargs)\u001b[0m\n\u001b[1;32m     74\u001b[0m \u001b[38;5;28;01mdef\u001b[39;00m \u001b[38;5;21mprint_figure\u001b[39m(\u001b[38;5;28mself\u001b[39m, \u001b[38;5;241m*\u001b[39margs, \u001b[38;5;241m*\u001b[39m\u001b[38;5;241m*\u001b[39mkwargs):\n\u001b[0;32m---> 75\u001b[0m     \u001b[38;5;28;43msuper\u001b[39;49m\u001b[43m(\u001b[49m\u001b[43m)\u001b[49m\u001b[38;5;241;43m.\u001b[39;49m\u001b[43mprint_figure\u001b[49m\u001b[43m(\u001b[49m\u001b[38;5;241;43m*\u001b[39;49m\u001b[43margs\u001b[49m\u001b[43m,\u001b[49m\u001b[43m \u001b[49m\u001b[38;5;241;43m*\u001b[39;49m\u001b[38;5;241;43m*\u001b[39;49m\u001b[43mkwargs\u001b[49m\u001b[43m)\u001b[49m\n\u001b[1;32m     76\u001b[0m     \u001b[38;5;28mself\u001b[39m\u001b[38;5;241m.\u001b[39mdraw()\n",
      "File \u001b[0;32m~/miniconda3/envs/MEG_workshop2/lib/python3.11/site-packages/matplotlib/backend_bases.py:2353\u001b[0m, in \u001b[0;36mFigureCanvasBase.print_figure\u001b[0;34m(self, filename, dpi, facecolor, edgecolor, orientation, format, bbox_inches, pad_inches, bbox_extra_artists, backend, **kwargs)\u001b[0m\n\u001b[1;32m   2350\u001b[0m         bbox_inches \u001b[38;5;241m=\u001b[39m bbox_inches\u001b[38;5;241m.\u001b[39mpadded(pad_inches)\n\u001b[1;32m   2352\u001b[0m     \u001b[38;5;66;03m# call adjust_bbox to save only the given area\u001b[39;00m\n\u001b[0;32m-> 2353\u001b[0m     restore_bbox \u001b[38;5;241m=\u001b[39m \u001b[43m_tight_bbox\u001b[49m\u001b[38;5;241;43m.\u001b[39;49m\u001b[43madjust_bbox\u001b[49m\u001b[43m(\u001b[49m\n\u001b[1;32m   2354\u001b[0m \u001b[43m        \u001b[49m\u001b[38;5;28;43mself\u001b[39;49m\u001b[38;5;241;43m.\u001b[39;49m\u001b[43mfigure\u001b[49m\u001b[43m,\u001b[49m\u001b[43m \u001b[49m\u001b[43mbbox_inches\u001b[49m\u001b[43m,\u001b[49m\u001b[43m \u001b[49m\u001b[38;5;28;43mself\u001b[39;49m\u001b[38;5;241;43m.\u001b[39;49m\u001b[43mfigure\u001b[49m\u001b[38;5;241;43m.\u001b[39;49m\u001b[43mcanvas\u001b[49m\u001b[38;5;241;43m.\u001b[39;49m\u001b[43mfixed_dpi\u001b[49m\u001b[43m)\u001b[49m\n\u001b[1;32m   2356\u001b[0m     _bbox_inches_restore \u001b[38;5;241m=\u001b[39m (bbox_inches, restore_bbox)\n\u001b[1;32m   2357\u001b[0m \u001b[38;5;28;01melse\u001b[39;00m:\n",
      "File \u001b[0;32m~/miniconda3/envs/MEG_workshop2/lib/python3.11/site-packages/matplotlib/_tight_bbox.py:28\u001b[0m, in \u001b[0;36madjust_bbox\u001b[0;34m(fig, bbox_inches, fixed_dpi)\u001b[0m\n\u001b[1;32m     26\u001b[0m locator \u001b[38;5;241m=\u001b[39m ax\u001b[38;5;241m.\u001b[39mget_axes_locator()\n\u001b[1;32m     27\u001b[0m \u001b[38;5;28;01mif\u001b[39;00m locator \u001b[38;5;129;01mis\u001b[39;00m \u001b[38;5;129;01mnot\u001b[39;00m \u001b[38;5;28;01mNone\u001b[39;00m:\n\u001b[0;32m---> 28\u001b[0m     ax\u001b[38;5;241m.\u001b[39mapply_aspect(\u001b[43mlocator\u001b[49m\u001b[43m(\u001b[49m\u001b[43max\u001b[49m\u001b[43m,\u001b[49m\u001b[43m \u001b[49m\u001b[38;5;28;43;01mNone\u001b[39;49;00m\u001b[43m)\u001b[49m)\n\u001b[1;32m     29\u001b[0m locator_list\u001b[38;5;241m.\u001b[39mappend(locator)\n\u001b[1;32m     30\u001b[0m current_pos \u001b[38;5;241m=\u001b[39m ax\u001b[38;5;241m.\u001b[39mget_position(original\u001b[38;5;241m=\u001b[39m\u001b[38;5;28;01mFalse\u001b[39;00m)\u001b[38;5;241m.\u001b[39mfrozen()\n",
      "File \u001b[0;32m~/miniconda3/envs/MEG_workshop2/lib/python3.11/site-packages/mpl_toolkits/axes_grid1/inset_locator.py:73\u001b[0m, in \u001b[0;36mAnchoredLocatorBase.__call__\u001b[0;34m(self, ax, renderer)\u001b[0m\n\u001b[1;32m     71\u001b[0m \u001b[38;5;28;01mdef\u001b[39;00m \u001b[38;5;21m__call__\u001b[39m(\u001b[38;5;28mself\u001b[39m, ax, renderer):\n\u001b[1;32m     72\u001b[0m     \u001b[38;5;28mself\u001b[39m\u001b[38;5;241m.\u001b[39maxes \u001b[38;5;241m=\u001b[39m ax\n\u001b[0;32m---> 73\u001b[0m     bbox \u001b[38;5;241m=\u001b[39m \u001b[38;5;28;43mself\u001b[39;49m\u001b[38;5;241;43m.\u001b[39;49m\u001b[43mget_window_extent\u001b[49m\u001b[43m(\u001b[49m\u001b[43mrenderer\u001b[49m\u001b[43m)\u001b[49m\n\u001b[1;32m     74\u001b[0m     px, py \u001b[38;5;241m=\u001b[39m \u001b[38;5;28mself\u001b[39m\u001b[38;5;241m.\u001b[39mget_offset(bbox\u001b[38;5;241m.\u001b[39mwidth, bbox\u001b[38;5;241m.\u001b[39mheight, \u001b[38;5;241m0\u001b[39m, \u001b[38;5;241m0\u001b[39m, renderer)\n\u001b[1;32m     75\u001b[0m     bbox_canvas \u001b[38;5;241m=\u001b[39m Bbox\u001b[38;5;241m.\u001b[39mfrom_bounds(px, py, bbox\u001b[38;5;241m.\u001b[39mwidth, bbox\u001b[38;5;241m.\u001b[39mheight)\n",
      "File \u001b[0;32m~/miniconda3/envs/MEG_workshop2/lib/python3.11/site-packages/matplotlib/offsetbox.py:399\u001b[0m, in \u001b[0;36mOffsetBox.get_window_extent\u001b[0;34m(self, renderer)\u001b[0m\n\u001b[1;32m    396\u001b[0m \u001b[38;5;28;01mdef\u001b[39;00m \u001b[38;5;21mget_window_extent\u001b[39m(\u001b[38;5;28mself\u001b[39m, renderer\u001b[38;5;241m=\u001b[39m\u001b[38;5;28;01mNone\u001b[39;00m):\n\u001b[1;32m    397\u001b[0m     \u001b[38;5;66;03m# docstring inherited\u001b[39;00m\n\u001b[1;32m    398\u001b[0m     \u001b[38;5;28;01mif\u001b[39;00m renderer \u001b[38;5;129;01mis\u001b[39;00m \u001b[38;5;28;01mNone\u001b[39;00m:\n\u001b[0;32m--> 399\u001b[0m         renderer \u001b[38;5;241m=\u001b[39m \u001b[38;5;28;43mself\u001b[39;49m\u001b[38;5;241;43m.\u001b[39;49m\u001b[43mfigure\u001b[49m\u001b[38;5;241;43m.\u001b[39;49m\u001b[43m_get_renderer\u001b[49m()\n\u001b[1;32m    400\u001b[0m     bbox \u001b[38;5;241m=\u001b[39m \u001b[38;5;28mself\u001b[39m\u001b[38;5;241m.\u001b[39mget_bbox(renderer)\n\u001b[1;32m    401\u001b[0m     \u001b[38;5;28;01mtry\u001b[39;00m:  \u001b[38;5;66;03m# Some subclasses redefine get_offset to take no args.\u001b[39;00m\n",
      "\u001b[0;31mAttributeError\u001b[0m: 'NoneType' object has no attribute '_get_renderer'"
     ]
    },
    {
     "data": {
      "text/plain": [
       "<Figure size 640x300 with 2 Axes>"
      ]
     },
     "execution_count": 19,
     "metadata": {},
     "output_type": "execute_result"
    }
   ],
   "source": [
    "%matplotlib qt\n",
    "evk.plot()"
   ]
  },
  {
   "cell_type": "markdown",
   "id": "8c06d018-e7d9-45b6-8a12-03a4ae838e41",
   "metadata": {},
   "source": [
    "## Multi-dipole (not available)"
   ]
  },
  {
   "cell_type": "markdown",
   "id": "bcd83772-b109-4726-864e-93da02f3f3d7",
   "metadata": {},
   "source": [
    "## MNE solution"
   ]
  },
  {
   "cell_type": "code",
   "execution_count": 15,
   "id": "ee94f697-8f87-4495-9612-a811a399d55b",
   "metadata": {
    "scrolled": true
   },
   "outputs": [
    {
     "name": "stdout",
     "output_type": "stream",
     "text": [
      "Removing 5 compensators from info because not all compensation channels were picked.\n",
      "Computing rank from data with rank=None\n",
      "    Using tolerance 2.3e-08 (2.2e-16 eps * 272 dim * 3.9e+05  max singular value)\n",
      "    Estimated rank (mag): 272\n",
      "    MAG: rank 272 computed from 272 data channels with 0 projectors\n",
      "Reducing data rank from 272 -> 272\n",
      "Estimating covariance using SHRUNK\n",
      "Done.\n",
      "Number of samples used : 51425\n",
      "[done]\n"
     ]
    }
   ],
   "source": [
    "cov = mne.compute_covariance(epochs['stim'], tmin=0, tmax = 0.1, method='shrunk', cv=5)"
   ]
  },
  {
   "cell_type": "code",
   "execution_count": 21,
   "id": "cf51d4a1-8cfd-4ab4-9ba9-21a41bb771d0",
   "metadata": {},
   "outputs": [
    {
     "data": {
      "text/html": [
       "<table class=\"table table-hover\">\n",
       "    <tr>\n",
       "        <th>Condition</th>\n",
       "        <td>missingstim</td>\n",
       "    </tr>\n",
       "    <tr>\n",
       "        <th>Data kind</th>\n",
       "        <td>average</td>\n",
       "    </tr>\n",
       "    <tr>\n",
       "        <th>Timepoints</th>\n",
       "        <td>121 samples</td>\n",
       "    </tr>\n",
       "        <th>Channels</th>\n",
       "        <td>300 channels</td>\n",
       "    </tr>\n",
       "    <tr>\n",
       "        <th>Number of averaged epochs</th>\n",
       "        <td>75</td>\n",
       "    </tr>\n",
       "    <tr>\n",
       "        <th>Time range (secs)</th>\n",
       "        <td>0.0 – 0.1</td>\n",
       "    </tr>\n",
       "    <tr>\n",
       "        <th>Baseline (secs)</th>\n",
       "        <td>-0.100 – 0.000 s</td>\n",
       "    </tr>\n",
       "</table>"
      ],
      "text/plain": [
       "<Evoked | 'missingstim' (average, N=75), 0 – 0.1 s, baseline -0.1 – 0 s (baseline period was cropped after baseline correction), 300 ch, ~672 kB>"
      ]
     },
     "execution_count": 21,
     "metadata": {},
     "output_type": "execute_result"
    }
   ],
   "source": [
    "evk_stim.crop(0,0.1)"
   ]
  },
  {
   "cell_type": "code",
   "execution_count": 17,
   "id": "9751553f-9248-43df-9a9a-e25deac57b56",
   "metadata": {},
   "outputs": [],
   "source": [
    "bem_fname = bids_deriv_path.copy().update(suffix='bemsol', extension='.fif')"
   ]
  },
  {
   "cell_type": "code",
   "execution_count": null,
   "id": "d9381ff4-e5be-46c8-943d-62c65334cc8e",
   "metadata": {
    "scrolled": true
   },
   "outputs": [
    {
     "name": "stdout",
     "output_type": "stream",
     "text": [
      "BEM               : PosixPath('/data/MEG_workshop_data/ds004215/derivatives/MEGworkshop/sub-ON02811/ses-01/meg/sub-ON02811_ses-01_task-airpuff_run-01_bemsol.fif')\n",
      "MRI transform     : instance of Transform\n",
      "Head origin       :   -1.6    2.7   59.1 mm rad =   69.5 mm.\n",
      "Guess grid        :   20.0 mm\n",
      "Guess mindist     :    5.0 mm\n",
      "Guess exclude     :   20.0 mm\n",
      "Using normal MEG coil definitions.\n",
      "Noise covariance  : <Covariance | size : 272 x 272, n_samples : 51424, data : [[ 8.65481831e-27  5.09174222e-27  4.20639237e-27 ... -2.82921339e-27\n",
      "  -2.65904986e-27 -1.00776831e-27]\n",
      " [ 5.09174222e-27  8.46065914e-27  6.61324798e-27 ... -1.98008935e-27\n",
      "  -2.27055200e-27  1.93345423e-28]\n",
      " [ 4.20639237e-27  6.61324798e-27  1.21068704e-26 ... -1.50191822e-27\n",
      "  -2.25101689e-27  8.69054385e-28]\n",
      " ...\n",
      " [-2.82921339e-27 -1.98008935e-27 -1.50191822e-27 ...  2.77675273e-26\n",
      "   1.74677145e-26  1.27371549e-26]\n",
      " [-2.65904986e-27 -2.27055200e-27 -2.25101689e-27 ...  1.74677145e-26\n",
      "   2.97711417e-26  4.36202123e-27]\n",
      " [-1.00776831e-27  1.93345423e-28  8.69054385e-28 ...  1.27371549e-26\n",
      "   4.36202123e-27  2.15839374e-26]]>\n",
      "\n",
      "Coordinate transformation: MRI (surface RAS) -> head\n",
      "     0.997953 -0.057881  0.027192      -1.76 mm\n",
      "     0.031289  0.812763  0.581753      14.96 mm\n",
      "    -0.055773 -0.579712  0.812911      28.60 mm\n",
      "     0.000000  0.000000  0.000000       1.00\n",
      "Coordinate transformation: MEG device -> head\n",
      "     0.995236  0.086663  0.044669       0.44 mm\n",
      "    -0.095056  0.964374  0.246873       8.43 mm\n",
      "    -0.021682 -0.249943  0.968018      83.07 mm\n",
      "     0.000000  0.000000  0.000000       1.00\n",
      "0 bad channels total\n",
      "Read 300 MEG channels from info\n",
      "Read 28 MEG compensation channels from info\n",
      "5 compensation data sets in info\n",
      "Setting up compensation data...\n",
      "    Desired compensation data (3) found.\n",
      "    All compensation channels found.\n",
      "    Preselector created.\n",
      "    Compensation data matrix created.\n",
      "    Postselector created.\n",
      "105 coil definitions read\n",
      "Coordinate transformation: MEG device -> head\n",
      "     0.995236  0.086663  0.044669       0.44 mm\n",
      "    -0.095056  0.964374  0.246873       8.43 mm\n",
      "    -0.021682 -0.249943  0.968018      83.07 mm\n",
      "     0.000000  0.000000  0.000000       1.00\n",
      "MEG coil definitions created in head coordinates.\n",
      "Decomposing the sensor noise covariance matrix...\n",
      "Removing 5 compensators from info because not all compensation channels were picked.\n",
      "Computing rank from covariance with rank=None\n",
      "    Using tolerance 1.7e-13 (2.2e-16 eps * 272 dim * 2.9  max singular value)\n",
      "    Estimated rank (mag): 272\n",
      "    MAG: rank 272 computed from 272 data channels with 0 projectors\n",
      "    Setting small MAG eigenvalues to zero (without PCA)\n",
      "    Created the whitener using a noise covariance matrix with rank 272 (0 small eigenvalues omitted)\n",
      "\n",
      "---- Computing the forward solution for the guesses...\n",
      "Guess surface (inner skull) is in MRI (surface RAS) coordinates\n",
      "Filtering (grid =     20 mm)...\n",
      "Surface CM = (  -2.6  -26.2   17.2) mm\n",
      "Surface fits inside a sphere with radius   92.1 mm\n",
      "Surface extent:\n",
      "    x =  -75.2 ...   69.8 mm\n",
      "    y =  -99.1 ...   64.8 mm\n",
      "    z =  -55.7 ...   78.7 mm\n",
      "Grid extent:\n",
      "    x =  -80.0 ...   80.0 mm\n",
      "    y = -100.0 ...   80.0 mm\n",
      "    z =  -60.0 ...   80.0 mm\n",
      "720 sources before omitting any.\n",
      "394 sources after omitting infeasible sources not within 20.0 - 92.1 mm.\n",
      "Source spaces are in MRI coordinates.\n",
      "Checking that the sources are inside the surface and at least    5.0 mm away (will take a few...)\n",
      "Checking surface interior status for 394 points...\n",
      "    Found  31/394 points inside  an interior sphere of radius   41.1 mm\n",
      "    Found   0/394 points outside an exterior sphere of radius   92.1 mm\n",
      "    Found 203/363 points outside using surface Qhull\n",
      "    Found  12/160 points outside using solid angles\n",
      "    Total 179/394 points inside the surface\n",
      "Interior check completed in 98.6 ms\n",
      "    215 source space points omitted because they are outside the inner skull surface.\n",
      "    27 source space points omitted because of the    5.0-mm distance limit.\n",
      "152 sources remaining after excluding the sources outside the surface and less than    5.0 mm inside.\n",
      "Go through all guess source locations...\n",
      "[done 152 sources]\n",
      "---- Fitted :     0.0 ms, distance to inner skull : 12.4219 mm\n",
      "---- Fitted :     0.8 ms, distance to inner skull : 4.9510 mm\n",
      "---- Fitted :     1.7 ms, distance to inner skull : 4.9570 mm\n",
      "---- Fitted :     2.5 ms, distance to inner skull : 9.6863 mm\n",
      "---- Fitted :     3.3 ms, distance to inner skull : 5.0004 mm\n",
      "---- Fitted :     4.2 ms, distance to inner skull : 15.6786 mm\n",
      "---- Fitted :     5.0 ms, distance to inner skull : 14.3193 mm\n",
      "---- Fitted :     5.8 ms, distance to inner skull : 5.0010 mm\n",
      "---- Fitted :     6.7 ms, distance to inner skull : 21.2745 mm\n",
      "---- Fitted :     7.5 ms, distance to inner skull : 7.7917 mm\n",
      "---- Fitted :     8.3 ms, distance to inner skull : 5.8593 mm\n",
      "---- Fitted :     9.2 ms, distance to inner skull : 46.4581 mm\n",
      "---- Fitted :    10.0 ms, distance to inner skull : 24.3524 mm\n",
      "---- Fitted :    10.8 ms, distance to inner skull : 29.7654 mm\n",
      "---- Fitted :    11.7 ms, distance to inner skull : 5.0005 mm\n",
      "---- Fitted :    12.5 ms, distance to inner skull : 5.0007 mm\n",
      "---- Fitted :    13.3 ms, distance to inner skull : 5.0006 mm\n"
     ]
    },
    {
     "name": "stderr",
     "output_type": "stream",
     "text": [
      "[Parallel(n_jobs=1)]: Done  17 tasks      | elapsed:   25.6s\n"
     ]
    },
    {
     "name": "stdout",
     "output_type": "stream",
     "text": [
      "---- Fitted :    14.2 ms, distance to inner skull : 4.9827 mm\n",
      "---- Fitted :    15.0 ms, distance to inner skull : 5.0005 mm\n",
      "---- Fitted :    15.8 ms, distance to inner skull : 4.9642 mm\n",
      "---- Fitted :    16.7 ms, distance to inner skull : 5.0011 mm\n",
      "---- Fitted :    17.5 ms, distance to inner skull : 4.9591 mm\n",
      "---- Fitted :    18.3 ms, distance to inner skull : 5.0008 mm\n",
      "---- Fitted :    19.2 ms, distance to inner skull : 4.9619 mm\n",
      "---- Fitted :    20.0 ms, distance to inner skull : 7.7069 mm\n",
      "---- Fitted :    20.8 ms, distance to inner skull : 10.1559 mm\n",
      "---- Fitted :    21.7 ms, distance to inner skull : 5.0010 mm\n",
      "---- Fitted :    22.5 ms, distance to inner skull : 5.0014 mm\n",
      "---- Fitted :    23.3 ms, distance to inner skull : 5.0004 mm\n",
      "---- Fitted :    24.2 ms, distance to inner skull : 5.0007 mm\n",
      "---- Fitted :    25.0 ms, distance to inner skull : 4.3934 mm\n",
      "---- Fitted :    25.8 ms, distance to inner skull : 4.9667 mm\n",
      "---- Fitted :    26.7 ms, distance to inner skull : 4.9820 mm\n",
      "---- Fitted :    27.5 ms, distance to inner skull : 19.6416 mm\n",
      "---- Fitted :    28.3 ms, distance to inner skull : 5.0011 mm\n",
      "---- Fitted :    29.2 ms, distance to inner skull : 4.9811 mm\n",
      "---- Fitted :    30.0 ms, distance to inner skull : 4.9684 mm\n",
      "---- Fitted :    30.8 ms, distance to inner skull : 5.0023 mm\n",
      "---- Fitted :    31.7 ms, distance to inner skull : 4.7320 mm\n",
      "---- Fitted :    32.5 ms, distance to inner skull : 4.9719 mm\n",
      "---- Fitted :    33.3 ms, distance to inner skull : 5.0010 mm\n",
      "---- Fitted :    34.2 ms, distance to inner skull : 19.7652 mm\n",
      "---- Fitted :    35.0 ms, distance to inner skull : 5.0019 mm\n"
     ]
    }
   ],
   "source": [
    "dip = mne.fit_dipole(evk_stim, cov, bem_fname.fpath, trans=trans)"
   ]
  },
  {
   "cell_type": "code",
   "execution_count": 20,
   "id": "d8c9f26a-1660-4b8b-b7fc-6feaa6bd1883",
   "metadata": {},
   "outputs": [
    {
     "data": {
      "text/plain": [
       "\u001b[0;31mSignature:\u001b[0m\n",
       "\u001b[0mmne\u001b[0m\u001b[0;34m.\u001b[0m\u001b[0mfit_dipole\u001b[0m\u001b[0;34m(\u001b[0m\u001b[0;34m\u001b[0m\n",
       "\u001b[0;34m\u001b[0m    \u001b[0mevoked\u001b[0m\u001b[0;34m,\u001b[0m\u001b[0;34m\u001b[0m\n",
       "\u001b[0;34m\u001b[0m    \u001b[0mcov\u001b[0m\u001b[0;34m,\u001b[0m\u001b[0;34m\u001b[0m\n",
       "\u001b[0;34m\u001b[0m    \u001b[0mbem\u001b[0m\u001b[0;34m,\u001b[0m\u001b[0;34m\u001b[0m\n",
       "\u001b[0;34m\u001b[0m    \u001b[0mtrans\u001b[0m\u001b[0;34m=\u001b[0m\u001b[0;32mNone\u001b[0m\u001b[0;34m,\u001b[0m\u001b[0;34m\u001b[0m\n",
       "\u001b[0;34m\u001b[0m    \u001b[0mmin_dist\u001b[0m\u001b[0;34m=\u001b[0m\u001b[0;36m5.0\u001b[0m\u001b[0;34m,\u001b[0m\u001b[0;34m\u001b[0m\n",
       "\u001b[0;34m\u001b[0m    \u001b[0mn_jobs\u001b[0m\u001b[0;34m=\u001b[0m\u001b[0;32mNone\u001b[0m\u001b[0;34m,\u001b[0m\u001b[0;34m\u001b[0m\n",
       "\u001b[0;34m\u001b[0m    \u001b[0mpos\u001b[0m\u001b[0;34m=\u001b[0m\u001b[0;32mNone\u001b[0m\u001b[0;34m,\u001b[0m\u001b[0;34m\u001b[0m\n",
       "\u001b[0;34m\u001b[0m    \u001b[0mori\u001b[0m\u001b[0;34m=\u001b[0m\u001b[0;32mNone\u001b[0m\u001b[0;34m,\u001b[0m\u001b[0;34m\u001b[0m\n",
       "\u001b[0;34m\u001b[0m    \u001b[0mrank\u001b[0m\u001b[0;34m=\u001b[0m\u001b[0;32mNone\u001b[0m\u001b[0;34m,\u001b[0m\u001b[0;34m\u001b[0m\n",
       "\u001b[0;34m\u001b[0m    \u001b[0maccuracy\u001b[0m\u001b[0;34m=\u001b[0m\u001b[0;34m'normal'\u001b[0m\u001b[0;34m,\u001b[0m\u001b[0;34m\u001b[0m\n",
       "\u001b[0;34m\u001b[0m    \u001b[0mtol\u001b[0m\u001b[0;34m=\u001b[0m\u001b[0;36m5e-05\u001b[0m\u001b[0;34m,\u001b[0m\u001b[0;34m\u001b[0m\n",
       "\u001b[0;34m\u001b[0m    \u001b[0mverbose\u001b[0m\u001b[0;34m=\u001b[0m\u001b[0;32mNone\u001b[0m\u001b[0;34m,\u001b[0m\u001b[0;34m\u001b[0m\n",
       "\u001b[0;34m\u001b[0m\u001b[0;34m)\u001b[0m\u001b[0;34m\u001b[0m\u001b[0;34m\u001b[0m\u001b[0m\n",
       "\u001b[0;31mDocstring:\u001b[0m\n",
       "Fit a dipole.\n",
       "\n",
       "Parameters\n",
       "----------\n",
       "evoked : instance of Evoked\n",
       "    The dataset to fit.\n",
       "cov : str | instance of Covariance\n",
       "    The noise covariance.\n",
       "bem : path-like | instance of ConductorModel\n",
       "    The BEM filename (str) or conductor model.\n",
       "trans : path-like | None\n",
       "    The head<->MRI transform filename. Must be provided unless BEM\n",
       "    is a sphere model.\n",
       "min_dist : float\n",
       "    Minimum distance (in millimeters) from the dipole to the inner skull.\n",
       "    Must be positive. Note that because this is a constraint passed to\n",
       "    a solver it is not strict but close, i.e. for a ``min_dist=5.`` the\n",
       "    fits could be 4.9 mm from the inner skull.\n",
       "n_jobs : int | None\n",
       "    The number of jobs to run in parallel. If ``-1``, it is set\n",
       "    to the number of CPU cores. Requires the :mod:`joblib` package.\n",
       "    ``None`` (default) is a marker for 'unset' that will be interpreted\n",
       "    as ``n_jobs=1`` (sequential execution) unless the call is performed under\n",
       "    a :class:`joblib:joblib.parallel_config` context manager that sets another\n",
       "    value for ``n_jobs``.\n",
       "    It is used in field computation and fitting.\n",
       "pos : ndarray, shape (3,) | None\n",
       "    Position of the dipole to use. If None (default), sequential\n",
       "    fitting (different position and orientation for each time instance)\n",
       "    is performed. If a position (in head coords) is given as an array,\n",
       "    the position is fixed during fitting.\n",
       "\n",
       "    .. versionadded:: 0.12\n",
       "ori : ndarray, shape (3,) | None\n",
       "    Orientation of the dipole to use. If None (default), the\n",
       "    orientation is free to change as a function of time. If an\n",
       "    orientation (in head coordinates) is given as an array, ``pos``\n",
       "    must also be provided, and the routine computes the amplitude and\n",
       "    goodness of fit of the dipole at the given position and orientation\n",
       "    for each time instant.\n",
       "\n",
       "    .. versionadded:: 0.12\n",
       "\n",
       "rank : None | 'info' | 'full' | dict\n",
       "    This controls the rank computation that can be read from the\n",
       "    measurement info or estimated from the data. When a noise covariance\n",
       "    is used for whitening, this should reflect the rank of that covariance,\n",
       "    otherwise amplification of noise components can occur in whitening (e.g.,\n",
       "    often during source localization).\n",
       "\n",
       "    :data:`python:None`\n",
       "        The rank will be estimated from the data after proper scaling of\n",
       "        different channel types.\n",
       "    ``'info'``\n",
       "        The rank is inferred from ``info``. If data have been processed\n",
       "        with Maxwell filtering, the Maxwell filtering header is used.\n",
       "        Otherwise, the channel counts themselves are used.\n",
       "        In both cases, the number of projectors is subtracted from\n",
       "        the (effective) number of channels in the data.\n",
       "        For example, if Maxwell filtering reduces the rank to 68, with\n",
       "        two projectors the returned value will be 66.\n",
       "    ``'full'``\n",
       "        The rank is assumed to be full, i.e. equal to the\n",
       "        number of good channels. If a `~mne.Covariance` is passed, this can\n",
       "        make sense if it has been (possibly improperly) regularized without\n",
       "        taking into account the true data rank.\n",
       "    :class:`dict`\n",
       "        Calculate the rank only for a subset of channel types, and explicitly\n",
       "        specify the rank for the remaining channel types. This can be\n",
       "        extremely useful if you already **know** the rank of (part of) your\n",
       "        data, for instance in case you have calculated it earlier.\n",
       "\n",
       "        This parameter must be a dictionary whose **keys** correspond to\n",
       "        channel types in the data (e.g. ``'meg'``, ``'mag'``, ``'grad'``,\n",
       "        ``'eeg'``), and whose **values** are integers representing the\n",
       "        respective ranks. For example, ``{'mag': 90, 'eeg': 45}`` will assume\n",
       "        a rank of ``90`` and ``45`` for magnetometer data and EEG data,\n",
       "        respectively.\n",
       "\n",
       "        The ranks for all channel types present in the data, but\n",
       "        **not** specified in the dictionary will be estimated empirically.\n",
       "        That is, if you passed a dataset containing magnetometer, gradiometer,\n",
       "        and EEG data together with the dictionary from the previous example,\n",
       "        only the gradiometer rank would be determined, while the specified\n",
       "        magnetometer and EEG ranks would be taken for granted.\n",
       "\n",
       "    The default is ``None``.\n",
       "\n",
       "    .. versionadded:: 0.20\n",
       "accuracy : str\n",
       "    Can be ``\"normal\"`` (default) or ``\"accurate\"``, which gives the most\n",
       "    accurate coil definition but is typically not necessary for real-world\n",
       "    data.\n",
       "\n",
       "    .. versionadded:: 0.24\n",
       "tol : float\n",
       "    Final accuracy of the optimization (see ``rhoend`` argument of\n",
       "    :func:`scipy.optimize.fmin_cobyla`).\n",
       "\n",
       "    .. versionadded:: 0.24\n",
       "\n",
       "verbose : bool | str | int | None\n",
       "    Control verbosity of the logging output. If ``None``, use the default\n",
       "    verbosity level. See the :ref:`logging documentation <tut-logging>` and\n",
       "    :func:`mne.verbose` for details. Should only be passed as a keyword\n",
       "    argument.\n",
       "\n",
       "Returns\n",
       "-------\n",
       "dip : instance of Dipole or DipoleFixed\n",
       "    The dipole fits. A :class:`mne.DipoleFixed` is returned if\n",
       "    ``pos`` and ``ori`` are both not None, otherwise a\n",
       "    :class:`mne.Dipole` is returned.\n",
       "residual : instance of Evoked\n",
       "    The M-EEG data channels with the fitted dipolar activity removed.\n",
       "\n",
       "See Also\n",
       "--------\n",
       "mne.beamformer.rap_music\n",
       "Dipole\n",
       "DipoleFixed\n",
       "read_dipole\n",
       "\n",
       "Notes\n",
       "-----\n",
       ".. versionadded:: 0.9.0\n",
       "\u001b[0;31mFile:\u001b[0m      ~/miniconda3/envs/MEG_workshop/lib/python3.11/site-packages/mne/dipole.py\n",
       "\u001b[0;31mType:\u001b[0m      function"
      ]
     },
     "metadata": {},
     "output_type": "display_data"
    }
   ],
   "source": [
    "mne.fit_dipole?"
   ]
  },
  {
   "cell_type": "code",
   "execution_count": null,
   "id": "e32de3c9-2559-49ab-a765-75310f3c8234",
   "metadata": {},
   "outputs": [],
   "source": [
    "dip.plot_locations(trans, 'sub-'+subject, fs_subjects_dir, mode=\"orthoview\")"
   ]
  },
  {
   "cell_type": "code",
   "execution_count": null,
   "id": "dff034ca-de3f-4750-a5c9-283af24864d1",
   "metadata": {},
   "outputs": [],
   "source": [
    "mne.fit"
   ]
  }
 ],
 "metadata": {
  "kernelspec": {
   "display_name": "Python 3 (ipykernel)",
   "language": "python",
   "name": "python3"
  },
  "language_info": {
   "codemirror_mode": {
    "name": "ipython",
    "version": 3
   },
   "file_extension": ".py",
   "mimetype": "text/x-python",
   "name": "python",
   "nbconvert_exporter": "python",
   "pygments_lexer": "ipython3",
   "version": "3.11.5"
  }
 },
 "nbformat": 4,
 "nbformat_minor": 5
}
