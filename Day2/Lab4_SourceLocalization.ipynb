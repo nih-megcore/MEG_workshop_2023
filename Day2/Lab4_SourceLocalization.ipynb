{
 "cells": [
  {
   "cell_type": "code",
   "execution_count": null,
   "id": "648260e2-481b-456f-a9fb-154cf659dd84",
   "metadata": {},
   "outputs": [],
   "source": [
    "import mne\n",
    "import mne_bids\n",
    "from mne_bids import BIDSPath\n",
    "import os, os.path as op\n",
    "import nilearn\n",
    "import matplotlib.pyplot as plt\n",
    "import numpy as np\n",
    "from mne.minimum_norm import apply_inverse, make_inverse_operator\n",
    "\n",
    "from nilearn import *\n",
    "\n",
    "from nih2mne.utilities.bids_helpers import get_mri_dict\n",
    "n_jobs = 10 #Number of parrallel operations\n",
    "\n",
    "from mne.viz._brain.view import views_dicts\n",
    "from mne.viz import set_3d_view\n",
    "from PIL import Image\n",
    "def get_image_npy(fig_):\n",
    "    _=fig_.canvas.draw()\n",
    "    rgb = fig_.canvas.tostring_rgb()\n",
    "    width, height = fig_.canvas.get_width_height()\n",
    "    img = Image.frombytes('RGB', (width, height), rgb)\n",
    "    return np.array(img)"
   ]
  },
  {
   "cell_type": "markdown",
   "id": "bb3d7a0f-2e33-4b96-8e6d-7747feed38e0",
   "metadata": {},
   "source": [
    "## Set some generic BIDS information"
   ]
  },
  {
   "cell_type": "code",
   "execution_count": null,
   "id": "c25e944f-1fed-4463-804d-dd9a9cfbc4de",
   "metadata": {},
   "outputs": [],
   "source": [
    "#Raw data\n",
    "bids_root = op.join('/data/', os.environ['USER'], 'meg_workshop_data')  \n",
    "#Processed Data Folder: contains (freesurfer / Day1 / Day2) \n",
    "deriv_root = op.join(bids_root, 'derivatives')  \n",
    "#This course data - bids derivatives outputs for Day2 - hey thats today\n",
    "project_root = op.join(deriv_root, 'Day2')  \n",
    "#Freesurfer brain surface reconstruction\n",
    "fs_subjects_dir = subjects_dir = op.join(deriv_root, 'freesurfer','subjects')"
   ]
  },
  {
   "cell_type": "markdown",
   "id": "31f04da6-1e18-4e34-9d4e-876e50352615",
   "metadata": {},
   "source": [
    "### Find data for a subject"
   ]
  },
  {
   "cell_type": "code",
   "execution_count": null,
   "id": "2f170dc9-14b0-49e4-8189-740d25f9795e",
   "metadata": {},
   "outputs": [],
   "source": [
    "subject = 'ON02811'\n",
    "data_dict = get_mri_dict(subject,bids_root, task='airpuff', project='Day2')\n",
    "\n",
    "# get_mri_dict is a helper function that provides all of the loaders for the mri integration\n",
    "# Each dictionary item codes for the specific loader of that file - see use in next cell of code\n",
    "data_dict"
   ]
  },
  {
   "cell_type": "markdown",
   "id": "0bfcd0a8-0e79-4eac-b85a-920e95ee0093",
   "metadata": {},
   "source": [
    "#### Load the preprocessed data - Items from Lab3 MRI Processing"
   ]
  },
  {
   "cell_type": "code",
   "execution_count": null,
   "id": "d8c8777e-ec84-4775-b335-ac0e76acace9",
   "metadata": {
    "scrolled": true
   },
   "outputs": [],
   "source": [
    "bem = data_dict['bem'].load()\n",
    "fwd = data_dict['fwd'].load()\n",
    "src = fwd['src']\n",
    "trans = data_dict['trans'].load()"
   ]
  },
  {
   "cell_type": "code",
   "execution_count": null,
   "id": "8dcc6eba-482d-48df-8855-6cd7048b8d78",
   "metadata": {},
   "outputs": [],
   "source": [
    "#Load the Raw data\n",
    "bids_path = BIDSPath(root=bids_root, subject=subject, task='airpuff', run='01',session='01')\n",
    "raw = mne.io.read_raw_ctf(bids_path.fpath, clean_names=True, preload=True, verbose=False)\n",
    "raw.filter(0.3, 110, n_jobs=n_jobs)"
   ]
  },
  {
   "cell_type": "markdown",
   "id": "ed988a1d-e4aa-4ca5-8cdf-76098f10a5ff",
   "metadata": {},
   "source": [
    "### Prepare Imaging for Source Localization"
   ]
  },
  {
   "cell_type": "code",
   "execution_count": null,
   "id": "ca8262a9-b558-4c1f-8dcc-1e58de1a13b2",
   "metadata": {},
   "outputs": [],
   "source": [
    "evts, evtsid = mne.events_from_annotations(raw)"
   ]
  },
  {
   "cell_type": "code",
   "execution_count": null,
   "id": "ebf8e216-2a76-49c3-a22a-d3bc016323b4",
   "metadata": {},
   "outputs": [],
   "source": [
    "epochs = mne.Epochs(raw, evts, evtsid, tmin=-0.1, tmax=0.2, preload=True)"
   ]
  },
  {
   "cell_type": "code",
   "execution_count": null,
   "id": "95cc7555-4319-4c86-828b-7d06706e4bc5",
   "metadata": {},
   "outputs": [],
   "source": [
    "evk_stim = epochs['stim'].average()\n",
    "evk_mssingstim = epochs['missingstim'].average()"
   ]
  },
  {
   "cell_type": "code",
   "execution_count": null,
   "id": "df6f6055-b43b-4a15-bec1-7f30b1b24e21",
   "metadata": {
    "scrolled": true
   },
   "outputs": [],
   "source": [
    "%matplotlib inline\n",
    "_=evk_stim.plot()"
   ]
  },
  {
   "cell_type": "code",
   "execution_count": null,
   "id": "ee94f697-8f87-4495-9612-a811a399d55b",
   "metadata": {
    "scrolled": true
   },
   "outputs": [],
   "source": [
    "cov = mne.compute_covariance(epochs['stim'], tmin=0, tmax = 0.1, method='shrunk', cv=5, n_jobs=n_jobs)"
   ]
  },
  {
   "cell_type": "code",
   "execution_count": null,
   "id": "cf51d4a1-8cfd-4ab4-9ba9-21a41bb771d0",
   "metadata": {},
   "outputs": [],
   "source": [
    "evk_stim.crop(0.0,0.06)"
   ]
  },
  {
   "cell_type": "code",
   "execution_count": null,
   "id": "2a6ae51e-2cef-4d47-8271-04c1e7fabefb",
   "metadata": {},
   "outputs": [],
   "source": [
    "%matplotlib inline\n",
    "_= evk_stim.plot_topomap(times=np.arange(0, 0.05, 0.005))"
   ]
  },
  {
   "cell_type": "code",
   "execution_count": null,
   "id": "d9381ff4-e5be-46c8-943d-62c65334cc8e",
   "metadata": {
    "scrolled": true
   },
   "outputs": [],
   "source": [
    "dip = mne.fit_dipole(evk_stim, cov, bem, trans=trans, n_jobs = n_jobs, rank='full')"
   ]
  },
  {
   "cell_type": "code",
   "execution_count": null,
   "id": "e32de3c9-2559-49ab-a765-75310f3c8234",
   "metadata": {},
   "outputs": [],
   "source": [
    "_ = dip[0].plot_locations(trans, 'sub-'+subject, fs_subjects_dir, mode=\"orthoview\")"
   ]
  },
  {
   "cell_type": "markdown",
   "id": "a5a9f7fd-5f78-4015-b505-7bf1b6760283",
   "metadata": {},
   "source": [
    "## If we filter by goodness of fit, we see there is less dispersion of the dipoles"
   ]
  },
  {
   "cell_type": "code",
   "execution_count": null,
   "id": "999ba38d-783f-4fef-a021-70ff781e584f",
   "metadata": {},
   "outputs": [],
   "source": [
    "_=dip[0][dip[0].gof>20].plot_locations(trans, 'sub-'+subject, fs_subjects_dir, mode=\"orthoview\", color='g')"
   ]
  },
  {
   "cell_type": "markdown",
   "id": "7b256cea-cd67-4d37-be04-6a044e5767ce",
   "metadata": {},
   "source": [
    "### What if we take the dipole with the best goodness of fit and use that as a fixed dipole"
   ]
  },
  {
   "cell_type": "code",
   "execution_count": null,
   "id": "7d3806df-4256-4791-b0b1-bfbfd271e876",
   "metadata": {
    "scrolled": true
   },
   "outputs": [],
   "source": [
    "#From https://mne.tools/stable/auto_tutorials/inverse/20_dipole_fit.html#sphx-glr-auto-tutorials-inverse-20-dipole-fit-py\n",
    "best_idx = np.argmax(dip[0].gof)\n",
    "best_time = dip[0].times[best_idx]\n",
    "dip_fixed = mne.fit_dipole(\n",
    "    evk_stim,\n",
    "    cov,\n",
    "    bem,\n",
    "    trans,\n",
    "    pos=dip[0].pos[best_idx],\n",
    "    ori=dip[0].ori[best_idx],\n",
    ")[0]"
   ]
  },
  {
   "cell_type": "markdown",
   "id": "90d77467-97f8-4c8f-8dc8-4345a46f69ae",
   "metadata": {},
   "source": [
    "### Notice the difference between free and fixed dipoles.  Free Dipoles will never be negative because they will rotate to point in the direction of the estimated current.  The fixed dipole also has cleaner parameters - due to the \"best\" estimated location and orientaiton over the whole timeseries"
   ]
  },
  {
   "cell_type": "code",
   "execution_count": null,
   "id": "6171ebd5-f226-42b0-b326-9ce7673735f9",
   "metadata": {},
   "outputs": [],
   "source": [
    "fig, axes = plt.subplots(2,2)\n",
    "times=dip[0].times\n",
    "axes[0,0].plot(times, dip[0].amplitude, 'g')\n",
    "axes[0,0].set_ylabel('Amplitude')\n",
    "axes[0,0].set_title('Moving Dipole')\n",
    "axes[1,0].plot(times, dip[0].gof, 'g')\n",
    "axes[1,0].set_ylabel('GOF')\n",
    "axes[0,1].plot(times, dip_fixed.data[0,:])\n",
    "axes[0,1].set_title('Fixed Dipole')\n",
    "axes[1,1].plot(times, dip_fixed.data[1,:])\n",
    "fig.tight_layout()"
   ]
  },
  {
   "cell_type": "markdown",
   "id": "8111da2b-a8dd-417d-ba93-3ece5bd2fcdf",
   "metadata": {},
   "source": [
    "# MNE solution"
   ]
  },
  {
   "cell_type": "markdown",
   "id": "407746b0-e603-4573-9518-dfda598b8596",
   "metadata": {},
   "source": [
    "## MNE solution is in current/Amps"
   ]
  },
  {
   "cell_type": "code",
   "execution_count": null,
   "id": "623eeeee-b089-4e01-a866-bbb6992c38e4",
   "metadata": {
    "scrolled": true
   },
   "outputs": [],
   "source": [
    "inv = make_inverse_operator(evk_stim.info, fwd, cov, loose=0.0, depth=0.8, verbose=True)\n",
    "snr = 3.0\n",
    "lambda2 = 1.0 / snr**2\n",
    "stc = abs(apply_inverse(evk_stim, inv, lambda2, \"MNE\", verbose=True))"
   ]
  },
  {
   "cell_type": "markdown",
   "id": "530de081-53cd-49a9-8b68-8e5e2dc89edc",
   "metadata": {},
   "source": [
    "### This is normally an interactive window - but because of biowulf, we are casting this to an image to plot"
   ]
  },
  {
   "cell_type": "code",
   "execution_count": null,
   "id": "e48de6f7-c5a8-4654-8f73-620d2b8e953f",
   "metadata": {},
   "outputs": [],
   "source": [
    "maxval=stc._data.max()\n",
    "kwargs = dict(\n",
    "    initial_time=0.04,\n",
    "    hemi=\"lh\",\n",
    "    subjects_dir=subjects_dir,\n",
    "    size=(600, 600),\n",
    "    clim=dict(kind=\"values\", lims=[.5*maxval, .7*maxval, .9*maxval]),\n",
    "    smoothing_steps=7,\n",
    "    surface='white'\n",
    ")\n",
    "brain = stc.plot(**kwargs) \n",
    "brain.add_text(0.1, 0.9, \"MNE\", \"title\", font_size=14)"
   ]
  },
  {
   "cell_type": "code",
   "execution_count": null,
   "id": "64c4b97c-f278-4589-b446-eba19c7b04d9",
   "metadata": {},
   "outputs": [],
   "source": [
    "%matplotlib inline\n",
    "set_3d_view(brain,**views_dicts['lh']['parietal'])\n",
    "mne_img_parietal=brain.plotter.screenshot()\n",
    "set_3d_view(brain,**views_dicts['lh']['lateral'])\n",
    "mne_img_lateral=brain.plotter.screenshot()\n",
    "# brain.plotter.close()\n",
    "plt.subplot(1,2,1)\n",
    "plt.imshow(mne_img_parietal)\n",
    "plt.subplot(1,2,2)\n",
    "plt.imshow(mne_img_lateral)\n",
    "plt.show()"
   ]
  },
  {
   "cell_type": "markdown",
   "id": "44a481b2-d6bd-4cee-954d-b3824117e010",
   "metadata": {},
   "source": [
    "## dSPM solution is divided by projected noise -- This is a statistic"
   ]
  },
  {
   "cell_type": "code",
   "execution_count": null,
   "id": "7cf64e0f-725a-43a3-8e92-33f1d39da1da",
   "metadata": {
    "scrolled": true
   },
   "outputs": [],
   "source": [
    "inv = make_inverse_operator(evk_stim.info, fwd, cov, loose=0.0, depth=0.8, verbose=True)\n",
    "snr = 3.0\n",
    "lambda2 = 1.0 / snr**2\n",
    "dspm_stc = abs(apply_inverse(evk_stim, inv, lambda2, \"dSPM\", verbose=True))"
   ]
  },
  {
   "cell_type": "code",
   "execution_count": null,
   "id": "478ff5f8-e275-4ad1-b311-3a8a14b5c619",
   "metadata": {
    "scrolled": true
   },
   "outputs": [],
   "source": [
    "maxval=dspm_stc._data.max()\n",
    "kwargs = dict(\n",
    "    initial_time=0.04,\n",
    "    hemi=\"lh\",\n",
    "    subjects_dir=subjects_dir,\n",
    "    size=(600, 600),\n",
    "    clim=dict(kind=\"values\", lims=[.5*maxval, .7*maxval, .9*maxval]),\n",
    "    smoothing_steps=7,\n",
    "    surface='white', \n",
    ")\n",
    "brain = dspm_stc.plot(figure=1, **kwargs)\n",
    "brain.add_text(0.1, 0.9, \"dSPM\", \"title\", font_size=14)"
   ]
  },
  {
   "cell_type": "code",
   "execution_count": null,
   "id": "07de052c-30a9-4607-84fe-52f9f6b581a8",
   "metadata": {
    "scrolled": true
   },
   "outputs": [],
   "source": [
    "%matplotlib inline\n",
    "set_3d_view(brain,**views_dicts['lh']['parietal'])\n",
    "dspm_img_parietal=brain.plotter.screenshot()\n",
    "set_3d_view(brain,**views_dicts['lh']['lateral'])\n",
    "dspm_img_lateral=brain.plotter.screenshot()\n",
    "# brain.plotter.close()\n",
    "plt.subplot(1,2,1)\n",
    "plt.imshow(dspm_img_parietal)\n",
    "plt.subplot(1,2,2)\n",
    "plt.imshow(dspm_img_lateral)\n",
    "plt.show()"
   ]
  },
  {
   "cell_type": "markdown",
   "id": "3b78564c-c7f7-4f5e-89e3-f758c9940c50",
   "metadata": {},
   "source": [
    "### Comparison between MNE and dSPM"
   ]
  },
  {
   "cell_type": "code",
   "execution_count": null,
   "id": "41b4f83a-470a-401a-aca2-778ef3d0b9f1",
   "metadata": {},
   "outputs": [],
   "source": [
    "plt.subplot(1,2,1)\n",
    "plt.imshow(mne_img_parietal)\n",
    "plt.subplot(1,2,2)\n",
    "plt.imshow(dspm_img_parietal)\n",
    "plt.suptitle('MNE (left) and dSPM (right) - both at 50/70/90 thresholds of their global time-series max value')\n",
    "plt.tight_layout()"
   ]
  }
 ],
 "metadata": {
  "kernelspec": {
   "display_name": "Python 3 (ipykernel)",
   "language": "python",
   "name": "python3"
  },
  "language_info": {
   "codemirror_mode": {
    "name": "ipython",
    "version": 3
   },
   "file_extension": ".py",
   "mimetype": "text/x-python",
   "name": "python",
   "nbconvert_exporter": "python",
   "pygments_lexer": "ipython3",
   "version": "3.11.5"
  }
 },
 "nbformat": 4,
 "nbformat_minor": 5
}
