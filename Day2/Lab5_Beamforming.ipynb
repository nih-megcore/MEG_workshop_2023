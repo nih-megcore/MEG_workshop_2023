{
 "cells": [
  {
   "cell_type": "code",
   "execution_count": 1,
   "id": "6668e9f1",
   "metadata": {
    "tags": []
   },
   "outputs": [],
   "source": [
    "import mne\n",
    "import mne_bids\n",
    "from mne_bids import BIDSPath\n",
    "import os, os.path as op\n",
    "import nilearn\n",
    "import matplotlib.pyplot as plt\n",
    "import numpy as np\n",
    "import nih2mne\n",
    "\n",
    "#from nilearn import *\n",
    "from nih2mne.utilities.bids_helpers import get_mri_dict\n",
    "n_jobs = 10 #Number of parrallel operations"
   ]
  },
  {
   "cell_type": "code",
   "execution_count": null,
   "id": "1ed228b1",
   "metadata": {},
   "outputs": [],
   "source": [
    "# first let's set up directories\n",
    "\n",
    "#bids_root = '/Users/nugenta/meg_workshop_data'\n",
    "bids_root = op.join('/data',os.environ['USER'], 'meg_workshop_data') \n",
    "deriv_root = op.join(bids_root, 'derivatives')\n",
    "project_root = op.join(deriv_root, 'Day1')\n",
    "output_dir = op.join(deriv_root,'Day2')\n",
    "fs_subjects_dir = op.join(deriv_root,'freesurfer','subjects')"
   ]
  },
  {
   "cell_type": "code",
   "execution_count": null,
   "id": "4b77d80a",
   "metadata": {},
   "outputs": [],
   "source": [
    "# pick a subject - same one from time frequency\n",
    "\n",
    "subject = 'ON03748'\n",
    "fs_subject = 'sub-' + subject\n",
    "data_dict = nih2mne.utilities.bids_helpers.get_mri_dict(subject,bids_root, task='airpuff')"
   ]
  },
  {
   "cell_type": "code",
   "execution_count": null,
   "id": "9deefd3e",
   "metadata": {},
   "outputs": [],
   "source": [
    "# load in all the MRI stuff\n",
    "\n",
    "bem = data_dict['bem'].load()\n",
    "fwd = data_dict['fwd'].load()\n",
    "src = fwd['src']\n",
    "trans = data_dict['trans'].load()"
   ]
  },
  {
   "cell_type": "code",
   "execution_count": null,
   "id": "dd930512",
   "metadata": {},
   "outputs": [],
   "source": [
    "#Load the Raw data\n",
    "bids_path = BIDSPath(root=bids_root, subject=subject, task='airpuff', run='01',session='01')\n",
    "raw = mne.io.read_raw_ctf(bids_path.fpath, clean_names=True, preload=True, verbose=False)\n",
    "# put a bandpass on the raw, and a notch\n",
    "raw.filter(0.3, 50, n_jobs=n_jobs)\n",
    "raw.notch_filter(freqs=[60])\n",
    "# also make some filtered data in individual bands for later\n",
    "theta=raw.copy().filter(4,8)\n",
    "alpha=raw.copy().filter(8,12)\n",
    "gamma=raw.copy().filter(30,50)"
   ]
  },
  {
   "cell_type": "code",
   "execution_count": null,
   "id": "414d99f4",
   "metadata": {},
   "outputs": [],
   "source": [
    "# We also want to load in the empty room dataset so we can calculate a noise covariance \n",
    "bids_path = BIDSPath(root=bids_root, subject=subject, task='noise', run='01',session='01')\n",
    "noise = mne.io.read_raw_ctf(bids_path.fpath, clean_names=True, preload=True, verbose=False)\n",
    "nosie_alpha = noise.copy().filter(8,12)"
   ]
  },
  {
   "cell_type": "code",
   "execution_count": null,
   "id": "a4ab6e91",
   "metadata": {},
   "outputs": [],
   "source": [
    "# Now lets extract the events, make epochs\n",
    "evts, evtsid = mne.events_from_annotations(raw)\n",
    "epochs = mne.Epochs(raw, evts, evtsid, tmin=-0.1, tmax=0.2, preload=True)\n",
    "\n",
    "# make the filtered epochs as well\n",
    "epochs_alpha = mne.Epochs(alpha, evts, evtsid, tmin=-0.1, tmax=0.2, preload=True)\n",
    "epochs_theta = mne.Epochs(theta, evts, evtsid, tmin=-0.1, tmax=0.2, preload=True)\n",
    "epochs_gamma = mne.Epochs(gamma, evts, evtsid, tmin=-0.1, tmax=0.2, preload=True)\n",
    "\n",
    "# let's also average the epochs to visualize the evoked responses\n",
    "evk_stim = epochs['stim'].average()\n",
    "evk_missingstim = epochs['missingstim'].average()"
   ]
  },
  {
   "cell_type": "code",
   "execution_count": null,
   "id": "9d2dde8c",
   "metadata": {},
   "outputs": [],
   "source": [
    "%matplotlib inline\n",
    "_=evk_stim.plot()\n",
    "_=evk_missingstim.plot()"
   ]
  },
  {
   "cell_type": "code",
   "execution_count": null,
   "id": "4a165d41",
   "metadata": {},
   "outputs": [],
   "source": [
    "cov_all = mne.compute_covariance(epochs, tmin=-0.1, tmax = 0.2, n_jobs=n_jobs)"
   ]
  },
  {
   "cell_type": "code",
   "execution_count": null,
   "id": "5bc72291-83a0-41a0-a20c-0e87af39a956",
   "metadata": {},
   "outputs": [],
   "source": [
    "# Sanity check the covariance\n",
    "c = cov_all.data\n",
    "cinv = np.linalg.inv(c)\n",
    "print(np.trace(cinv)/c.shape[0])\n",
    "\n",
    "# Plot eigenvalue spectrum -- have to sort them first\n",
    "w, v = np.linalg.eig(c)\n",
    "w = list(w)\n",
    "w.sort(key = lambda x: -x)\n",
    "\n",
    "plt.plot(np.log(w))"
   ]
  },
  {
   "cell_type": "code",
   "execution_count": null,
   "id": "ccfc970c",
   "metadata": {},
   "outputs": [],
   "source": [
    "noise_cov = mne.make_ad_hoc_cov(raw.info)"
   ]
  },
  {
   "cell_type": "code",
   "execution_count": null,
   "id": "503396fd",
   "metadata": {},
   "outputs": [],
   "source": [
    "# Let's say we want to project the evoked response into source space\n",
    "# notice here that I'm using the covariance from ALL the marks, not just the stimuli\n",
    "filters = mne.beamformer.make_lcmv(evk_stim.info, fwd, cov_all, reg=0.05, pick_ori='max-power',\n",
    "                                   noise_cov = noise_cov, weight_norm='unit-noise-gain')"
   ]
  },
  {
   "cell_type": "code",
   "execution_count": null,
   "id": "0b682e4e",
   "metadata": {},
   "outputs": [],
   "source": [
    "stc=mne.beamformer.apply_lcmv(evk_stim, filters)"
   ]
  },
  {
   "cell_type": "code",
   "execution_count": null,
   "id": "ce00f7fb",
   "metadata": {},
   "outputs": [],
   "source": [
    "brain=stc.plot(hemi='both', subjects_dir=fs_subjects_dir, subject=fs_subject)"
   ]
  },
  {
   "cell_type": "code",
   "execution_count": null,
   "id": "c3205d99",
   "metadata": {},
   "outputs": [],
   "source": [
    "# You probably noticed the dreaded Beamformer Sign Ambiguity "
   ]
  },
  {
   "cell_type": "code",
   "execution_count": null,
   "id": "71708586",
   "metadata": {},
   "outputs": [],
   "source": [
    "# what happens if we use the normals from the freesurfer cortical surface? \n",
    "fwd_src_ori = mne.convert_forward_solution(fwd, surf_ori=True)\n",
    "filters_src_ori = mne.beamformer.make_lcmv(evk_stim.info, fwd_src_ori, cov_all, reg=0.05, pick_ori='normal',\n",
    "                                   noise_cov = noise_cov, weight_norm='unit-noise-gain')\n",
    "stc_src_ori=mne.beamformer.apply_lcmv(evk_stim, filters)"
   ]
  },
  {
   "cell_type": "code",
   "execution_count": null,
   "id": "34a5ee34",
   "metadata": {},
   "outputs": [],
   "source": [
    "brain=stc_src_ori.plot(hemi='both', subjects_dir=fs_subjects_dir, subject=fs_subject)"
   ]
  },
  {
   "cell_type": "code",
   "execution_count": null,
   "id": "41205ed3",
   "metadata": {},
   "outputs": [],
   "source": [
    "# You might *think* that looks worse, but now, the sign of the output is following the surface. \n",
    "# In opposing sulci, the surface normals are oriented opposite eachother. "
   ]
  },
  {
   "cell_type": "code",
   "execution_count": null,
   "id": "583a71c2",
   "metadata": {},
   "outputs": [],
   "source": [
    "# Frequently what we do is to invoke a sign \"flip\""
   ]
  },
  {
   "cell_type": "code",
   "execution_count": null,
   "id": "f3517e58",
   "metadata": {},
   "outputs": [],
   "source": [
    "# I've figured out that index 166 corresponds to roughly the peak of the evoked response.\n",
    "# There are 8196 vertices\n",
    "for i in range(8196):\n",
    "    if stc.data[i,166] < 0:\n",
    "        stc.data[i,:] *= -1\n",
    "# You need to remember here, however, that you are also flipping vertices that aren't particularly active\n",
    "# so you'll also be ensuring that all the noise in that time point is positive."
   ]
  },
  {
   "cell_type": "code",
   "execution_count": null,
   "id": "3dc4d2f8",
   "metadata": {},
   "outputs": [],
   "source": [
    "brain=stc.plot(hemi='both', subjects_dir=fs_subjects_dir, subject=fs_subject)"
   ]
  },
  {
   "cell_type": "code",
   "execution_count": null,
   "id": "7f8974c4",
   "metadata": {},
   "outputs": [],
   "source": [
    "# We can make the time course for the missing stim as well\n",
    "stc_missing=mne.beamformer.apply_lcmv(evk_missingstim, filters)"
   ]
  },
  {
   "cell_type": "code",
   "execution_count": null,
   "id": "ba4bea3b",
   "metadata": {},
   "outputs": [],
   "source": [
    "# plot it \n",
    "brain=stc_missing.plot(hemi='both', subjects_dir=fs_subjects_dir, subject=fs_subject)"
   ]
  },
  {
   "cell_type": "code",
   "execution_count": null,
   "id": "492d7b0a",
   "metadata": {},
   "outputs": [],
   "source": [
    "# interesting, there does seem to be something out around 150ms, doesn't there.... but again the flip thing..."
   ]
  },
  {
   "cell_type": "code",
   "execution_count": null,
   "id": "7bd1ac1d",
   "metadata": {},
   "outputs": [],
   "source": [
    "# Remember our time frequency plots for this person - wasn't there something in alpha around that time? \n",
    "# Maybe we should look at alpha power"
   ]
  },
  {
   "cell_type": "code",
   "execution_count": null,
   "id": "940a1a0f",
   "metadata": {
    "scrolled": true
   },
   "outputs": [],
   "source": [
    "# We'll make covariance matrices for all the events, then stim and missingstim\n",
    "cov_all_alpha = mne.compute_covariance(epochs_alpha, tmin=0.1, tmax = 0.2, n_jobs=n_jobs)\n",
    "cov_stim_alpha = mne.compute_covariance(epochs_alpha['stim'], tmin=.1, tmax = 0.2, n_jobs=n_jobs)\n",
    "cov_missingstim_alpha = mne.compute_covariance(epochs_alpha['missingstim'], tmin=0.1, tmax = 0.2, n_jobs=n_jobs)"
   ]
  },
  {
   "cell_type": "code",
   "execution_count": null,
   "id": "3913515b",
   "metadata": {},
   "outputs": [],
   "source": [
    "# calculate the beamformer using all the events\n",
    "filters_alpha = mne.beamformer.make_lcmv(epochs_alpha.info, fwd, cov_all_alpha, reg=0.05, pick_ori='max-power',\n",
    "                                   noise_cov = noise_cov, weight_norm='unit-noise-gain')"
   ]
  },
  {
   "cell_type": "code",
   "execution_count": null,
   "id": "d939e007",
   "metadata": {},
   "outputs": [],
   "source": [
    "# Now get the source estimates for stim and missingstim\n",
    "stc_stim_alpha = mne.beamformer.apply_lcmv_cov(cov_stim_alpha, filters_alpha)\n",
    "stc_missing_alpha = mne.beamformer.apply_lcmv_cov(cov_missingstim_alpha, filters_alpha)"
   ]
  },
  {
   "cell_type": "code",
   "execution_count": null,
   "id": "71210dfb",
   "metadata": {},
   "outputs": [],
   "source": [
    "# We can look at the ratio here, or the log10 ratio if you like\n",
    "stc_contrast=stc_stim_alpha.copy()\n",
    "stc_contrast.data=np.log10(stc_stim_alpha.data/stc_missing_alpha.data)"
   ]
  },
  {
   "cell_type": "code",
   "execution_count": null,
   "id": "bb06a8d3",
   "metadata": {},
   "outputs": [],
   "source": [
    "brain=stc_contrast.plot(hemi='both', subjects_dir=fs_subjects_dir, subject=fs_subject)"
   ]
  },
  {
   "cell_type": "code",
   "execution_count": null,
   "id": "77a3b2dd",
   "metadata": {},
   "outputs": [],
   "source": [
    "brain=stc_stim_alpha.plot(hemi='both', subjects_dir=fs_subjects_dir, subject=fs_subject)"
   ]
  },
  {
   "cell_type": "code",
   "execution_count": null,
   "id": "5e1bca51",
   "metadata": {},
   "outputs": [],
   "source": [
    "brain=stcs_missing_stim[1].plot(hemi='both', subjects_dir=fs_subjects_dir, subject=fs_subject)"
   ]
  },
  {
   "cell_type": "code",
   "execution_count": null,
   "id": "5a981104",
   "metadata": {},
   "outputs": [],
   "source": [
    "# Okay, now lets loop over all the subjects!!\n",
    "subjects=['ON02811','ON03748','ON22671','ON42107','ON52662','ON61373','ON62003','ON70467','ON72082',\n",
    "         'ON84896','ON85305','ON89474','ON89475']\n",
    "fs_subject = 'sub-' + subject\n",
    "data_dict = nih2mne.utilities.bids_helpers.get_mri_dict(subject,bids_root, task='airpuff')\n",
    "fs_subjects=[]\n",
    "for subject in subjects:\n",
    "    fs_subjects.append('sub-' + subject)"
   ]
  },
  {
   "cell_type": "code",
   "execution_count": null,
   "id": "77477854",
   "metadata": {
    "scrolled": true
   },
   "outputs": [],
   "source": [
    "# declare a few empty lists to hold the source estimates\n",
    "\n",
    "stcs_stim=[]\n",
    "stcs_missing_stim=[]\n",
    "stcs_contrast=[]\n",
    "\n",
    "for subject in subjects:\n",
    "    # filenames and load MRI files\n",
    "    fs_subject = 'sub-' + subject\n",
    "    data_dict = nih2mne.utilities.bids_helpers.get_mri_dict(subject,bids_root, task='airpuff')\n",
    "    bem = data_dict['bem'].load()\n",
    "    fwd = data_dict['fwd'].load()\n",
    "    src = fwd['src']\n",
    "    trans = data_dict['trans'].load()\n",
    "    #Load the Raw data\n",
    "    bids_path = BIDSPath(root=bids_root, subject=subject, task='airpuff', run='01',session='01')\n",
    "    raw = mne.io.read_raw_ctf(bids_path.fpath, clean_names=True, preload=True, verbose=False)\n",
    "    # filter for alpha        \n",
    "    alpha=raw.copy().filter(8,12)\n",
    "    evts, evtsid = mne.events_from_annotations(raw)\n",
    "    epochs_alpha = mne.Epochs(alpha, evts, evtsid, tmin=-0.1, tmax=0.2, preload=True)\n",
    "    cov_all_alpha = mne.compute_covariance(epochs_alpha, tmin=0.1, tmax = 0.2, n_jobs=n_jobs)\n",
    "    cov_stim_alpha = mne.compute_covariance(epochs_alpha['stim'], tmin=.1, tmax = 0.2, n_jobs=n_jobs)\n",
    "    cov_missingstim_alpha = mne.compute_covariance(epochs_alpha['missingstim'], tmin=0.1, tmax = 0.2, n_jobs=n_jobs)\n",
    "    filters_alpha = mne.beamformer.make_lcmv(epochs_alpha.info, fwd, cov_all_alpha, reg=0.05, pick_ori='max-power',\n",
    "                                   noise_cov = noise_cov, weight_norm='unit-noise-gain')\n",
    "    stc_stim_alpha = mne.beamformer.apply_lcmv_cov(cov_stim_alpha, filters_alpha)\n",
    "    stc_missing_alpha = mne.beamformer.apply_lcmv_cov(cov_missingstim_alpha, filters_alpha)\n",
    "    stc_contrast=stc_stim_alpha.copy()\n",
    "    stc_contrast.data=stc_stim_alpha.data/stc_missing_alpha.data\n",
    "    stcs_stim.append(stc_stim_alpha)\n",
    "    stcs_missing_stim.append(stc_missing_alpha)\n",
    "    stcs_contrast.append(stc_contrast)"
   ]
  },
  {
   "cell_type": "code",
   "execution_count": null,
   "id": "b107853b",
   "metadata": {},
   "outputs": [],
   "source": [
    "# you can look at any one of these\n",
    "subjectsnum=1\n",
    "brain=stcs_contrast[subjectsnum].plot(hemi='both', subjects_dir=fs_subjects_dir, \n",
    "                                      subject=fs_subjects[subjectsnum])"
   ]
  },
  {
   "cell_type": "code",
   "execution_count": null,
   "id": "ac83afb8",
   "metadata": {},
   "outputs": [],
   "source": [
    "# we are going to want to morph these all to standard space - in this case fsaverage\n",
    "fname_fsaverage_src = op.join(fs_subjects_dir,'fsaverage','bem','fsaverage-ico-5-src.fif')\n",
    "src_to = mne.read_source_spaces(fname_fsaverage_src)"
   ]
  },
  {
   "cell_type": "code",
   "execution_count": null,
   "id": "1296f692",
   "metadata": {
    "scrolled": true
   },
   "outputs": [],
   "source": [
    "# make a new list to hold our morphed source estimates\n",
    "stcs_contrast_morphed = []\n",
    "for i in range(len(subjects)):\n",
    "    # compute the morph for a given subject\n",
    "    morph = mne.compute_source_morph(stcs_contrast[i], subject_from=fs_subjects[i], subject_to='fsaverage',\n",
    "                                src_to=src_to, subjects_dir=fs_subjects_dir)\n",
    "    # apply the morph\n",
    "    stcs_contrast_morphed.append(morph.apply(stcs_contrast[i]))"
   ]
  },
  {
   "cell_type": "code",
   "execution_count": null,
   "id": "22ac64d8",
   "metadata": {},
   "outputs": [],
   "source": [
    "# just for visualization, lets make an average source estimate\n",
    "src_avg_data = np.zeros(np.shape(stcs_contrast_morphed[0].data))\n",
    "for i in range(len(subjects)):\n",
    "    src_avg_data += stcs_contrast_morphed[i].data\n",
    "src_avg=stcs_contrast_morphed[0].copy()\n",
    "src_avg.data=(src_avg_data/len(subjects))"
   ]
  },
  {
   "cell_type": "code",
   "execution_count": null,
   "id": "0665cd59",
   "metadata": {},
   "outputs": [],
   "source": [
    "# look at that estimate\n",
    "brain = src_avg.plot(hemi='both', subjects_dir=fs_subjects_dir, subject='fsaverage')"
   ]
  },
  {
   "cell_type": "code",
   "execution_count": null,
   "id": "09ecc3f8",
   "metadata": {},
   "outputs": [],
   "source": [
    "# Ah! That doesn't look at all like that one subject we looked at initially. Be careful of making \n",
    "# generalizations based on a single individual. "
   ]
  },
  {
   "cell_type": "code",
   "execution_count": null,
   "id": "4a9f2907",
   "metadata": {},
   "outputs": [],
   "source": [
    "# What about gamma - - I seem to remember that there is a gamma response to \n",
    "# many sensory stimuli, including somatosensory."
   ]
  },
  {
   "cell_type": "code",
   "execution_count": null,
   "id": "a7b986b9",
   "metadata": {},
   "outputs": [],
   "source": [
    "# Let's see what happens if we look at power changes in gamma over time. "
   ]
  },
  {
   "cell_type": "code",
   "execution_count": null,
   "id": "2fb952c3",
   "metadata": {
    "scrolled": true
   },
   "outputs": [],
   "source": [
    "subject = 'ON02811'\n",
    "fs_subject = 'sub-' + subject\n",
    "data_dict = nih2mne.utilities.bids_helpers.get_mri_dict(subject,bids_root, task='airpuff')\n",
    "bids_path = BIDSPath(root=bids_root, subject=subject, task='airpuff', run='01',session='01')\n",
    "# load in all the MRI stuff\n",
    "bem = data_dict['bem'].load()\n",
    "fwd = data_dict['fwd'].load()\n",
    "src = fwd['src']\n",
    "trans = data_dict['trans'].load()\n",
    "# load the raw data\n",
    "raw = mne.io.read_raw_ctf(bids_path.fpath, clean_names=True, preload=True, verbose=False)\n",
    "# Filter for gamma\n",
    "gamma=raw.copy().filter(30,50)"
   ]
  },
  {
   "cell_type": "code",
   "execution_count": null,
   "id": "7d6fa41c",
   "metadata": {},
   "outputs": [],
   "source": [
    "# Let's at power - that's where we can use our Hilbert envelope, right? \n",
    "gamma_hilbert = gamma.copy()\n",
    "gamma_hilbert.apply_hilbert(envelope=True)\n",
    "evts, evtsid = mne.events_from_annotations(raw)\n",
    "epochs_gamma_hilbert = mne.Epochs(gamma_hilbert, evts, evtsid, tmin=-0.1, tmax=0.3, preload=True)\n",
    "evoked_gamma_hilbert_stim = epochs_gamma_hilbert['stim'].average()\n",
    "evoked_gamma_hilbert_missingstim = epochs_gamma_hilbert['missingstim'].average()\n",
    "_=evoked_gamma_hilbert_stim.plot()\n",
    "_=evoked_gamma_hilbert_missingstim.plot()"
   ]
  },
  {
   "cell_type": "code",
   "execution_count": null,
   "id": "aa84cce5",
   "metadata": {},
   "outputs": [],
   "source": [
    "# Wait a second, where is it? Well, this is the difference between evoked and induced\n",
    "# responses. The power in the gamma band doesn't really change that much. \n",
    "# This is actually an evoked gamma response - gamma is in phase post-stimulus, so it doesn't average out. "
   ]
  },
  {
   "cell_type": "code",
   "execution_count": null,
   "id": "a0127cc0",
   "metadata": {},
   "outputs": [],
   "source": [
    "epochs_gamma = mne.Epochs(gamma, evts, evtsid, tmin=-0.1, tmax=0.3, preload=True)\n",
    "evoked_gamma_stim = epochs_gamma['stim'].average()\n",
    "#evoked_gamma_missingstim = epochs_gamma['missingstim'].average()\n",
    "_=evoked_gamma_stim.plot()\n",
    "#_=evoked_gamma_missingstim.plot()"
   ]
  },
  {
   "cell_type": "code",
   "execution_count": null,
   "id": "1edb779e",
   "metadata": {},
   "outputs": [],
   "source": [
    "# Ah yes, there's our response! "
   ]
  },
  {
   "cell_type": "code",
   "execution_count": null,
   "id": "2da84b60",
   "metadata": {},
   "outputs": [],
   "source": [
    "# What happens if we take the Hilbert envelope of *that* \n",
    "evoked_gamma_stim_hilbert=evoked_gamma_stim.copy()\n",
    "evoked_gamma_stim_hilbert.apply_hilbert(envelope=True)\n",
    "_=evoked_gamma_stim_hilbert.plot()"
   ]
  },
  {
   "cell_type": "code",
   "execution_count": null,
   "id": "cb75b95a",
   "metadata": {},
   "outputs": [],
   "source": [
    "# So the trick is that if we average FIRST and THEN take the Hilbert, the in phase signals \n",
    "# add and the out of phase signals cancel out. If we take the Hilbert FIRST, before the averaging, we don't\n",
    "# capture that this is really a change in phase."
   ]
  },
  {
   "cell_type": "code",
   "execution_count": null,
   "id": "73a2d2ab",
   "metadata": {},
   "outputs": [],
   "source": [
    "# How do we project that into source space? "
   ]
  },
  {
   "cell_type": "code",
   "execution_count": null,
   "id": "b18a6ed7",
   "metadata": {
    "scrolled": true
   },
   "outputs": [],
   "source": [
    "# If there was a power change, we could do this:\n",
    "\n",
    "# covariance for the whole time interval\n",
    "cov_all_gamma = mne.compute_covariance(epochs_gamma, tmin=-0.1, tmax = 0.2, n_jobs=n_jobs)\n",
    "# covariance just for the baseline\n",
    "cov_baseline_gamma = mne.compute_covariance(epochs_gamma, tmin=-0.1, tmax = 0.0, n_jobs=n_jobs)\n",
    "# covariance just for the post-stimulus period\n",
    "cov_stim_gamma = mne.compute_covariance(epochs_gamma['stim'], tmin=0.0, tmax = 0.1, n_jobs=n_jobs)\n",
    "# missing stim, cuz why not\n",
    "cov_missingstim_gamma = mne.compute_covariance(epochs_gamma['missingstim'], tmin=0.0, tmax = 0.1, n_jobs=n_jobs)\n",
    "# make the beamformer weights using the whole intervall\n",
    "filters_gamma = mne.beamformer.make_lcmv(epochs_gamma.info, fwd, cov_all_gamma, reg=0.05, pick_ori='max-power',\n",
    "                                   noise_cov = noise_cov, weight_norm='unit-noise-gain')\n",
    "# get a source map (not a time course) for the stim, baseline, and contrast\n",
    "stc_stim_gamma = mne.beamformer.apply_lcmv_cov(cov_stim_gamma, filters_gamma)\n",
    "stc_baseline_gamma = mne.beamformer.apply_lcmv_cov(cov_baseline_gamma, filters_gamma)\n",
    "stc_contrast = stc_stim_gamma/stc_baseline_gamma"
   ]
  },
  {
   "cell_type": "code",
   "execution_count": null,
   "id": "74d34f40",
   "metadata": {},
   "outputs": [],
   "source": [
    "brain=stc_contrast.plot(hemi='both', subjects_dir=fs_subjects_dir, subject=fs_subject)"
   ]
  },
  {
   "cell_type": "code",
   "execution_count": null,
   "id": "69792ab7",
   "metadata": {},
   "outputs": [],
   "source": [
    "# That's not what I expected! But it's the same thing - total power isn't changing much, it's that the gamma \n",
    "# oscillations are in phase post stimulus. But how do we make an image of That?"
   ]
  },
  {
   "cell_type": "code",
   "execution_count": null,
   "id": "13f312f8",
   "metadata": {},
   "outputs": [],
   "source": [
    "# Remember how we took the hilbert \n",
    "epochs_gamma_hilbert=epochs_gamma.copy()\n",
    "# But here - we won't take the envelope - we'll keep the complex signal\n",
    "epochs_gamma_hilbert.apply_hilbert()\n",
    "evoked_gamma_hilbert_xform = epochs_gamma_hilbert['stim'].average()\n",
    "cov_all_gamma = mne.compute_covariance(epochs_gamma_hilbert, tmin=-0.1, tmax = 0.2, n_jobs=n_jobs)\n",
    "filters_gamma = mne.beamformer.make_lcmv(epochs_gamma_hilbert.info, fwd, cov_all_gamma, reg=0.05, \n",
    "                                pick_ori='max-power',\n",
    "                                noise_cov = noise_cov, weight_norm='unit-noise-gain')\n",
    "stc_stim_gamma = mne.beamformer.apply_lcmv(evoked_gamma_hilbert_xform, filters_gamma)\n",
    "# Now here, we take the abs of the signal to get the envelope\n",
    "stc_stim_gamma = abs(stc_stim_gamma)\n"
   ]
  },
  {
   "cell_type": "code",
   "execution_count": null,
   "id": "7e2ca7df",
   "metadata": {},
   "outputs": [],
   "source": [
    "brain=stc_stim_gamma.plot(hemi='both', subjects_dir=fs_subjects_dir, subject=fs_subject)"
   ]
  },
  {
   "cell_type": "code",
   "execution_count": null,
   "id": "20bee2fd",
   "metadata": {},
   "outputs": [],
   "source": [
    "# placement is a little off, but there's are response! "
   ]
  },
  {
   "cell_type": "code",
   "execution_count": null,
   "id": "032f944b",
   "metadata": {},
   "outputs": [],
   "source": [
    "# Let's create these images for all subjects. But this time, let's use a volumetric source space, so that \n",
    "# we can make nifti images "
   ]
  },
  {
   "cell_type": "code",
   "execution_count": null,
   "id": "1306d26c",
   "metadata": {
    "scrolled": true
   },
   "outputs": [],
   "source": [
    "import nibabel as nib\n",
    "# declare a few empty lists to hold the source estimates\n",
    "\n",
    "stcs_stim=[]\n",
    "stcs_missingstim=[]\n",
    "stcs_contrast=[]\n",
    "vol_srcs=[]\n",
    "for subject in subjects:\n",
    "    # filenames and load MRI files\n",
    "    fs_subject = 'sub-' + subject\n",
    "    data_dict = nih2mne.utilities.bids_helpers.get_mri_dict(subject,bids_root, task='airpuff')\n",
    "    bem = data_dict['bem'].load()\n",
    "    trans = data_dict['trans'].load()\n",
    "    #Load the Raw data\n",
    "    bids_path = BIDSPath(root=bids_root, subject=subject, task='airpuff', run='01',session='01')\n",
    "    raw = mne.io.read_raw_ctf(bids_path.fpath, clean_names=True, preload=True, verbose=False)\n",
    "    # filter for alpha        \n",
    "    surface = op.join(fs_subjects_dir, fs_subject, 'bem',\"inner_skull.surf\")\n",
    "    vol_src=mne.setup_volume_source_space(subject=fs_subject,subjects_dir=fs_subjects_dir,surface=surface)\n",
    "    vol_srcs.append(vol_src)\n",
    "    vol_fwd=mne.make_forward_solution(raw.info,trans,vol_src,bem=bem)\n",
    "    gamma=raw.copy().filter(30,50)\n",
    "\n",
    "    epochs_gamma = mne.Epochs(gamma, evts, evtsid, tmin=-0.1, tmax=0.2, preload=True)\n",
    "    epochs_gamma_hilbert=epochs_gamma.copy()\n",
    "    epochs_gamma_hilbert.apply_hilbert()\n",
    "\n",
    "    evoked_gamma_hilbert_stim = epochs_gamma_hilbert['stim'].average()\n",
    "    evoked_gamma_hilbert_missingstim = epochs_gamma_hilbert['missingstim'].average()\n",
    "    \n",
    "    cov_all_gamma = mne.compute_covariance(epochs_gamma_hilbert, tmin=-0.1, tmax = 0.2, n_jobs=n_jobs)\n",
    "    filters_gamma = mne.beamformer.make_lcmv(epochs_gamma_hilbert.info, vol_fwd, cov_all_gamma, reg=0.05, \n",
    "                                pick_ori='max-power',\n",
    "                                   noise_cov = noise_cov, weight_norm='unit-noise-gain')\n",
    "    stc_stim_gamma = mne.beamformer.apply_lcmv(evoked_gamma_hilbert_stim, filters_gamma)\n",
    "    stc_stim_gamma = abs(stc_stim_gamma)\n",
    "    stc_missingstim_gamma = mne.beamformer.apply_lcmv(evoked_gamma_hilbert_missingstim, filters_gamma)\n",
    "    stc_missingstim_gamma = abs(stc_missingstim_gamma)\n",
    "    stcs_stim.append(stc_stim_gamma)\n",
    "    stcs_missingstim.append(stc_missingstim_gamma)\n",
    "    #niftiimg=stc_stim_gamma.as_volume(vol_src,dest='mri')\n",
    "    #fname=op.join(output_dir,f'{fs_subject}_stim_image.nii')\n",
    "    #nib.save(niftiimg,fname)\n",
    "    #niftiimg=stc_missingstim_gamma.as_volume(vol_src,dest='mri')\n",
    "    #fname=op.join(output_dir,f'{fs_subject}_missingstim_image.nii')\n",
    "    #nib.save(niftiimg,fname)"
   ]
  },
  {
   "cell_type": "code",
   "execution_count": null,
   "id": "64655422",
   "metadata": {},
   "outputs": [],
   "source": [
    "# Look at any of the subjects\n",
    "subjnum=0\n",
    "_=stcs_stim[subjnum].plot(mode=\"stat_map\", src=vol_srcs[subjnum], subject=fs_subjects[subjnum], \n",
    "                          subjects_dir=fs_subjects_dir)\n",
    "_=stcs_missingstim[subjnum].plot(mode=\"stat_map\", src=vol_srcs[subjnum], subject=fs_subjects[subjnum], \n",
    "                          subjects_dir=fs_subjects_dir)"
   ]
  },
  {
   "cell_type": "code",
   "execution_count": null,
   "id": "c737e71d",
   "metadata": {},
   "outputs": [],
   "source": []
  }
 ],
 "metadata": {
  "kernelspec": {
   "display_name": "Python 3 (ipykernel)",
   "language": "python",
   "name": "python3"
  },
  "language_info": {
   "codemirror_mode": {
    "name": "ipython",
    "version": 3
   },
   "file_extension": ".py",
   "mimetype": "text/x-python",
   "name": "python",
   "nbconvert_exporter": "python",
   "pygments_lexer": "ipython3",
   "version": "3.11.5"
  }
 },
 "nbformat": 4,
 "nbformat_minor": 5
}
