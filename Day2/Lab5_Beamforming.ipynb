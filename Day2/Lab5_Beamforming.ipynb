{
 "cells": [
  {
   "cell_type": "code",
   "execution_count": null,
   "id": "6d185859",
   "metadata": {},
   "outputs": [],
   "source": [
    "import mne\n",
    "import mne_bids\n",
    "from mne_bids import BIDSPath\n",
    "import os, os.path as op\n",
    "import nilearn\n",
    "import matplotlib.pyplot as plt\n",
    "import numpy as np\n",
    "import nih2mne\n",
    "\n",
    "#from nilearn import *\n",
    "from nih2mne.utilities.bids_helpers import get_mri_dict\n",
    "n_jobs = 10 #Number of parrallel operations"
   ]
  },
  {
   "cell_type": "code",
   "execution_count": null,
   "id": "a8437875",
   "metadata": {},
   "outputs": [],
   "source": [
    "# first let's set up directories\n",
    "\n",
    "bids_root = '/Users/nugenta/meg_workshop_data'\n",
    "#bids_root = op.join('/data',os.environ['USER'], 'meg_workshop_data') \n",
    "deriv_root = op.join(bids_root, 'derivatives')\n",
    "project_root = op.join(deriv_root, 'Day1')\n",
    "fs_subjects_dir = op.join(deriv_root,'freesurfer','subjects')"
   ]
  },
  {
   "cell_type": "code",
   "execution_count": null,
   "id": "221258a1",
   "metadata": {},
   "outputs": [],
   "source": [
    "# pick a subject\n",
    "\n",
    "subject = 'ON03748'\n",
    "fs_subject = 'sub-' + subject\n",
    "data_dict = nih2mne.utilities.bids_helpers.get_mri_dict(subject,bids_root, task='airpuff')"
   ]
  },
  {
   "cell_type": "code",
   "execution_count": null,
   "id": "53c6b276",
   "metadata": {},
   "outputs": [],
   "source": [
    "# load in all the MRI stuff\n",
    "\n",
    "bem = data_dict['bem'].load()\n",
    "fwd = data_dict['fwd'].load()\n",
    "src = fwd['src']\n",
    "trans = data_dict['trans'].load()"
   ]
  },
  {
   "cell_type": "code",
   "execution_count": null,
   "id": "c6038309",
   "metadata": {
    "scrolled": true
   },
   "outputs": [],
   "source": [
    "#Load the Raw data\n",
    "bids_path = BIDSPath(root=bids_root, subject=subject, task='airpuff', run='01',session='01')\n",
    "raw = mne.io.read_raw_ctf(bids_path.fpath, clean_names=True, preload=True, verbose=False)\n",
    "# put a bandpass on the raw, and a notch\n",
    "raw.filter(0.3, 50, n_jobs=n_jobs)\n",
    "raw.notch_filter(freqs=[60])\n",
    "# also make some filtered data in individual bands for later\n",
    "theta=raw.copy().filter(4,8)\n",
    "alpha=raw.copy().filter(8,12)\n",
    "gamma=raw.copy().filter(30,50)"
   ]
  },
  {
   "cell_type": "code",
   "execution_count": null,
   "id": "d5b8b841",
   "metadata": {},
   "outputs": [],
   "source": [
    "# We also want to load in the empty room dataset so we can calculate a noise covariance \n",
    "bids_path = BIDSPath(root=bids_root, subject=subject, task='noise', run='01',session='01')\n",
    "noise = mne.io.read_raw_ctf(bids_path.fpath, clean_names=True, preload=True, verbose=False)\n",
    "nosie_alpha = noise.copy().filter(8,12)"
   ]
  },
  {
   "cell_type": "code",
   "execution_count": null,
   "id": "b1373c81",
   "metadata": {},
   "outputs": [],
   "source": [
    "# Now lets extract the events, make epochs\n",
    "evts, evtsid = mne.events_from_annotations(raw)\n",
    "epochs = mne.Epochs(raw, evts, evtsid, tmin=-0.1, tmax=0.2, preload=True)\n",
    "\n",
    "# make the filtered epochs as well\n",
    "epochs_alpha = mne.Epochs(alpha, evts, evtsid, tmin=-0.1, tmax=0.2, preload=True)\n",
    "epochs_theta = mne.Epochs(theta, evts, evtsid, tmin=-0.1, tmax=0.2, preload=True)\n",
    "epochs_gamma = mne.Epochs(gamma, evts, evtsid, tmin=-0.1, tmax=0.2, preload=True)\n",
    "\n",
    "# let's also average the epochs to visualize the evoked responses\n",
    "evk_stim = epochs['stim'].average()\n",
    "evk_missingstim = epochs['missingstim'].average()"
   ]
  },
  {
   "cell_type": "code",
   "execution_count": null,
   "id": "8a539dba",
   "metadata": {},
   "outputs": [],
   "source": [
    "%matplotlib inline\n",
    "_=evk_stim.plot()\n",
    "_=evk_missingstim.plot()"
   ]
  },
  {
   "cell_type": "code",
   "execution_count": null,
   "id": "45806c12",
   "metadata": {},
   "outputs": [],
   "source": [
    "cov_all = mne.compute_covariance(epochs, tmin=-0.1, tmax = 0.2, n_jobs=n_jobs)"
   ]
  },
  {
   "cell_type": "code",
   "execution_count": null,
   "id": "eaef777b",
   "metadata": {},
   "outputs": [],
   "source": [
    "noise_cov = mne.make_ad_hoc_cov(raw.info)"
   ]
  },
  {
   "cell_type": "code",
   "execution_count": null,
   "id": "017d7113",
   "metadata": {},
   "outputs": [],
   "source": [
    "# Let's say we want to project the evoked response into source space\n",
    "# notice here that I'm using the covariance from ALL the marks, not just the stimuli\n",
    "filters = mne.beamformer.make_lcmv(evk_stim.info, fwd, cov_all, reg=0.05, pick_ori='max-power',\n",
    "                                   noise_cov = noise_cov, weight_norm='unit-noise-gain')"
   ]
  },
  {
   "cell_type": "code",
   "execution_count": null,
   "id": "cf80bcf5",
   "metadata": {},
   "outputs": [],
   "source": [
    "stc=mne.beamformer.apply_lcmv(evk_stim, filters)"
   ]
  },
  {
   "cell_type": "code",
   "execution_count": null,
   "id": "f542e224",
   "metadata": {},
   "outputs": [],
   "source": [
    "brain=stc.plot(hemi='both', subjects_dir=fs_subjects_dir, subject=fs_subject)"
   ]
  },
  {
   "cell_type": "code",
   "execution_count": null,
   "id": "81328ccf",
   "metadata": {},
   "outputs": [],
   "source": [
    "# You probably noticed the dreaded Beamformer Sign Ambiguity "
   ]
  },
  {
   "cell_type": "code",
   "execution_count": null,
   "id": "9af7c0d4",
   "metadata": {},
   "outputs": [],
   "source": [
    "# what happens if we use the normals from the freesurfer cortical surface? \n",
    "fwd_src_ori = mne.convert_forward_solution(fwd, surf_ori=True)\n",
    "filters_src_ori = mne.beamformer.make_lcmv(evk_stim.info, fwd_src_ori, cov_all, reg=0.05, pick_ori='normal',\n",
    "                                   noise_cov = noise_cov, weight_norm='unit-noise-gain')\n",
    "stc_src_ori=mne.beamformer.apply_lcmv(evk_stim, filters)"
   ]
  },
  {
   "cell_type": "code",
   "execution_count": null,
   "id": "53ef5592",
   "metadata": {},
   "outputs": [],
   "source": [
    "brain=stc_src_ori.plot(hemi='both', subjects_dir=fs_subjects_dir, subject=fs_subject)"
   ]
  },
  {
   "cell_type": "code",
   "execution_count": null,
   "id": "34211a1d",
   "metadata": {},
   "outputs": [],
   "source": [
    "# You might *think* that looks worse, but now, the sign of the output is following the surface. \n",
    "# In opposing sulci, the surface normals are oriented opposite eachother. "
   ]
  },
  {
   "cell_type": "code",
   "execution_count": null,
   "id": "30e0691e",
   "metadata": {},
   "outputs": [],
   "source": [
    "# Frequently what we do is to invoke a sign \"flip\""
   ]
  },
  {
   "cell_type": "code",
   "execution_count": null,
   "id": "fc4e00e0",
   "metadata": {},
   "outputs": [],
   "source": [
    "# I've figured out that index 166 corresponds to roughly the peak of the evoked response.\n",
    "# There are 8196 vertices\n",
    "for i in range(8196):\n",
    "    if stc.data[i,166] < 0:\n",
    "        stc.data[i,:] *= -1\n",
    "# You need to remember here, however, that you are also flipping vertices that aren't particularly active\n",
    "# so you'll also be ensuring that all the noise in that time point is positive."
   ]
  },
  {
   "cell_type": "code",
   "execution_count": null,
   "id": "4e93c660",
   "metadata": {},
   "outputs": [],
   "source": [
    "brain=stc.plot(hemi='both', subjects_dir=fs_subjects_dir, subject=fs_subject)"
   ]
  },
  {
   "cell_type": "code",
   "execution_count": null,
   "id": "badf1391",
   "metadata": {},
   "outputs": [],
   "source": [
    "# We can make the time course for the missing stim as well\n",
    "stc_missing=mne.beamformer.apply_lcmv(evk_missingstim, filters)"
   ]
  },
  {
   "cell_type": "code",
   "execution_count": null,
   "id": "72ae1924",
   "metadata": {},
   "outputs": [],
   "source": [
    "# plot it \n",
    "brain=stc_missing.plot(hemi='both', subjects_dir=fs_subjects_dir, subject=fs_subject)"
   ]
  },
  {
   "cell_type": "code",
   "execution_count": null,
   "id": "163675d8",
   "metadata": {},
   "outputs": [],
   "source": [
    "# interesting, there does seem to be something out around 150ms, doesn't there.... but again the flip thing..."
   ]
  },
  {
   "cell_type": "code",
   "execution_count": null,
   "id": "f1449711",
   "metadata": {},
   "outputs": [],
   "source": [
    "# Remember our time frequency plots for this person - wasn't there something in alpha around that time? \n",
    "# Maybe we should look at alpha power"
   ]
  },
  {
   "cell_type": "code",
   "execution_count": null,
   "id": "1bdf2f6c",
   "metadata": {
    "scrolled": true
   },
   "outputs": [],
   "source": [
    "cov_all_alpha = mne.compute_covariance(epochs_alpha, tmin=0.1, tmax = 0.2, n_jobs=n_jobs)\n",
    "cov_stim_alpha = mne.compute_covariance(epochs_alpha['stim'], tmin=.1, tmax = 0.2, n_jobs=n_jobs)\n",
    "cov_missingstim_alpha = mne.compute_covariance(epochs_alpha['missingstim'], tmin=0.1, tmax = 0.2, n_jobs=n_jobs)"
   ]
  },
  {
   "cell_type": "code",
   "execution_count": null,
   "id": "78f1cf4f",
   "metadata": {},
   "outputs": [],
   "source": [
    "filters_alpha = mne.beamformer.make_lcmv(epochs_alpha.info, fwd, cov_all_alpha, reg=0.05, noise_cov=noise_cov)"
   ]
  },
  {
   "cell_type": "code",
   "execution_count": null,
   "id": "89122e38",
   "metadata": {},
   "outputs": [],
   "source": [
    "stc_stim_alpha = mne.beamformer.apply_lcmv_cov(cov_stim_alpha, filters_alpha)\n",
    "stc_missing_alpha = mne.beamformer.apply_lcmv_cov(cov_missingstim_alpha, filters_alpha)"
   ]
  },
  {
   "cell_type": "code",
   "execution_count": null,
   "id": "c8811598",
   "metadata": {},
   "outputs": [],
   "source": [
    "stc_contrast.data=stc_stim_alpha.data/stc_missing_alpha.data"
   ]
  },
  {
   "cell_type": "code",
   "execution_count": null,
   "id": "1ae5485e",
   "metadata": {},
   "outputs": [],
   "source": [
    "brain=stc_contrast.plot(hemi='both', subjects_dir=fs_subjects_dir, subject=fs_subject)"
   ]
  },
  {
   "cell_type": "code",
   "execution_count": null,
   "id": "718ba96c",
   "metadata": {},
   "outputs": [],
   "source": []
  },
  {
   "cell_type": "code",
   "execution_count": null,
   "id": "81378d00",
   "metadata": {},
   "outputs": [],
   "source": [
    "# Okay, now lets loop over all the subjects!!\n",
    "subjects=['ON02811','ON03748','ON22671','ON42107','ON52662','ON61373','ON62003','']"
   ]
  },
  {
   "cell_type": "code",
   "execution_count": null,
   "id": "8e890dc1",
   "metadata": {},
   "outputs": [],
   "source": []
  },
  {
   "cell_type": "code",
   "execution_count": null,
   "id": "b1f52d06",
   "metadata": {},
   "outputs": [],
   "source": []
  },
  {
   "cell_type": "code",
   "execution_count": null,
   "id": "cc88cc93",
   "metadata": {},
   "outputs": [],
   "source": []
  },
  {
   "cell_type": "code",
   "execution_count": null,
   "id": "442835d7",
   "metadata": {},
   "outputs": [],
   "source": []
  }
 ],
 "metadata": {
  "kernelspec": {
   "display_name": "Python [conda env:mne2022]",
   "language": "python",
   "name": "conda-env-mne2022-py"
  },
  "language_info": {
   "codemirror_mode": {
    "name": "ipython",
    "version": 3
   },
   "file_extension": ".py",
   "mimetype": "text/x-python",
   "name": "python",
   "nbconvert_exporter": "python",
   "pygments_lexer": "ipython3",
   "version": "3.10.8"
  }
 },
 "nbformat": 4,
 "nbformat_minor": 5
}
